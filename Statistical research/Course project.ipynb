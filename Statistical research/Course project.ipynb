{
 "cells": [
  {
   "cell_type": "code",
   "execution_count": 2,
   "metadata": {},
   "outputs": [],
   "source": [
    "import pandas as pd\n",
    "import matplotlib.pyplot as plt\n",
    "import numpy as np"
   ]
  },
  {
   "cell_type": "code",
   "execution_count": 3,
   "metadata": {},
   "outputs": [],
   "source": [
    "df = pd.read_csv(\"avocado.csv\")"
   ]
  },
  {
   "cell_type": "code",
   "execution_count": 4,
   "metadata": {},
   "outputs": [
    {
     "data": {
      "text/html": [
       "<div>\n",
       "<style scoped>\n",
       "    .dataframe tbody tr th:only-of-type {\n",
       "        vertical-align: middle;\n",
       "    }\n",
       "\n",
       "    .dataframe tbody tr th {\n",
       "        vertical-align: top;\n",
       "    }\n",
       "\n",
       "    .dataframe thead th {\n",
       "        text-align: right;\n",
       "    }\n",
       "</style>\n",
       "<table border=\"1\" class=\"dataframe\">\n",
       "  <thead>\n",
       "    <tr style=\"text-align: right;\">\n",
       "      <th></th>\n",
       "      <th>Unnamed: 0</th>\n",
       "      <th>Date</th>\n",
       "      <th>AveragePrice</th>\n",
       "      <th>Total Volume</th>\n",
       "      <th>4046</th>\n",
       "      <th>4225</th>\n",
       "      <th>4770</th>\n",
       "      <th>Total Bags</th>\n",
       "      <th>Small Bags</th>\n",
       "      <th>Large Bags</th>\n",
       "      <th>XLarge Bags</th>\n",
       "      <th>type</th>\n",
       "      <th>year</th>\n",
       "      <th>region</th>\n",
       "    </tr>\n",
       "  </thead>\n",
       "  <tbody>\n",
       "    <tr>\n",
       "      <th>0</th>\n",
       "      <td>0</td>\n",
       "      <td>2015-12-27</td>\n",
       "      <td>1.33</td>\n",
       "      <td>64236.62</td>\n",
       "      <td>1036.74</td>\n",
       "      <td>54454.85</td>\n",
       "      <td>48.16</td>\n",
       "      <td>8696.87</td>\n",
       "      <td>8603.62</td>\n",
       "      <td>93.25</td>\n",
       "      <td>0.0</td>\n",
       "      <td>conventional</td>\n",
       "      <td>2015</td>\n",
       "      <td>Albany</td>\n",
       "    </tr>\n",
       "    <tr>\n",
       "      <th>1</th>\n",
       "      <td>1</td>\n",
       "      <td>2015-12-20</td>\n",
       "      <td>1.35</td>\n",
       "      <td>54876.98</td>\n",
       "      <td>674.28</td>\n",
       "      <td>44638.81</td>\n",
       "      <td>58.33</td>\n",
       "      <td>9505.56</td>\n",
       "      <td>9408.07</td>\n",
       "      <td>97.49</td>\n",
       "      <td>0.0</td>\n",
       "      <td>conventional</td>\n",
       "      <td>2015</td>\n",
       "      <td>Albany</td>\n",
       "    </tr>\n",
       "    <tr>\n",
       "      <th>2</th>\n",
       "      <td>2</td>\n",
       "      <td>2015-12-13</td>\n",
       "      <td>0.93</td>\n",
       "      <td>118220.22</td>\n",
       "      <td>794.70</td>\n",
       "      <td>109149.67</td>\n",
       "      <td>130.50</td>\n",
       "      <td>8145.35</td>\n",
       "      <td>8042.21</td>\n",
       "      <td>103.14</td>\n",
       "      <td>0.0</td>\n",
       "      <td>conventional</td>\n",
       "      <td>2015</td>\n",
       "      <td>Albany</td>\n",
       "    </tr>\n",
       "    <tr>\n",
       "      <th>3</th>\n",
       "      <td>3</td>\n",
       "      <td>2015-12-06</td>\n",
       "      <td>1.08</td>\n",
       "      <td>78992.15</td>\n",
       "      <td>1132.00</td>\n",
       "      <td>71976.41</td>\n",
       "      <td>72.58</td>\n",
       "      <td>5811.16</td>\n",
       "      <td>5677.40</td>\n",
       "      <td>133.76</td>\n",
       "      <td>0.0</td>\n",
       "      <td>conventional</td>\n",
       "      <td>2015</td>\n",
       "      <td>Albany</td>\n",
       "    </tr>\n",
       "    <tr>\n",
       "      <th>4</th>\n",
       "      <td>4</td>\n",
       "      <td>2015-11-29</td>\n",
       "      <td>1.28</td>\n",
       "      <td>51039.60</td>\n",
       "      <td>941.48</td>\n",
       "      <td>43838.39</td>\n",
       "      <td>75.78</td>\n",
       "      <td>6183.95</td>\n",
       "      <td>5986.26</td>\n",
       "      <td>197.69</td>\n",
       "      <td>0.0</td>\n",
       "      <td>conventional</td>\n",
       "      <td>2015</td>\n",
       "      <td>Albany</td>\n",
       "    </tr>\n",
       "  </tbody>\n",
       "</table>\n",
       "</div>"
      ],
      "text/plain": [
       "   Unnamed: 0        Date  AveragePrice  Total Volume     4046       4225  \\\n",
       "0           0  2015-12-27          1.33      64236.62  1036.74   54454.85   \n",
       "1           1  2015-12-20          1.35      54876.98   674.28   44638.81   \n",
       "2           2  2015-12-13          0.93     118220.22   794.70  109149.67   \n",
       "3           3  2015-12-06          1.08      78992.15  1132.00   71976.41   \n",
       "4           4  2015-11-29          1.28      51039.60   941.48   43838.39   \n",
       "\n",
       "     4770  Total Bags  Small Bags  Large Bags  XLarge Bags          type  \\\n",
       "0   48.16     8696.87     8603.62       93.25          0.0  conventional   \n",
       "1   58.33     9505.56     9408.07       97.49          0.0  conventional   \n",
       "2  130.50     8145.35     8042.21      103.14          0.0  conventional   \n",
       "3   72.58     5811.16     5677.40      133.76          0.0  conventional   \n",
       "4   75.78     6183.95     5986.26      197.69          0.0  conventional   \n",
       "\n",
       "   year  region  \n",
       "0  2015  Albany  \n",
       "1  2015  Albany  \n",
       "2  2015  Albany  \n",
       "3  2015  Albany  \n",
       "4  2015  Albany  "
      ]
     },
     "execution_count": 4,
     "metadata": {},
     "output_type": "execute_result"
    }
   ],
   "source": [
    "df.head()"
   ]
  },
  {
   "cell_type": "code",
   "execution_count": 5,
   "metadata": {},
   "outputs": [
    {
     "name": "stdout",
     "output_type": "stream",
     "text": [
      "<class 'pandas.core.frame.DataFrame'>\n",
      "RangeIndex: 18249 entries, 0 to 18248\n",
      "Data columns (total 14 columns):\n",
      "Unnamed: 0      18249 non-null int64\n",
      "Date            18249 non-null object\n",
      "AveragePrice    18249 non-null float64\n",
      "Total Volume    18249 non-null float64\n",
      "4046            18249 non-null float64\n",
      "4225            18249 non-null float64\n",
      "4770            18249 non-null float64\n",
      "Total Bags      18249 non-null float64\n",
      "Small Bags      18249 non-null float64\n",
      "Large Bags      18249 non-null float64\n",
      "XLarge Bags     18249 non-null float64\n",
      "type            18249 non-null object\n",
      "year            18249 non-null int64\n",
      "region          18249 non-null object\n",
      "dtypes: float64(9), int64(2), object(3)\n",
      "memory usage: 1.9+ MB\n"
     ]
    }
   ],
   "source": [
    "df.info()"
   ]
  },
  {
   "cell_type": "markdown",
   "metadata": {},
   "source": [
    "Поставим задачи по исследованию данного датасета:\n",
    "1. Изучим взаимосвязь переменных\n",
    "2. Проведем факторный анализ\n",
    "3. Проведем двухфакторный дисперсионный анализ (влияние региона и даты на среднюю цену)\n",
    "4. Построим линейную регрессию с целевой переменной - средней ценой\n",
    "5. Оценим качество и статистическую значимость построенной линейной регрессии"
   ]
  },
  {
   "cell_type": "markdown",
   "metadata": {},
   "source": [
    "Посмотрим на коэффициент корреляции Пирсона для наших признаков"
   ]
  },
  {
   "cell_type": "code",
   "execution_count": 6,
   "metadata": {},
   "outputs": [
    {
     "data": {
      "text/html": [
       "<div>\n",
       "<style scoped>\n",
       "    .dataframe tbody tr th:only-of-type {\n",
       "        vertical-align: middle;\n",
       "    }\n",
       "\n",
       "    .dataframe tbody tr th {\n",
       "        vertical-align: top;\n",
       "    }\n",
       "\n",
       "    .dataframe thead th {\n",
       "        text-align: right;\n",
       "    }\n",
       "</style>\n",
       "<table border=\"1\" class=\"dataframe\">\n",
       "  <thead>\n",
       "    <tr style=\"text-align: right;\">\n",
       "      <th></th>\n",
       "      <th>Unnamed: 0</th>\n",
       "      <th>AveragePrice</th>\n",
       "      <th>Total Volume</th>\n",
       "      <th>4046</th>\n",
       "      <th>4225</th>\n",
       "      <th>4770</th>\n",
       "      <th>Total Bags</th>\n",
       "      <th>Small Bags</th>\n",
       "      <th>Large Bags</th>\n",
       "      <th>XLarge Bags</th>\n",
       "      <th>year</th>\n",
       "    </tr>\n",
       "  </thead>\n",
       "  <tbody>\n",
       "    <tr>\n",
       "      <th>Unnamed: 0</th>\n",
       "      <td>1.000000</td>\n",
       "      <td>-0.133008</td>\n",
       "      <td>0.014035</td>\n",
       "      <td>0.017628</td>\n",
       "      <td>0.019829</td>\n",
       "      <td>0.041752</td>\n",
       "      <td>-0.002219</td>\n",
       "      <td>0.000347</td>\n",
       "      <td>-0.009196</td>\n",
       "      <td>-0.011546</td>\n",
       "      <td>-0.171667</td>\n",
       "    </tr>\n",
       "    <tr>\n",
       "      <th>AveragePrice</th>\n",
       "      <td>-0.133008</td>\n",
       "      <td>1.000000</td>\n",
       "      <td>-0.192752</td>\n",
       "      <td>-0.208317</td>\n",
       "      <td>-0.172928</td>\n",
       "      <td>-0.179446</td>\n",
       "      <td>-0.177088</td>\n",
       "      <td>-0.174730</td>\n",
       "      <td>-0.172940</td>\n",
       "      <td>-0.117592</td>\n",
       "      <td>0.093197</td>\n",
       "    </tr>\n",
       "    <tr>\n",
       "      <th>Total Volume</th>\n",
       "      <td>0.014035</td>\n",
       "      <td>-0.192752</td>\n",
       "      <td>1.000000</td>\n",
       "      <td>0.977863</td>\n",
       "      <td>0.974181</td>\n",
       "      <td>0.872202</td>\n",
       "      <td>0.963047</td>\n",
       "      <td>0.967238</td>\n",
       "      <td>0.880640</td>\n",
       "      <td>0.747157</td>\n",
       "      <td>0.017193</td>\n",
       "    </tr>\n",
       "    <tr>\n",
       "      <th>4046</th>\n",
       "      <td>0.017628</td>\n",
       "      <td>-0.208317</td>\n",
       "      <td>0.977863</td>\n",
       "      <td>1.000000</td>\n",
       "      <td>0.926110</td>\n",
       "      <td>0.833389</td>\n",
       "      <td>0.920057</td>\n",
       "      <td>0.925280</td>\n",
       "      <td>0.838645</td>\n",
       "      <td>0.699377</td>\n",
       "      <td>0.003353</td>\n",
       "    </tr>\n",
       "    <tr>\n",
       "      <th>4225</th>\n",
       "      <td>0.019829</td>\n",
       "      <td>-0.172928</td>\n",
       "      <td>0.974181</td>\n",
       "      <td>0.926110</td>\n",
       "      <td>1.000000</td>\n",
       "      <td>0.887855</td>\n",
       "      <td>0.905787</td>\n",
       "      <td>0.916031</td>\n",
       "      <td>0.810015</td>\n",
       "      <td>0.688809</td>\n",
       "      <td>-0.009559</td>\n",
       "    </tr>\n",
       "    <tr>\n",
       "      <th>4770</th>\n",
       "      <td>0.041752</td>\n",
       "      <td>-0.179446</td>\n",
       "      <td>0.872202</td>\n",
       "      <td>0.833389</td>\n",
       "      <td>0.887855</td>\n",
       "      <td>1.000000</td>\n",
       "      <td>0.792314</td>\n",
       "      <td>0.802733</td>\n",
       "      <td>0.698471</td>\n",
       "      <td>0.679861</td>\n",
       "      <td>-0.036531</td>\n",
       "    </tr>\n",
       "    <tr>\n",
       "      <th>Total Bags</th>\n",
       "      <td>-0.002219</td>\n",
       "      <td>-0.177088</td>\n",
       "      <td>0.963047</td>\n",
       "      <td>0.920057</td>\n",
       "      <td>0.905787</td>\n",
       "      <td>0.792314</td>\n",
       "      <td>1.000000</td>\n",
       "      <td>0.994335</td>\n",
       "      <td>0.943009</td>\n",
       "      <td>0.804233</td>\n",
       "      <td>0.071552</td>\n",
       "    </tr>\n",
       "    <tr>\n",
       "      <th>Small Bags</th>\n",
       "      <td>0.000347</td>\n",
       "      <td>-0.174730</td>\n",
       "      <td>0.967238</td>\n",
       "      <td>0.925280</td>\n",
       "      <td>0.916031</td>\n",
       "      <td>0.802733</td>\n",
       "      <td>0.994335</td>\n",
       "      <td>1.000000</td>\n",
       "      <td>0.902589</td>\n",
       "      <td>0.806845</td>\n",
       "      <td>0.063915</td>\n",
       "    </tr>\n",
       "    <tr>\n",
       "      <th>Large Bags</th>\n",
       "      <td>-0.009196</td>\n",
       "      <td>-0.172940</td>\n",
       "      <td>0.880640</td>\n",
       "      <td>0.838645</td>\n",
       "      <td>0.810015</td>\n",
       "      <td>0.698471</td>\n",
       "      <td>0.943009</td>\n",
       "      <td>0.902589</td>\n",
       "      <td>1.000000</td>\n",
       "      <td>0.710858</td>\n",
       "      <td>0.087891</td>\n",
       "    </tr>\n",
       "    <tr>\n",
       "      <th>XLarge Bags</th>\n",
       "      <td>-0.011546</td>\n",
       "      <td>-0.117592</td>\n",
       "      <td>0.747157</td>\n",
       "      <td>0.699377</td>\n",
       "      <td>0.688809</td>\n",
       "      <td>0.679861</td>\n",
       "      <td>0.804233</td>\n",
       "      <td>0.806845</td>\n",
       "      <td>0.710858</td>\n",
       "      <td>1.000000</td>\n",
       "      <td>0.081033</td>\n",
       "    </tr>\n",
       "    <tr>\n",
       "      <th>year</th>\n",
       "      <td>-0.171667</td>\n",
       "      <td>0.093197</td>\n",
       "      <td>0.017193</td>\n",
       "      <td>0.003353</td>\n",
       "      <td>-0.009559</td>\n",
       "      <td>-0.036531</td>\n",
       "      <td>0.071552</td>\n",
       "      <td>0.063915</td>\n",
       "      <td>0.087891</td>\n",
       "      <td>0.081033</td>\n",
       "      <td>1.000000</td>\n",
       "    </tr>\n",
       "  </tbody>\n",
       "</table>\n",
       "</div>"
      ],
      "text/plain": [
       "              Unnamed: 0  AveragePrice  Total Volume      4046      4225  \\\n",
       "Unnamed: 0      1.000000     -0.133008      0.014035  0.017628  0.019829   \n",
       "AveragePrice   -0.133008      1.000000     -0.192752 -0.208317 -0.172928   \n",
       "Total Volume    0.014035     -0.192752      1.000000  0.977863  0.974181   \n",
       "4046            0.017628     -0.208317      0.977863  1.000000  0.926110   \n",
       "4225            0.019829     -0.172928      0.974181  0.926110  1.000000   \n",
       "4770            0.041752     -0.179446      0.872202  0.833389  0.887855   \n",
       "Total Bags     -0.002219     -0.177088      0.963047  0.920057  0.905787   \n",
       "Small Bags      0.000347     -0.174730      0.967238  0.925280  0.916031   \n",
       "Large Bags     -0.009196     -0.172940      0.880640  0.838645  0.810015   \n",
       "XLarge Bags    -0.011546     -0.117592      0.747157  0.699377  0.688809   \n",
       "year           -0.171667      0.093197      0.017193  0.003353 -0.009559   \n",
       "\n",
       "                  4770  Total Bags  Small Bags  Large Bags  XLarge Bags  \\\n",
       "Unnamed: 0    0.041752   -0.002219    0.000347   -0.009196    -0.011546   \n",
       "AveragePrice -0.179446   -0.177088   -0.174730   -0.172940    -0.117592   \n",
       "Total Volume  0.872202    0.963047    0.967238    0.880640     0.747157   \n",
       "4046          0.833389    0.920057    0.925280    0.838645     0.699377   \n",
       "4225          0.887855    0.905787    0.916031    0.810015     0.688809   \n",
       "4770          1.000000    0.792314    0.802733    0.698471     0.679861   \n",
       "Total Bags    0.792314    1.000000    0.994335    0.943009     0.804233   \n",
       "Small Bags    0.802733    0.994335    1.000000    0.902589     0.806845   \n",
       "Large Bags    0.698471    0.943009    0.902589    1.000000     0.710858   \n",
       "XLarge Bags   0.679861    0.804233    0.806845    0.710858     1.000000   \n",
       "year         -0.036531    0.071552    0.063915    0.087891     0.081033   \n",
       "\n",
       "                  year  \n",
       "Unnamed: 0   -0.171667  \n",
       "AveragePrice  0.093197  \n",
       "Total Volume  0.017193  \n",
       "4046          0.003353  \n",
       "4225         -0.009559  \n",
       "4770         -0.036531  \n",
       "Total Bags    0.071552  \n",
       "Small Bags    0.063915  \n",
       "Large Bags    0.087891  \n",
       "XLarge Bags   0.081033  \n",
       "year          1.000000  "
      ]
     },
     "execution_count": 6,
     "metadata": {},
     "output_type": "execute_result"
    }
   ],
   "source": [
    "df.corr()"
   ]
  },
  {
   "cell_type": "markdown",
   "metadata": {},
   "source": [
    "Переменная TotalBags - это сумма переменных Small Bags, Large Bags и XLarge Bags. Поэтому коэффициент корреляции Пирсона для этих переменных близок к 1. Так же, мы видим что Total Volume достаточно сильно коррелирует с переменными 4046, 4225, 4770 и Total Bags. Таким образом, с помощью метода главных компонент, мы можем привести наши линейно зависимые факторы к меньшему числу линейно независимых. Для этого посмотрим на доли объясненной дисперсии."
   ]
  },
  {
   "cell_type": "code",
   "execution_count": 7,
   "metadata": {},
   "outputs": [],
   "source": [
    "data = df.copy()"
   ]
  },
  {
   "cell_type": "code",
   "execution_count": 8,
   "metadata": {},
   "outputs": [],
   "source": [
    "data = data.drop('Unnamed: 0', axis=1)"
   ]
  },
  {
   "cell_type": "code",
   "execution_count": 9,
   "metadata": {},
   "outputs": [],
   "source": [
    "data = data.drop('year', axis=1)"
   ]
  },
  {
   "cell_type": "code",
   "execution_count": 10,
   "metadata": {},
   "outputs": [],
   "source": [
    "data = data.drop('AveragePrice', axis=1)"
   ]
  },
  {
   "cell_type": "code",
   "execution_count": 11,
   "metadata": {},
   "outputs": [],
   "source": [
    "sigma2_total = data.var(axis=0).sum()"
   ]
  },
  {
   "cell_type": "code",
   "execution_count": 12,
   "metadata": {},
   "outputs": [
    {
     "data": {
      "text/plain": [
       "Total Volume    0.719450\n",
       "4046            0.096526\n",
       "4225            0.087460\n",
       "4770            0.000697\n",
       "Total Bags      0.058673\n",
       "Small Bags      0.033586\n",
       "Large Bags      0.003590\n",
       "XLarge Bags     0.000019\n",
       "dtype: float64"
      ]
     },
     "execution_count": 12,
     "metadata": {},
     "output_type": "execute_result"
    }
   ],
   "source": [
    "data.var(axis=0)/sigma2_total"
   ]
  },
  {
   "cell_type": "markdown",
   "metadata": {},
   "source": [
    "Таким образом, данные 8 признаков можно свести к 5 с обяъсненной дисперсией 0,995695"
   ]
  },
  {
   "cell_type": "code",
   "execution_count": 13,
   "metadata": {},
   "outputs": [],
   "source": [
    "Old_signs = np.array([data['Total Volume'], data['4046'], data['4225'], data['4770'], data['Total Bags'], data['Small Bags'],\\\n",
    "                     data['Large Bags'], data['XLarge Bags']])"
   ]
  },
  {
   "cell_type": "code",
   "execution_count": 14,
   "metadata": {},
   "outputs": [
    {
     "data": {
      "text/plain": [
       "(8, 18249)"
      ]
     },
     "execution_count": 14,
     "metadata": {},
     "output_type": "execute_result"
    }
   ],
   "source": [
    "Old_signs.shape"
   ]
  },
  {
   "cell_type": "code",
   "execution_count": 15,
   "metadata": {},
   "outputs": [],
   "source": [
    "means = np.array([Old_signs.T.mean(axis=0)])\n",
    "ones = np.ones((1,18249))\n",
    "means_matrix = means.T.dot(ones)"
   ]
  },
  {
   "cell_type": "code",
   "execution_count": 17,
   "metadata": {},
   "outputs": [],
   "source": [
    "covariance_matrix = np.cov(Old_signs, ddof=1)"
   ]
  },
  {
   "cell_type": "code",
   "execution_count": 18,
   "metadata": {},
   "outputs": [],
   "source": [
    "eig_values, eig_vectors = np.linalg.eig(covariance_matrix)"
   ]
  },
  {
   "cell_type": "code",
   "execution_count": 19,
   "metadata": {},
   "outputs": [
    {
     "data": {
      "text/plain": [
       "array([1.63121576e+13, 1.41871133e+11, 1.09809106e+11, 1.10044342e+10,\n",
       "       2.95317374e+09, 1.20818233e+08, 5.11930066e+02, 1.13534742e-03])"
      ]
     },
     "execution_count": 19,
     "metadata": {},
     "output_type": "execute_result"
    }
   ],
   "source": [
    "eig_values"
   ]
  },
  {
   "cell_type": "code",
   "execution_count": 20,
   "metadata": {},
   "outputs": [],
   "source": [
    "Old_signs = Old_signs - means_matrix"
   ]
  },
  {
   "cell_type": "markdown",
   "metadata": {},
   "source": [
    "Возьмем 5 первых собственных значений и соответствующих им собственных векторов, составим преобразующую матрицу из собственных векторов и найдем тем самым матрицу новых признаков."
   ]
  },
  {
   "cell_type": "code",
   "execution_count": 21,
   "metadata": {},
   "outputs": [
    {
     "data": {
      "text/plain": [
       "array([[ 8.55061262e-01,  3.06232053e-01,  2.90133294e-01,\n",
       "         2.31337735e-02,  2.35562170e-01],\n",
       "       [-5.80766605e-02, -1.21854716e-01, -5.45854077e-01,\n",
       "        -5.59563663e-02,  6.65583895e-01],\n",
       "       [ 1.29097713e-03, -7.87892857e-01,  5.58407431e-01,\n",
       "         3.03951034e-02,  2.00378007e-01],\n",
       "       [ 6.70978003e-02, -5.95030929e-02, -1.30753899e-02,\n",
       "        -1.41059136e-04,  1.39827233e-01],\n",
       "       [ 2.20170751e-01, -2.34365653e-01, -3.06853612e-01,\n",
       "         8.76957080e-01, -1.15562926e-01],\n",
       "       [-4.45884279e-02,  4.00229928e-02,  3.44668836e-02,\n",
       "         1.25787305e-01, -2.45034438e-01],\n",
       "       [ 4.58835777e-01, -4.58833833e-01, -4.58834467e-01,\n",
       "        -4.58839477e-01, -3.44105370e-01],\n",
       "       [ 4.85863645e-07, -4.84513779e-07, -4.86962395e-07,\n",
       "        -4.84703049e-07, -5.00000362e-01]])"
      ]
     },
     "execution_count": 21,
     "metadata": {},
     "output_type": "execute_result"
    }
   ],
   "source": [
    "T_matrix = np.array([eig_vectors[x] for x in range(0,5)]).T\n",
    "T_matrix"
   ]
  },
  {
   "cell_type": "code",
   "execution_count": 22,
   "metadata": {},
   "outputs": [
    {
     "data": {
      "text/plain": [
       "(18249, 5)"
      ]
     },
     "execution_count": 22,
     "metadata": {},
     "output_type": "execute_result"
    }
   ],
   "source": [
    "New_signs = Old_signs.T.dot(T_matrix)\n",
    "New_signs.shape"
   ]
  },
  {
   "cell_type": "code",
   "execution_count": 23,
   "metadata": {},
   "outputs": [
    {
     "data": {
      "text/html": [
       "<div>\n",
       "<style scoped>\n",
       "    .dataframe tbody tr th:only-of-type {\n",
       "        vertical-align: middle;\n",
       "    }\n",
       "\n",
       "    .dataframe tbody tr th {\n",
       "        vertical-align: top;\n",
       "    }\n",
       "\n",
       "    .dataframe thead th {\n",
       "        text-align: right;\n",
       "    }\n",
       "</style>\n",
       "<table border=\"1\" class=\"dataframe\">\n",
       "  <thead>\n",
       "    <tr style=\"text-align: right;\">\n",
       "      <th></th>\n",
       "      <th>0</th>\n",
       "      <th>1</th>\n",
       "      <th>2</th>\n",
       "      <th>3</th>\n",
       "      <th>4</th>\n",
       "    </tr>\n",
       "  </thead>\n",
       "  <tbody>\n",
       "    <tr>\n",
       "      <th>0</th>\n",
       "      <td>-725305.827960</td>\n",
       "      <td>57823.418985</td>\n",
       "      <td>-113127.787277</td>\n",
       "      <td>-208640.164764</td>\n",
       "      <td>-341553.980322</td>\n",
       "    </tr>\n",
       "    <tr>\n",
       "      <th>1</th>\n",
       "      <td>-733155.706794</td>\n",
       "      <td>62575.469205</td>\n",
       "      <td>-121349.330873</td>\n",
       "      <td>-208326.337058</td>\n",
       "      <td>-346257.533006</td>\n",
       "    </tr>\n",
       "    <tr>\n",
       "      <th>2</th>\n",
       "      <td>-679148.209645</td>\n",
       "      <td>31388.114061</td>\n",
       "      <td>-66646.963774</td>\n",
       "      <td>-206274.149156</td>\n",
       "      <td>-317829.535019</td>\n",
       "    </tr>\n",
       "    <tr>\n",
       "      <th>3</th>\n",
       "      <td>-713156.505730</td>\n",
       "      <td>49064.470188</td>\n",
       "      <td>-98348.819333</td>\n",
       "      <td>-210688.890624</td>\n",
       "      <td>-333463.816216</td>\n",
       "    </tr>\n",
       "    <tr>\n",
       "      <th>4</th>\n",
       "      <td>-736985.055227</td>\n",
       "      <td>62592.932811</td>\n",
       "      <td>-122200.389737</td>\n",
       "      <td>-211843.698369</td>\n",
       "      <td>-345953.740224</td>\n",
       "    </tr>\n",
       "  </tbody>\n",
       "</table>\n",
       "</div>"
      ],
      "text/plain": [
       "               0             1              2              3              4\n",
       "0 -725305.827960  57823.418985 -113127.787277 -208640.164764 -341553.980322\n",
       "1 -733155.706794  62575.469205 -121349.330873 -208326.337058 -346257.533006\n",
       "2 -679148.209645  31388.114061  -66646.963774 -206274.149156 -317829.535019\n",
       "3 -713156.505730  49064.470188  -98348.819333 -210688.890624 -333463.816216\n",
       "4 -736985.055227  62592.932811 -122200.389737 -211843.698369 -345953.740224"
      ]
     },
     "execution_count": 23,
     "metadata": {},
     "output_type": "execute_result"
    }
   ],
   "source": [
    "New_data = pd.DataFrame(New_signs)\n",
    "New_data.head()"
   ]
  },
  {
   "cell_type": "markdown",
   "metadata": {},
   "source": [
    "Теперь мы хотим изучить влияние даты и региона на переменную AvaragePrice. Для этого зафиксируем поле type. Таким образом мы получим для каждой пары дата - регион единственное значение целевой переменной."
   ]
  },
  {
   "cell_type": "code",
   "execution_count": 24,
   "metadata": {},
   "outputs": [],
   "source": [
    "data_2 = df.copy()"
   ]
  },
  {
   "cell_type": "code",
   "execution_count": 25,
   "metadata": {},
   "outputs": [
    {
     "data": {
      "text/plain": [
       "169"
      ]
     },
     "execution_count": 25,
     "metadata": {},
     "output_type": "execute_result"
    }
   ],
   "source": [
    "data_2.loc[data_2['type'] == 'conventional']['Date'].value_counts().count()"
   ]
  },
  {
   "cell_type": "code",
   "execution_count": 26,
   "metadata": {},
   "outputs": [
    {
     "data": {
      "text/plain": [
       "54"
      ]
     },
     "execution_count": 26,
     "metadata": {},
     "output_type": "execute_result"
    }
   ],
   "source": [
    "data_2.loc[data_2['type'] == 'conventional']['region'].value_counts().count()"
   ]
  },
  {
   "cell_type": "markdown",
   "metadata": {},
   "source": [
    "Таким образом мы имеем 169 уровней для фактора даты и 54 уровня для фактора региона. Составим матрицу значений для этих двух факторов."
   ]
  },
  {
   "cell_type": "code",
   "execution_count": 27,
   "metadata": {},
   "outputs": [],
   "source": [
    "def values_matrix(data):\n",
    "    res_matrix = []\n",
    "    for row in data['region'].value_counts().keys():\n",
    "        x = []\n",
    "        for column in data['Date'].value_counts().keys():\n",
    "            x = np.append(x, data.loc[data['Date'] == column].loc[data['region'] == row]['AveragePrice'])\n",
    "        if np.any(res_matrix):\n",
    "            try:\n",
    "                res_matrix = np.append(res_matrix, np.array([x]), axis=0)\n",
    "            except Exception as e:\n",
    "                print(e)\n",
    "                break\n",
    "        else:\n",
    "            res_matrix = np.array([x])\n",
    "    return res_matrix"
   ]
  },
  {
   "cell_type": "code",
   "execution_count": 28,
   "metadata": {},
   "outputs": [
    {
     "data": {
      "text/plain": [
       "array([[0.95, 0.9 , 1.13, ..., 1.31, 1.06, 1.  ],\n",
       "       [1.15, 0.9 , 1.31, ..., 1.32, 1.03, 0.92],\n",
       "       [1.29, 1.12, 1.48, ..., 1.4 , 1.2 , 1.3 ],\n",
       "       ...,\n",
       "       [1.55, 1.14, 1.75, ..., 1.7 , 1.45, 1.29],\n",
       "       [0.73, 0.7 , 0.9 , ..., 0.94, 0.72, 0.78],\n",
       "       [1.33, 1.17, 1.36, ..., 1.34, 1.23, 1.02]])"
      ]
     },
     "execution_count": 28,
     "metadata": {},
     "output_type": "execute_result"
    }
   ],
   "source": [
    "M = values_matrix(data_2.loc[data_2['type'] == 'conventional'])\n",
    "M"
   ]
  },
  {
   "cell_type": "code",
   "execution_count": 29,
   "metadata": {},
   "outputs": [
    {
     "data": {
      "text/plain": [
       "(54, 169)"
      ]
     },
     "execution_count": 29,
     "metadata": {},
     "output_type": "execute_result"
    }
   ],
   "source": [
    "M.shape"
   ]
  },
  {
   "cell_type": "code",
   "execution_count": 30,
   "metadata": {},
   "outputs": [],
   "source": [
    "def square_w(matrix):\n",
    "    res = 0\n",
    "    for i, elements in enumerate(matrix):\n",
    "        for j, element in enumerate(elements):\n",
    "            res += (element - matrix.mean(axis=1)[i] - matrix.mean(axis=0)[j] + matrix.mean())**2\n",
    "    return res"
   ]
  },
  {
   "cell_type": "code",
   "execution_count": 31,
   "metadata": {},
   "outputs": [
    {
     "data": {
      "text/plain": [
       "(169, 54)"
      ]
     },
     "execution_count": 31,
     "metadata": {},
     "output_type": "execute_result"
    }
   ],
   "source": [
    "m = M.shape[1]\n",
    "k = M.shape[0]\n",
    "m, k"
   ]
  },
  {
   "cell_type": "code",
   "execution_count": 32,
   "metadata": {},
   "outputs": [],
   "source": [
    "S2_date = k*((M.mean(axis=0)-M.mean())**2).sum()\n",
    "S2_region = m*((M.mean(axis=1)-M.mean())**2).sum()\n",
    "S2_w = square_w(M)"
   ]
  },
  {
   "cell_type": "code",
   "execution_count": 33,
   "metadata": {},
   "outputs": [],
   "source": [
    "sigma2_date = S2_date/(m-1)\n",
    "sigma2_region = S2_region/(k-1)\n",
    "sigma2_w = S2_w/((k-1)*(m-1))"
   ]
  },
  {
   "cell_type": "markdown",
   "metadata": {},
   "source": [
    "Статистики для проверки:"
   ]
  },
  {
   "cell_type": "code",
   "execution_count": 34,
   "metadata": {},
   "outputs": [
    {
     "data": {
      "text/plain": [
       "(103.99290096725106, 296.8705115087351)"
      ]
     },
     "execution_count": 34,
     "metadata": {},
     "output_type": "execute_result"
    }
   ],
   "source": [
    "F_date = sigma2_date/sigma2_w\n",
    "F_region = sigma2_region/sigma2_w\n",
    "F_date, F_region"
   ]
  },
  {
   "cell_type": "markdown",
   "metadata": {},
   "source": [
    "Теперь найдем критическое значение с помощью F-критерия фишера:"
   ]
  },
  {
   "cell_type": "code",
   "execution_count": 35,
   "metadata": {},
   "outputs": [],
   "source": [
    "from scipy import stats"
   ]
  },
  {
   "cell_type": "code",
   "execution_count": 36,
   "metadata": {},
   "outputs": [
    {
     "data": {
      "text/plain": [
       "(1.1881711421704246, 1.340974298402173)"
      ]
     },
     "execution_count": 36,
     "metadata": {},
     "output_type": "execute_result"
    }
   ],
   "source": [
    "alpha = 0.05\n",
    "f_crit_date = stats.f.ppf(1-alpha, m-1, m*k-m)\n",
    "f_crit_region = stats.f.ppf(1-alpha, k-1, m*k-k)\n",
    "f_crit_date, f_crit_region"
   ]
  },
  {
   "cell_type": "markdown",
   "metadata": {},
   "source": [
    "Значения статистик оказалось больше чем критические значения, а значит два этих фактора влияют на переменную AveragePrice"
   ]
  },
  {
   "cell_type": "markdown",
   "metadata": {},
   "source": [
    "К сожалнию для type = organic нам не хватает значений AveragePrice для некоторых пар даты-региона."
   ]
  },
  {
   "cell_type": "markdown",
   "metadata": {},
   "source": [
    "Теперь, построим новый датафрейм с нашими данными и построим линейную регрессию на полученных данных с целевой переменной AveragePrice"
   ]
  },
  {
   "cell_type": "code",
   "execution_count": 37,
   "metadata": {},
   "outputs": [],
   "source": [
    "l = New_data.copy()"
   ]
  },
  {
   "cell_type": "code",
   "execution_count": 38,
   "metadata": {},
   "outputs": [],
   "source": [
    "data_3 = df.copy()"
   ]
  },
  {
   "cell_type": "code",
   "execution_count": 39,
   "metadata": {},
   "outputs": [],
   "source": [
    "data_3 = data_3.drop('Unnamed: 0', axis=1)"
   ]
  },
  {
   "cell_type": "code",
   "execution_count": 40,
   "metadata": {},
   "outputs": [],
   "source": [
    "data_3 = data_3.drop('Total Volume', axis=1)"
   ]
  },
  {
   "cell_type": "code",
   "execution_count": 41,
   "metadata": {},
   "outputs": [],
   "source": [
    "data_3 = data_3.drop('4046', axis=1)"
   ]
  },
  {
   "cell_type": "code",
   "execution_count": 42,
   "metadata": {},
   "outputs": [],
   "source": [
    "data_3 = data_3.drop('4225', axis=1)"
   ]
  },
  {
   "cell_type": "code",
   "execution_count": 43,
   "metadata": {},
   "outputs": [],
   "source": [
    "data_3 = data_3.drop('4770', axis=1)"
   ]
  },
  {
   "cell_type": "code",
   "execution_count": 44,
   "metadata": {},
   "outputs": [],
   "source": [
    "data_3 = data_3.drop('Total Bags', axis=1)"
   ]
  },
  {
   "cell_type": "code",
   "execution_count": 45,
   "metadata": {},
   "outputs": [],
   "source": [
    "data_3 = data_3.drop('Small Bags', axis=1)"
   ]
  },
  {
   "cell_type": "code",
   "execution_count": 46,
   "metadata": {},
   "outputs": [],
   "source": [
    "data_3 = data_3.drop('Large Bags', axis=1)"
   ]
  },
  {
   "cell_type": "code",
   "execution_count": 47,
   "metadata": {},
   "outputs": [],
   "source": [
    "data_3 = data_3.drop('XLarge Bags', axis=1)"
   ]
  },
  {
   "cell_type": "code",
   "execution_count": 48,
   "metadata": {},
   "outputs": [],
   "source": [
    "data_3 = data_3.drop('year', axis=1)"
   ]
  },
  {
   "cell_type": "code",
   "execution_count": 49,
   "metadata": {},
   "outputs": [],
   "source": [
    "data_3 = data_3.merge(l,left_index=True, right_index=True)"
   ]
  },
  {
   "cell_type": "code",
   "execution_count": 50,
   "metadata": {},
   "outputs": [
    {
     "data": {
      "text/html": [
       "<div>\n",
       "<style scoped>\n",
       "    .dataframe tbody tr th:only-of-type {\n",
       "        vertical-align: middle;\n",
       "    }\n",
       "\n",
       "    .dataframe tbody tr th {\n",
       "        vertical-align: top;\n",
       "    }\n",
       "\n",
       "    .dataframe thead th {\n",
       "        text-align: right;\n",
       "    }\n",
       "</style>\n",
       "<table border=\"1\" class=\"dataframe\">\n",
       "  <thead>\n",
       "    <tr style=\"text-align: right;\">\n",
       "      <th></th>\n",
       "      <th>Date</th>\n",
       "      <th>AveragePrice</th>\n",
       "      <th>type</th>\n",
       "      <th>region</th>\n",
       "      <th>0</th>\n",
       "      <th>1</th>\n",
       "      <th>2</th>\n",
       "      <th>3</th>\n",
       "      <th>4</th>\n",
       "    </tr>\n",
       "  </thead>\n",
       "  <tbody>\n",
       "    <tr>\n",
       "      <th>0</th>\n",
       "      <td>2015-12-27</td>\n",
       "      <td>1.33</td>\n",
       "      <td>conventional</td>\n",
       "      <td>Albany</td>\n",
       "      <td>-725305.827960</td>\n",
       "      <td>57823.418985</td>\n",
       "      <td>-113127.787277</td>\n",
       "      <td>-208640.164764</td>\n",
       "      <td>-341553.980322</td>\n",
       "    </tr>\n",
       "    <tr>\n",
       "      <th>1</th>\n",
       "      <td>2015-12-20</td>\n",
       "      <td>1.35</td>\n",
       "      <td>conventional</td>\n",
       "      <td>Albany</td>\n",
       "      <td>-733155.706794</td>\n",
       "      <td>62575.469205</td>\n",
       "      <td>-121349.330873</td>\n",
       "      <td>-208326.337058</td>\n",
       "      <td>-346257.533006</td>\n",
       "    </tr>\n",
       "    <tr>\n",
       "      <th>2</th>\n",
       "      <td>2015-12-13</td>\n",
       "      <td>0.93</td>\n",
       "      <td>conventional</td>\n",
       "      <td>Albany</td>\n",
       "      <td>-679148.209645</td>\n",
       "      <td>31388.114061</td>\n",
       "      <td>-66646.963774</td>\n",
       "      <td>-206274.149156</td>\n",
       "      <td>-317829.535019</td>\n",
       "    </tr>\n",
       "    <tr>\n",
       "      <th>3</th>\n",
       "      <td>2015-12-06</td>\n",
       "      <td>1.08</td>\n",
       "      <td>conventional</td>\n",
       "      <td>Albany</td>\n",
       "      <td>-713156.505730</td>\n",
       "      <td>49064.470188</td>\n",
       "      <td>-98348.819333</td>\n",
       "      <td>-210688.890624</td>\n",
       "      <td>-333463.816216</td>\n",
       "    </tr>\n",
       "    <tr>\n",
       "      <th>4</th>\n",
       "      <td>2015-11-29</td>\n",
       "      <td>1.28</td>\n",
       "      <td>conventional</td>\n",
       "      <td>Albany</td>\n",
       "      <td>-736985.055227</td>\n",
       "      <td>62592.932811</td>\n",
       "      <td>-122200.389737</td>\n",
       "      <td>-211843.698369</td>\n",
       "      <td>-345953.740224</td>\n",
       "    </tr>\n",
       "  </tbody>\n",
       "</table>\n",
       "</div>"
      ],
      "text/plain": [
       "         Date  AveragePrice          type  region              0  \\\n",
       "0  2015-12-27          1.33  conventional  Albany -725305.827960   \n",
       "1  2015-12-20          1.35  conventional  Albany -733155.706794   \n",
       "2  2015-12-13          0.93  conventional  Albany -679148.209645   \n",
       "3  2015-12-06          1.08  conventional  Albany -713156.505730   \n",
       "4  2015-11-29          1.28  conventional  Albany -736985.055227   \n",
       "\n",
       "              1              2              3              4  \n",
       "0  57823.418985 -113127.787277 -208640.164764 -341553.980322  \n",
       "1  62575.469205 -121349.330873 -208326.337058 -346257.533006  \n",
       "2  31388.114061  -66646.963774 -206274.149156 -317829.535019  \n",
       "3  49064.470188  -98348.819333 -210688.890624 -333463.816216  \n",
       "4  62592.932811 -122200.389737 -211843.698369 -345953.740224  "
      ]
     },
     "execution_count": 50,
     "metadata": {},
     "output_type": "execute_result"
    }
   ],
   "source": [
    "data_3.head()"
   ]
  },
  {
   "cell_type": "code",
   "execution_count": 51,
   "metadata": {},
   "outputs": [],
   "source": [
    "data_3 = pd.get_dummies(data_3)"
   ]
  },
  {
   "cell_type": "markdown",
   "metadata": {},
   "source": [
    "Для того чтобы получить хорошую линейную регрессию с использованием dummie-переменных, необходимо нормировать данные. Воспользуемся стандартным скейлером из библиотеки Sklearn"
   ]
  },
  {
   "cell_type": "code",
   "execution_count": 52,
   "metadata": {},
   "outputs": [],
   "source": [
    "from sklearn.model_selection import train_test_split\n",
    "from sklearn.linear_model import LinearRegression as LR\n",
    "from sklearn.metrics import r2_score\n",
    "from sklearn.preprocessing import StandardScaler"
   ]
  },
  {
   "cell_type": "code",
   "execution_count": 53,
   "metadata": {},
   "outputs": [],
   "source": [
    "y = data_3['AveragePrice']\n",
    "x = data_3.drop('AveragePrice', axis=1)"
   ]
  },
  {
   "cell_type": "code",
   "execution_count": 54,
   "metadata": {},
   "outputs": [],
   "source": [
    "X_train, X_test, y_train, y_test = train_test_split(x,y, test_size=0.3, random_state=50)"
   ]
  },
  {
   "cell_type": "code",
   "execution_count": 55,
   "metadata": {},
   "outputs": [],
   "source": [
    "scaler = StandardScaler()"
   ]
  },
  {
   "cell_type": "code",
   "execution_count": 56,
   "metadata": {},
   "outputs": [],
   "source": [
    "X_train_scaled = scaler.fit_transform(X_train)"
   ]
  },
  {
   "cell_type": "code",
   "execution_count": 57,
   "metadata": {},
   "outputs": [],
   "source": [
    "X_train_scaled = pd.DataFrame(X_train_scaled, columns=X_train.columns)"
   ]
  },
  {
   "cell_type": "code",
   "execution_count": 58,
   "metadata": {},
   "outputs": [
    {
     "data": {
      "text/html": [
       "<div>\n",
       "<style scoped>\n",
       "    .dataframe tbody tr th:only-of-type {\n",
       "        vertical-align: middle;\n",
       "    }\n",
       "\n",
       "    .dataframe tbody tr th {\n",
       "        vertical-align: top;\n",
       "    }\n",
       "\n",
       "    .dataframe thead th {\n",
       "        text-align: right;\n",
       "    }\n",
       "</style>\n",
       "<table border=\"1\" class=\"dataframe\">\n",
       "  <thead>\n",
       "    <tr style=\"text-align: right;\">\n",
       "      <th></th>\n",
       "      <th>0</th>\n",
       "      <th>1</th>\n",
       "      <th>2</th>\n",
       "      <th>3</th>\n",
       "      <th>4</th>\n",
       "      <th>Date_2015-01-04</th>\n",
       "      <th>Date_2015-01-11</th>\n",
       "      <th>Date_2015-01-18</th>\n",
       "      <th>Date_2015-01-25</th>\n",
       "      <th>Date_2015-02-01</th>\n",
       "      <th>...</th>\n",
       "      <th>region_SouthCarolina</th>\n",
       "      <th>region_SouthCentral</th>\n",
       "      <th>region_Southeast</th>\n",
       "      <th>region_Spokane</th>\n",
       "      <th>region_StLouis</th>\n",
       "      <th>region_Syracuse</th>\n",
       "      <th>region_Tampa</th>\n",
       "      <th>region_TotalUS</th>\n",
       "      <th>region_West</th>\n",
       "      <th>region_WestTexNewMexico</th>\n",
       "    </tr>\n",
       "  </thead>\n",
       "  <tbody>\n",
       "    <tr>\n",
       "      <th>0</th>\n",
       "      <td>0.639956</td>\n",
       "      <td>-0.222136</td>\n",
       "      <td>-0.411671</td>\n",
       "      <td>0.629678</td>\n",
       "      <td>0.503603</td>\n",
       "      <td>-0.079386</td>\n",
       "      <td>-0.078382</td>\n",
       "      <td>-0.080379</td>\n",
       "      <td>-0.075289</td>\n",
       "      <td>-0.077874</td>\n",
       "      <td>...</td>\n",
       "      <td>-0.137492</td>\n",
       "      <td>-0.135708</td>\n",
       "      <td>7.121559</td>\n",
       "      <td>-0.137492</td>\n",
       "      <td>-0.138082</td>\n",
       "      <td>-0.140997</td>\n",
       "      <td>-0.138962</td>\n",
       "      <td>-0.136007</td>\n",
       "      <td>-0.138962</td>\n",
       "      <td>-0.140129</td>\n",
       "    </tr>\n",
       "    <tr>\n",
       "      <th>1</th>\n",
       "      <td>-0.139147</td>\n",
       "      <td>-0.094366</td>\n",
       "      <td>0.068779</td>\n",
       "      <td>-0.127161</td>\n",
       "      <td>-0.166077</td>\n",
       "      <td>-0.079386</td>\n",
       "      <td>-0.078382</td>\n",
       "      <td>-0.080379</td>\n",
       "      <td>-0.075289</td>\n",
       "      <td>-0.077874</td>\n",
       "      <td>...</td>\n",
       "      <td>-0.137492</td>\n",
       "      <td>-0.135708</td>\n",
       "      <td>-0.140419</td>\n",
       "      <td>-0.137492</td>\n",
       "      <td>-0.138082</td>\n",
       "      <td>-0.140997</td>\n",
       "      <td>-0.138962</td>\n",
       "      <td>-0.136007</td>\n",
       "      <td>-0.138962</td>\n",
       "      <td>-0.140129</td>\n",
       "    </tr>\n",
       "    <tr>\n",
       "      <th>2</th>\n",
       "      <td>-0.128288</td>\n",
       "      <td>0.088185</td>\n",
       "      <td>0.060418</td>\n",
       "      <td>-0.158678</td>\n",
       "      <td>-0.158884</td>\n",
       "      <td>-0.079386</td>\n",
       "      <td>-0.078382</td>\n",
       "      <td>-0.080379</td>\n",
       "      <td>-0.075289</td>\n",
       "      <td>-0.077874</td>\n",
       "      <td>...</td>\n",
       "      <td>-0.137492</td>\n",
       "      <td>-0.135708</td>\n",
       "      <td>-0.140419</td>\n",
       "      <td>-0.137492</td>\n",
       "      <td>-0.138082</td>\n",
       "      <td>-0.140997</td>\n",
       "      <td>-0.138962</td>\n",
       "      <td>-0.136007</td>\n",
       "      <td>-0.138962</td>\n",
       "      <td>-0.140129</td>\n",
       "    </tr>\n",
       "    <tr>\n",
       "      <th>3</th>\n",
       "      <td>-0.238576</td>\n",
       "      <td>0.237767</td>\n",
       "      <td>-0.230828</td>\n",
       "      <td>-0.228986</td>\n",
       "      <td>-0.233170</td>\n",
       "      <td>12.596627</td>\n",
       "      <td>-0.078382</td>\n",
       "      <td>-0.080379</td>\n",
       "      <td>-0.075289</td>\n",
       "      <td>-0.077874</td>\n",
       "      <td>...</td>\n",
       "      <td>-0.137492</td>\n",
       "      <td>-0.135708</td>\n",
       "      <td>7.121559</td>\n",
       "      <td>-0.137492</td>\n",
       "      <td>-0.138082</td>\n",
       "      <td>-0.140997</td>\n",
       "      <td>-0.138962</td>\n",
       "      <td>-0.136007</td>\n",
       "      <td>-0.138962</td>\n",
       "      <td>-0.140129</td>\n",
       "    </tr>\n",
       "    <tr>\n",
       "      <th>4</th>\n",
       "      <td>-0.175276</td>\n",
       "      <td>-0.027612</td>\n",
       "      <td>0.019609</td>\n",
       "      <td>-0.181130</td>\n",
       "      <td>-0.181566</td>\n",
       "      <td>-0.079386</td>\n",
       "      <td>-0.078382</td>\n",
       "      <td>-0.080379</td>\n",
       "      <td>-0.075289</td>\n",
       "      <td>-0.077874</td>\n",
       "      <td>...</td>\n",
       "      <td>-0.137492</td>\n",
       "      <td>-0.135708</td>\n",
       "      <td>-0.140419</td>\n",
       "      <td>-0.137492</td>\n",
       "      <td>-0.138082</td>\n",
       "      <td>-0.140997</td>\n",
       "      <td>-0.138962</td>\n",
       "      <td>-0.136007</td>\n",
       "      <td>-0.138962</td>\n",
       "      <td>-0.140129</td>\n",
       "    </tr>\n",
       "  </tbody>\n",
       "</table>\n",
       "<p>5 rows × 230 columns</p>\n",
       "</div>"
      ],
      "text/plain": [
       "          0         1         2         3         4  Date_2015-01-04  \\\n",
       "0  0.639956 -0.222136 -0.411671  0.629678  0.503603        -0.079386   \n",
       "1 -0.139147 -0.094366  0.068779 -0.127161 -0.166077        -0.079386   \n",
       "2 -0.128288  0.088185  0.060418 -0.158678 -0.158884        -0.079386   \n",
       "3 -0.238576  0.237767 -0.230828 -0.228986 -0.233170        12.596627   \n",
       "4 -0.175276 -0.027612  0.019609 -0.181130 -0.181566        -0.079386   \n",
       "\n",
       "   Date_2015-01-11  Date_2015-01-18  Date_2015-01-25  Date_2015-02-01  ...  \\\n",
       "0        -0.078382        -0.080379        -0.075289        -0.077874  ...   \n",
       "1        -0.078382        -0.080379        -0.075289        -0.077874  ...   \n",
       "2        -0.078382        -0.080379        -0.075289        -0.077874  ...   \n",
       "3        -0.078382        -0.080379        -0.075289        -0.077874  ...   \n",
       "4        -0.078382        -0.080379        -0.075289        -0.077874  ...   \n",
       "\n",
       "   region_SouthCarolina  region_SouthCentral  region_Southeast  \\\n",
       "0             -0.137492            -0.135708          7.121559   \n",
       "1             -0.137492            -0.135708         -0.140419   \n",
       "2             -0.137492            -0.135708         -0.140419   \n",
       "3             -0.137492            -0.135708          7.121559   \n",
       "4             -0.137492            -0.135708         -0.140419   \n",
       "\n",
       "   region_Spokane  region_StLouis  region_Syracuse  region_Tampa  \\\n",
       "0       -0.137492       -0.138082        -0.140997     -0.138962   \n",
       "1       -0.137492       -0.138082        -0.140997     -0.138962   \n",
       "2       -0.137492       -0.138082        -0.140997     -0.138962   \n",
       "3       -0.137492       -0.138082        -0.140997     -0.138962   \n",
       "4       -0.137492       -0.138082        -0.140997     -0.138962   \n",
       "\n",
       "   region_TotalUS  region_West  region_WestTexNewMexico  \n",
       "0       -0.136007    -0.138962                -0.140129  \n",
       "1       -0.136007    -0.138962                -0.140129  \n",
       "2       -0.136007    -0.138962                -0.140129  \n",
       "3       -0.136007    -0.138962                -0.140129  \n",
       "4       -0.136007    -0.138962                -0.140129  \n",
       "\n",
       "[5 rows x 230 columns]"
      ]
     },
     "execution_count": 58,
     "metadata": {},
     "output_type": "execute_result"
    }
   ],
   "source": [
    "X_train_scaled.head()"
   ]
  },
  {
   "cell_type": "code",
   "execution_count": 59,
   "metadata": {},
   "outputs": [],
   "source": [
    "model = LR()"
   ]
  },
  {
   "cell_type": "code",
   "execution_count": 60,
   "metadata": {},
   "outputs": [
    {
     "data": {
      "text/plain": [
       "LinearRegression(copy_X=True, fit_intercept=True, n_jobs=None, normalize=False)"
      ]
     },
     "execution_count": 60,
     "metadata": {},
     "output_type": "execute_result"
    }
   ],
   "source": [
    "model.fit(X_train_scaled, y_train)"
   ]
  },
  {
   "cell_type": "markdown",
   "metadata": {},
   "source": [
    "Можно увидеть коэффициенты нашей модели"
   ]
  },
  {
   "cell_type": "code",
   "execution_count": 61,
   "metadata": {},
   "outputs": [
    {
     "data": {
      "text/plain": [
       "array([ 6.30045841e-01,  1.71877303e-01,  1.32963919e-01, -2.29604163e-01,\n",
       "       -3.80103785e-01, -8.01525826e-03, -2.55785594e-03,  8.54817148e-04,\n",
       "       -2.43215437e-04, -1.17756213e-02, -7.76781884e-03, -1.88847049e-03,\n",
       "       -3.97359208e-03, -8.33015772e-03, -3.72681378e-03, -1.28364309e-03,\n",
       "       -5.86898618e-03, -6.75414977e-04,  1.17397770e-03, -3.61085520e-03,\n",
       "       -3.57460032e-03, -1.58701661e-03, -9.04254849e-03, -6.52986822e-03,\n",
       "       -4.27564026e-03, -3.51886656e-03, -3.22141822e-03, -3.32983717e-03,\n",
       "       -2.59472289e-04,  8.97602375e-04, -1.59079886e-03,  1.52153391e-03,\n",
       "        6.78475848e-04, -3.58504028e-04,  1.10598892e-03,  4.86723782e-03,\n",
       "        2.34060220e-03,  3.86167757e-03,  2.54554774e-03,  1.22865726e-03,\n",
       "        5.78540950e-04,  4.15472352e-03,  4.22862097e-03,  3.59922212e-03,\n",
       "        5.55193651e-04, -2.79809588e-03, -3.17258144e-03, -2.23529633e-03,\n",
       "       -7.30334049e-03, -7.01863366e-03, -6.12552945e-03, -6.27714051e-03,\n",
       "       -4.34147444e-03, -8.19963097e-03, -8.13303722e-03, -4.85152750e-03,\n",
       "       -9.74666493e-03, -1.66115842e-02, -1.42189975e-02, -1.10227241e-02,\n",
       "       -1.35012059e-02, -1.09879260e-02, -1.91983754e-02, -1.23802094e-02,\n",
       "       -1.05731200e-02, -1.21617106e-02, -1.13139186e-02, -1.51173858e-02,\n",
       "       -1.54729421e-02, -1.23156713e-02, -1.24215782e-02, -1.97610930e-02,\n",
       "       -1.34677225e-02, -1.69237330e-02, -1.92458903e-02, -1.91445753e-02,\n",
       "       -1.48674219e-02, -1.49529877e-02, -1.23819846e-02, -1.19914101e-02,\n",
       "       -7.64639932e-03, -9.55733570e-03, -7.54507456e-03, -8.07179338e-03,\n",
       "       -2.76324294e-03,  8.88996326e-04,  5.44659654e-03,  4.18719927e-03,\n",
       "       -1.49246995e-03,  2.33509791e-03,  2.98256982e-03, -1.64998864e-03,\n",
       "       -2.46568068e-03, -5.16226407e-03,  2.74911126e-03,  1.03504250e-02,\n",
       "        1.30938353e-02,  7.39223995e-03,  7.79242570e-03,  1.04357142e-02,\n",
       "        2.31751852e-02,  1.61505428e-02,  1.54685202e-02,  8.15657559e-03,\n",
       "        8.29984032e-03, -3.01894472e-03, -8.10503410e-03, -1.00608015e-02,\n",
       "       -6.32276836e-03, -1.00646566e-02, -8.33844960e-03, -6.42496928e-03,\n",
       "       -1.38532574e-02, -8.91086276e-03, -2.17721500e-02, -1.55839167e-02,\n",
       "       -1.01507349e-02, -1.32703500e-02, -3.77919774e-03,  1.60956195e-03,\n",
       "        3.67230807e-03,  2.04752684e-03,  2.63339184e-03,  6.18926482e-03,\n",
       "        4.85906321e-03,  6.98503111e-03,  1.17802699e-02,  4.24351271e-03,\n",
       "        1.08419719e-02,  1.29089830e-02,  1.37019348e-02,  1.36488824e-02,\n",
       "        9.79244331e-03,  9.90577419e-03,  1.13936705e-02,  1.07246520e-02,\n",
       "        1.01849796e-02,  1.36138856e-02,  1.25353980e-02,  1.34429536e-02,\n",
       "        1.52637441e-02,  1.88501974e-02,  2.47128834e-02,  3.12977375e-02,\n",
       "        3.58968330e-02,  3.49951306e-02,  3.32477240e-02,  3.17696608e-02,\n",
       "        3.90441436e-02,  3.10545761e-02,  2.80880248e-02,  2.27615485e-02,\n",
       "        1.49003623e-02,  1.25986234e-02,  6.70107131e-03,  6.90458092e-03,\n",
       "        5.07022201e-03, -1.91278630e-03, -4.86257447e-03, -2.04750949e-03,\n",
       "        3.66122441e-03, -9.79341132e-03, -2.93853796e-03,  1.20658595e-03,\n",
       "       -2.55489977e-03, -9.21466038e-04, -1.19612740e-02, -7.80362053e-03,\n",
       "        2.18062950e-04, -3.51011884e-03, -3.34603873e-03, -5.94588203e-03,\n",
       "       -7.27375346e-03, -4.77886710e-03, -1.23898723e-01,  1.23898723e-01,\n",
       "        2.02282934e-02, -8.97158056e-03,  1.88806930e-02, -8.84686147e-03,\n",
       "        1.74316828e-02,  1.58106408e-02, -3.01085968e-03,  2.69214808e-02,\n",
       "        1.82620983e-02, -2.57643622e-02, -2.00705092e-02, -4.19358107e-02,\n",
       "       -2.46384599e-02, -1.91041793e-02,  1.27877333e-02, -1.03687694e-02,\n",
       "        1.39011652e-02,  5.49041335e-02, -4.93750101e-02, -1.32814781e-02,\n",
       "        1.47076965e-02, -6.69473605e-03, -2.64879956e-02, -1.61613436e-02,\n",
       "        3.39811177e-03, -1.22531409e-03, -2.65918836e-02, -1.36488195e-02,\n",
       "        4.39151888e-02,  2.65917821e-02,  9.45087536e-03,  1.38604068e-02,\n",
       "        3.04949142e-02, -2.45291872e-02, -5.51239877e-03,  4.92924426e-03,\n",
       "       -1.24169071e-02,  1.97959655e-02, -1.71561046e-02, -2.04976002e-02,\n",
       "        2.77861398e-02, -6.67052057e-04,  5.06608226e-02,  5.59519436e-03,\n",
       "        1.91233239e-05, -3.94059939e-02,  1.21269536e-03,  5.98199384e-03,\n",
       "        4.55987053e-03,  1.60812551e-02,  4.63516641e-04, -9.66084489e-03,\n",
       "       -1.58586756e-02, -1.97116637e-02])"
      ]
     },
     "execution_count": 61,
     "metadata": {},
     "output_type": "execute_result"
    }
   ],
   "source": [
    "model.coef_"
   ]
  },
  {
   "cell_type": "code",
   "execution_count": 62,
   "metadata": {},
   "outputs": [],
   "source": [
    "X_test_scaled = scaler.transform(X_test)"
   ]
  },
  {
   "cell_type": "code",
   "execution_count": 63,
   "metadata": {},
   "outputs": [],
   "source": [
    "X_test_scaled = pd.DataFrame(X_test_scaled, columns=X_test.columns)"
   ]
  },
  {
   "cell_type": "code",
   "execution_count": 64,
   "metadata": {},
   "outputs": [],
   "source": [
    "y_pred = model.predict(X_test_scaled)"
   ]
  },
  {
   "cell_type": "code",
   "execution_count": 65,
   "metadata": {},
   "outputs": [
    {
     "data": {
      "text/plain": [
       "0.6834097534892042"
      ]
     },
     "execution_count": 65,
     "metadata": {},
     "output_type": "execute_result"
    }
   ],
   "source": [
    "r2 = r2_score(y_test, y_pred)\n",
    "r2"
   ]
  },
  {
   "cell_type": "markdown",
   "metadata": {},
   "source": [
    "Так же, можно найти среднюю ошибку аппроксимации."
   ]
  },
  {
   "cell_type": "code",
   "execution_count": 66,
   "metadata": {},
   "outputs": [],
   "source": [
    "from sklearn.metrics import mean_absolute_error"
   ]
  },
  {
   "cell_type": "code",
   "execution_count": 67,
   "metadata": {},
   "outputs": [],
   "source": [
    "A = mean_absolute_error(y_test, y_pred)/y_test.abs().sum()"
   ]
  },
  {
   "cell_type": "code",
   "execution_count": 68,
   "metadata": {},
   "outputs": [
    {
     "data": {
      "text/plain": [
       "2.162147317771e-05"
      ]
     },
     "execution_count": 68,
     "metadata": {},
     "output_type": "execute_result"
    }
   ],
   "source": [
    "A"
   ]
  },
  {
   "cell_type": "markdown",
   "metadata": {},
   "source": [
    "Не смотря на небольшой R2, средняя ошибка аппроксимации невелика."
   ]
  },
  {
   "cell_type": "markdown",
   "metadata": {},
   "source": [
    "Оценим теперь статистическую значимость построенной модели с помощью F-критерия Фишера."
   ]
  },
  {
   "cell_type": "code",
   "execution_count": 69,
   "metadata": {},
   "outputs": [
    {
     "data": {
      "text/plain": [
       "117.72189051921767"
      ]
     },
     "execution_count": 69,
     "metadata": {},
     "output_type": "execute_result"
    }
   ],
   "source": [
    "k = len(X_train.columns)\n",
    "n = len(X_train['Date_2015-01-04'])\n",
    "F = (r2/k)/((1-r2)/(n-k-1))\n",
    "F"
   ]
  },
  {
   "cell_type": "code",
   "execution_count": 70,
   "metadata": {},
   "outputs": [
    {
     "data": {
      "text/plain": [
       "1.1599315787126918"
      ]
     },
     "execution_count": 70,
     "metadata": {},
     "output_type": "execute_result"
    }
   ],
   "source": [
    "alpha = 0.05\n",
    "f_crit = stats.f.ppf(1-alpha, k, n-k-1)\n",
    "f_crit"
   ]
  },
  {
   "cell_type": "markdown",
   "metadata": {},
   "source": [
    "Таким образом построенное уравнение линейной регрессии статистически значимо."
   ]
  },
  {
   "cell_type": "code",
   "execution_count": null,
   "metadata": {},
   "outputs": [],
   "source": []
  }
 ],
 "metadata": {
  "kernelspec": {
   "display_name": "Python 3",
   "language": "python",
   "name": "python3"
  },
  "language_info": {
   "codemirror_mode": {
    "name": "ipython",
    "version": 3
   },
   "file_extension": ".py",
   "mimetype": "text/x-python",
   "name": "python",
   "nbconvert_exporter": "python",
   "pygments_lexer": "ipython3",
   "version": "3.7.3"
  }
 },
 "nbformat": 4,
 "nbformat_minor": 2
}
