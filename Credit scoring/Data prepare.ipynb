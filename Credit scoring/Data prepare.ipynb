{
 "cells": [
  {
   "cell_type": "code",
   "execution_count": 463,
   "metadata": {},
   "outputs": [],
   "source": [
    "import numpy as np\n",
    "import pandas as pd\n",
    "\n",
    "import seaborn as sns\n",
    "import matplotlib.pyplot as plt"
   ]
  },
  {
   "cell_type": "code",
   "execution_count": 464,
   "metadata": {},
   "outputs": [],
   "source": [
    "data = pd.read_csv('Data/course_project_train.csv')"
   ]
  },
  {
   "cell_type": "code",
   "execution_count": 465,
   "metadata": {},
   "outputs": [],
   "source": [
    "df = data.copy()"
   ]
  },
  {
   "cell_type": "code",
   "execution_count": 466,
   "metadata": {},
   "outputs": [
    {
     "data": {
      "text/html": [
       "<div>\n",
       "<style scoped>\n",
       "    .dataframe tbody tr th:only-of-type {\n",
       "        vertical-align: middle;\n",
       "    }\n",
       "\n",
       "    .dataframe tbody tr th {\n",
       "        vertical-align: top;\n",
       "    }\n",
       "\n",
       "    .dataframe thead th {\n",
       "        text-align: right;\n",
       "    }\n",
       "</style>\n",
       "<table border=\"1\" class=\"dataframe\">\n",
       "  <thead>\n",
       "    <tr style=\"text-align: right;\">\n",
       "      <th></th>\n",
       "      <th>Home Ownership</th>\n",
       "      <th>Annual Income</th>\n",
       "      <th>Years in current job</th>\n",
       "      <th>Tax Liens</th>\n",
       "      <th>Number of Open Accounts</th>\n",
       "      <th>Years of Credit History</th>\n",
       "      <th>Maximum Open Credit</th>\n",
       "      <th>Number of Credit Problems</th>\n",
       "      <th>Months since last delinquent</th>\n",
       "      <th>Bankruptcies</th>\n",
       "      <th>Purpose</th>\n",
       "      <th>Term</th>\n",
       "      <th>Current Loan Amount</th>\n",
       "      <th>Current Credit Balance</th>\n",
       "      <th>Monthly Debt</th>\n",
       "      <th>Credit Score</th>\n",
       "      <th>Credit Default</th>\n",
       "    </tr>\n",
       "  </thead>\n",
       "  <tbody>\n",
       "    <tr>\n",
       "      <th>0</th>\n",
       "      <td>Own Home</td>\n",
       "      <td>482087.0</td>\n",
       "      <td>NaN</td>\n",
       "      <td>0.0</td>\n",
       "      <td>11.0</td>\n",
       "      <td>26.3</td>\n",
       "      <td>685960.0</td>\n",
       "      <td>1.0</td>\n",
       "      <td>NaN</td>\n",
       "      <td>1.0</td>\n",
       "      <td>debt consolidation</td>\n",
       "      <td>Short Term</td>\n",
       "      <td>99999999.0</td>\n",
       "      <td>47386.0</td>\n",
       "      <td>7914.0</td>\n",
       "      <td>749.0</td>\n",
       "      <td>0</td>\n",
       "    </tr>\n",
       "    <tr>\n",
       "      <th>1</th>\n",
       "      <td>Own Home</td>\n",
       "      <td>1025487.0</td>\n",
       "      <td>10+ years</td>\n",
       "      <td>0.0</td>\n",
       "      <td>15.0</td>\n",
       "      <td>15.3</td>\n",
       "      <td>1181730.0</td>\n",
       "      <td>0.0</td>\n",
       "      <td>NaN</td>\n",
       "      <td>0.0</td>\n",
       "      <td>debt consolidation</td>\n",
       "      <td>Long Term</td>\n",
       "      <td>264968.0</td>\n",
       "      <td>394972.0</td>\n",
       "      <td>18373.0</td>\n",
       "      <td>737.0</td>\n",
       "      <td>1</td>\n",
       "    </tr>\n",
       "    <tr>\n",
       "      <th>2</th>\n",
       "      <td>Home Mortgage</td>\n",
       "      <td>751412.0</td>\n",
       "      <td>8 years</td>\n",
       "      <td>0.0</td>\n",
       "      <td>11.0</td>\n",
       "      <td>35.0</td>\n",
       "      <td>1182434.0</td>\n",
       "      <td>0.0</td>\n",
       "      <td>NaN</td>\n",
       "      <td>0.0</td>\n",
       "      <td>debt consolidation</td>\n",
       "      <td>Short Term</td>\n",
       "      <td>99999999.0</td>\n",
       "      <td>308389.0</td>\n",
       "      <td>13651.0</td>\n",
       "      <td>742.0</td>\n",
       "      <td>0</td>\n",
       "    </tr>\n",
       "    <tr>\n",
       "      <th>3</th>\n",
       "      <td>Own Home</td>\n",
       "      <td>805068.0</td>\n",
       "      <td>6 years</td>\n",
       "      <td>0.0</td>\n",
       "      <td>8.0</td>\n",
       "      <td>22.5</td>\n",
       "      <td>147400.0</td>\n",
       "      <td>1.0</td>\n",
       "      <td>NaN</td>\n",
       "      <td>1.0</td>\n",
       "      <td>debt consolidation</td>\n",
       "      <td>Short Term</td>\n",
       "      <td>121396.0</td>\n",
       "      <td>95855.0</td>\n",
       "      <td>11338.0</td>\n",
       "      <td>694.0</td>\n",
       "      <td>0</td>\n",
       "    </tr>\n",
       "    <tr>\n",
       "      <th>4</th>\n",
       "      <td>Rent</td>\n",
       "      <td>776264.0</td>\n",
       "      <td>8 years</td>\n",
       "      <td>0.0</td>\n",
       "      <td>13.0</td>\n",
       "      <td>13.6</td>\n",
       "      <td>385836.0</td>\n",
       "      <td>1.0</td>\n",
       "      <td>NaN</td>\n",
       "      <td>0.0</td>\n",
       "      <td>debt consolidation</td>\n",
       "      <td>Short Term</td>\n",
       "      <td>125840.0</td>\n",
       "      <td>93309.0</td>\n",
       "      <td>7180.0</td>\n",
       "      <td>719.0</td>\n",
       "      <td>0</td>\n",
       "    </tr>\n",
       "  </tbody>\n",
       "</table>\n",
       "</div>"
      ],
      "text/plain": [
       "  Home Ownership  Annual Income Years in current job  Tax Liens  \\\n",
       "0       Own Home       482087.0                  NaN        0.0   \n",
       "1       Own Home      1025487.0            10+ years        0.0   \n",
       "2  Home Mortgage       751412.0              8 years        0.0   \n",
       "3       Own Home       805068.0              6 years        0.0   \n",
       "4           Rent       776264.0              8 years        0.0   \n",
       "\n",
       "   Number of Open Accounts  Years of Credit History  Maximum Open Credit  \\\n",
       "0                     11.0                     26.3             685960.0   \n",
       "1                     15.0                     15.3            1181730.0   \n",
       "2                     11.0                     35.0            1182434.0   \n",
       "3                      8.0                     22.5             147400.0   \n",
       "4                     13.0                     13.6             385836.0   \n",
       "\n",
       "   Number of Credit Problems  Months since last delinquent  Bankruptcies  \\\n",
       "0                        1.0                           NaN           1.0   \n",
       "1                        0.0                           NaN           0.0   \n",
       "2                        0.0                           NaN           0.0   \n",
       "3                        1.0                           NaN           1.0   \n",
       "4                        1.0                           NaN           0.0   \n",
       "\n",
       "              Purpose        Term  Current Loan Amount  \\\n",
       "0  debt consolidation  Short Term           99999999.0   \n",
       "1  debt consolidation   Long Term             264968.0   \n",
       "2  debt consolidation  Short Term           99999999.0   \n",
       "3  debt consolidation  Short Term             121396.0   \n",
       "4  debt consolidation  Short Term             125840.0   \n",
       "\n",
       "   Current Credit Balance  Monthly Debt  Credit Score  Credit Default  \n",
       "0                 47386.0        7914.0         749.0               0  \n",
       "1                394972.0       18373.0         737.0               1  \n",
       "2                308389.0       13651.0         742.0               0  \n",
       "3                 95855.0       11338.0         694.0               0  \n",
       "4                 93309.0        7180.0         719.0               0  "
      ]
     },
     "execution_count": 466,
     "metadata": {},
     "output_type": "execute_result"
    }
   ],
   "source": [
    "df.head()"
   ]
  },
  {
   "cell_type": "code",
   "execution_count": 467,
   "metadata": {},
   "outputs": [
    {
     "data": {
      "text/html": [
       "<div>\n",
       "<style scoped>\n",
       "    .dataframe tbody tr th:only-of-type {\n",
       "        vertical-align: middle;\n",
       "    }\n",
       "\n",
       "    .dataframe tbody tr th {\n",
       "        vertical-align: top;\n",
       "    }\n",
       "\n",
       "    .dataframe thead th {\n",
       "        text-align: right;\n",
       "    }\n",
       "</style>\n",
       "<table border=\"1\" class=\"dataframe\">\n",
       "  <thead>\n",
       "    <tr style=\"text-align: right;\">\n",
       "      <th></th>\n",
       "      <th>Annual Income</th>\n",
       "      <th>Tax Liens</th>\n",
       "      <th>Number of Open Accounts</th>\n",
       "      <th>Years of Credit History</th>\n",
       "      <th>Maximum Open Credit</th>\n",
       "      <th>Number of Credit Problems</th>\n",
       "      <th>Months since last delinquent</th>\n",
       "      <th>Bankruptcies</th>\n",
       "      <th>Current Loan Amount</th>\n",
       "      <th>Current Credit Balance</th>\n",
       "      <th>Monthly Debt</th>\n",
       "      <th>Credit Score</th>\n",
       "      <th>Credit Default</th>\n",
       "    </tr>\n",
       "  </thead>\n",
       "  <tbody>\n",
       "    <tr>\n",
       "      <th>count</th>\n",
       "      <td>5.943000e+03</td>\n",
       "      <td>7500.000000</td>\n",
       "      <td>7500.000000</td>\n",
       "      <td>7500.000000</td>\n",
       "      <td>7.500000e+03</td>\n",
       "      <td>7500.000000</td>\n",
       "      <td>3419.000000</td>\n",
       "      <td>7486.000000</td>\n",
       "      <td>7.500000e+03</td>\n",
       "      <td>7.500000e+03</td>\n",
       "      <td>7500.000000</td>\n",
       "      <td>5943.000000</td>\n",
       "      <td>7500.000000</td>\n",
       "    </tr>\n",
       "    <tr>\n",
       "      <th>mean</th>\n",
       "      <td>1.366392e+06</td>\n",
       "      <td>0.030133</td>\n",
       "      <td>11.130933</td>\n",
       "      <td>18.317467</td>\n",
       "      <td>9.451537e+05</td>\n",
       "      <td>0.170000</td>\n",
       "      <td>34.692600</td>\n",
       "      <td>0.117152</td>\n",
       "      <td>1.187318e+07</td>\n",
       "      <td>2.898332e+05</td>\n",
       "      <td>18314.454133</td>\n",
       "      <td>1151.087498</td>\n",
       "      <td>0.281733</td>\n",
       "    </tr>\n",
       "    <tr>\n",
       "      <th>std</th>\n",
       "      <td>8.453392e+05</td>\n",
       "      <td>0.271604</td>\n",
       "      <td>4.908924</td>\n",
       "      <td>7.041946</td>\n",
       "      <td>1.602622e+07</td>\n",
       "      <td>0.498598</td>\n",
       "      <td>21.688806</td>\n",
       "      <td>0.347192</td>\n",
       "      <td>3.192612e+07</td>\n",
       "      <td>3.178714e+05</td>\n",
       "      <td>11926.764673</td>\n",
       "      <td>1604.451418</td>\n",
       "      <td>0.449874</td>\n",
       "    </tr>\n",
       "    <tr>\n",
       "      <th>min</th>\n",
       "      <td>1.645970e+05</td>\n",
       "      <td>0.000000</td>\n",
       "      <td>2.000000</td>\n",
       "      <td>4.000000</td>\n",
       "      <td>0.000000e+00</td>\n",
       "      <td>0.000000</td>\n",
       "      <td>0.000000</td>\n",
       "      <td>0.000000</td>\n",
       "      <td>1.124200e+04</td>\n",
       "      <td>0.000000e+00</td>\n",
       "      <td>0.000000</td>\n",
       "      <td>585.000000</td>\n",
       "      <td>0.000000</td>\n",
       "    </tr>\n",
       "    <tr>\n",
       "      <th>25%</th>\n",
       "      <td>8.443410e+05</td>\n",
       "      <td>0.000000</td>\n",
       "      <td>8.000000</td>\n",
       "      <td>13.500000</td>\n",
       "      <td>2.792295e+05</td>\n",
       "      <td>0.000000</td>\n",
       "      <td>16.000000</td>\n",
       "      <td>0.000000</td>\n",
       "      <td>1.801690e+05</td>\n",
       "      <td>1.142565e+05</td>\n",
       "      <td>10067.500000</td>\n",
       "      <td>711.000000</td>\n",
       "      <td>0.000000</td>\n",
       "    </tr>\n",
       "    <tr>\n",
       "      <th>50%</th>\n",
       "      <td>1.168386e+06</td>\n",
       "      <td>0.000000</td>\n",
       "      <td>10.000000</td>\n",
       "      <td>17.000000</td>\n",
       "      <td>4.781590e+05</td>\n",
       "      <td>0.000000</td>\n",
       "      <td>32.000000</td>\n",
       "      <td>0.000000</td>\n",
       "      <td>3.095730e+05</td>\n",
       "      <td>2.093230e+05</td>\n",
       "      <td>16076.500000</td>\n",
       "      <td>731.000000</td>\n",
       "      <td>0.000000</td>\n",
       "    </tr>\n",
       "    <tr>\n",
       "      <th>75%</th>\n",
       "      <td>1.640137e+06</td>\n",
       "      <td>0.000000</td>\n",
       "      <td>14.000000</td>\n",
       "      <td>21.800000</td>\n",
       "      <td>7.935015e+05</td>\n",
       "      <td>0.000000</td>\n",
       "      <td>50.000000</td>\n",
       "      <td>0.000000</td>\n",
       "      <td>5.198820e+05</td>\n",
       "      <td>3.604062e+05</td>\n",
       "      <td>23818.000000</td>\n",
       "      <td>743.000000</td>\n",
       "      <td>1.000000</td>\n",
       "    </tr>\n",
       "    <tr>\n",
       "      <th>max</th>\n",
       "      <td>1.014934e+07</td>\n",
       "      <td>7.000000</td>\n",
       "      <td>43.000000</td>\n",
       "      <td>57.700000</td>\n",
       "      <td>1.304726e+09</td>\n",
       "      <td>7.000000</td>\n",
       "      <td>118.000000</td>\n",
       "      <td>4.000000</td>\n",
       "      <td>1.000000e+08</td>\n",
       "      <td>6.506797e+06</td>\n",
       "      <td>136679.000000</td>\n",
       "      <td>7510.000000</td>\n",
       "      <td>1.000000</td>\n",
       "    </tr>\n",
       "  </tbody>\n",
       "</table>\n",
       "</div>"
      ],
      "text/plain": [
       "       Annual Income    Tax Liens  Number of Open Accounts  \\\n",
       "count   5.943000e+03  7500.000000              7500.000000   \n",
       "mean    1.366392e+06     0.030133                11.130933   \n",
       "std     8.453392e+05     0.271604                 4.908924   \n",
       "min     1.645970e+05     0.000000                 2.000000   \n",
       "25%     8.443410e+05     0.000000                 8.000000   \n",
       "50%     1.168386e+06     0.000000                10.000000   \n",
       "75%     1.640137e+06     0.000000                14.000000   \n",
       "max     1.014934e+07     7.000000                43.000000   \n",
       "\n",
       "       Years of Credit History  Maximum Open Credit  \\\n",
       "count              7500.000000         7.500000e+03   \n",
       "mean                 18.317467         9.451537e+05   \n",
       "std                   7.041946         1.602622e+07   \n",
       "min                   4.000000         0.000000e+00   \n",
       "25%                  13.500000         2.792295e+05   \n",
       "50%                  17.000000         4.781590e+05   \n",
       "75%                  21.800000         7.935015e+05   \n",
       "max                  57.700000         1.304726e+09   \n",
       "\n",
       "       Number of Credit Problems  Months since last delinquent  Bankruptcies  \\\n",
       "count                7500.000000                   3419.000000   7486.000000   \n",
       "mean                    0.170000                     34.692600      0.117152   \n",
       "std                     0.498598                     21.688806      0.347192   \n",
       "min                     0.000000                      0.000000      0.000000   \n",
       "25%                     0.000000                     16.000000      0.000000   \n",
       "50%                     0.000000                     32.000000      0.000000   \n",
       "75%                     0.000000                     50.000000      0.000000   \n",
       "max                     7.000000                    118.000000      4.000000   \n",
       "\n",
       "       Current Loan Amount  Current Credit Balance   Monthly Debt  \\\n",
       "count         7.500000e+03            7.500000e+03    7500.000000   \n",
       "mean          1.187318e+07            2.898332e+05   18314.454133   \n",
       "std           3.192612e+07            3.178714e+05   11926.764673   \n",
       "min           1.124200e+04            0.000000e+00       0.000000   \n",
       "25%           1.801690e+05            1.142565e+05   10067.500000   \n",
       "50%           3.095730e+05            2.093230e+05   16076.500000   \n",
       "75%           5.198820e+05            3.604062e+05   23818.000000   \n",
       "max           1.000000e+08            6.506797e+06  136679.000000   \n",
       "\n",
       "       Credit Score  Credit Default  \n",
       "count   5943.000000     7500.000000  \n",
       "mean    1151.087498        0.281733  \n",
       "std     1604.451418        0.449874  \n",
       "min      585.000000        0.000000  \n",
       "25%      711.000000        0.000000  \n",
       "50%      731.000000        0.000000  \n",
       "75%      743.000000        1.000000  \n",
       "max     7510.000000        1.000000  "
      ]
     },
     "execution_count": 467,
     "metadata": {},
     "output_type": "execute_result"
    }
   ],
   "source": [
    "df.describe()"
   ]
  },
  {
   "cell_type": "code",
   "execution_count": 468,
   "metadata": {
    "scrolled": true
   },
   "outputs": [
    {
     "name": "stdout",
     "output_type": "stream",
     "text": [
      "<class 'pandas.core.frame.DataFrame'>\n",
      "RangeIndex: 7500 entries, 0 to 7499\n",
      "Data columns (total 17 columns):\n",
      "Home Ownership                  7500 non-null object\n",
      "Annual Income                   5943 non-null float64\n",
      "Years in current job            7129 non-null object\n",
      "Tax Liens                       7500 non-null float64\n",
      "Number of Open Accounts         7500 non-null float64\n",
      "Years of Credit History         7500 non-null float64\n",
      "Maximum Open Credit             7500 non-null float64\n",
      "Number of Credit Problems       7500 non-null float64\n",
      "Months since last delinquent    3419 non-null float64\n",
      "Bankruptcies                    7486 non-null float64\n",
      "Purpose                         7500 non-null object\n",
      "Term                            7500 non-null object\n",
      "Current Loan Amount             7500 non-null float64\n",
      "Current Credit Balance          7500 non-null float64\n",
      "Monthly Debt                    7500 non-null float64\n",
      "Credit Score                    5943 non-null float64\n",
      "Credit Default                  7500 non-null int64\n",
      "dtypes: float64(12), int64(1), object(4)\n",
      "memory usage: 996.2+ KB\n"
     ]
    }
   ],
   "source": [
    "df.info()"
   ]
  },
  {
   "cell_type": "code",
   "execution_count": 469,
   "metadata": {},
   "outputs": [],
   "source": [
    "df = df.drop(labels='Months since last delinquent', axis=1)"
   ]
  },
  {
   "cell_type": "code",
   "execution_count": 470,
   "metadata": {},
   "outputs": [
    {
     "data": {
      "text/plain": [
       "10+ years    2332\n",
       "2 years       705\n",
       "3 years       620\n",
       "< 1 year      563\n",
       "5 years       516\n",
       "1 year        504\n",
       "4 years       469\n",
       "6 years       426\n",
       "7 years       396\n",
       "8 years       339\n",
       "9 years       259\n",
       "Name: Years in current job, dtype: int64"
      ]
     },
     "execution_count": 470,
     "metadata": {},
     "output_type": "execute_result"
    }
   ],
   "source": [
    "df['Years in current job'].value_counts()"
   ]
  },
  {
   "cell_type": "code",
   "execution_count": 471,
   "metadata": {},
   "outputs": [
    {
     "data": {
      "text/html": [
       "<div>\n",
       "<style scoped>\n",
       "    .dataframe tbody tr th:only-of-type {\n",
       "        vertical-align: middle;\n",
       "    }\n",
       "\n",
       "    .dataframe tbody tr th {\n",
       "        vertical-align: top;\n",
       "    }\n",
       "\n",
       "    .dataframe thead th {\n",
       "        text-align: right;\n",
       "    }\n",
       "</style>\n",
       "<table border=\"1\" class=\"dataframe\">\n",
       "  <thead>\n",
       "    <tr style=\"text-align: right;\">\n",
       "      <th></th>\n",
       "      <th>Annual Income</th>\n",
       "      <th>Tax Liens</th>\n",
       "      <th>Number of Open Accounts</th>\n",
       "      <th>Years of Credit History</th>\n",
       "      <th>Maximum Open Credit</th>\n",
       "      <th>Number of Credit Problems</th>\n",
       "      <th>Bankruptcies</th>\n",
       "      <th>Current Loan Amount</th>\n",
       "      <th>Current Credit Balance</th>\n",
       "      <th>Monthly Debt</th>\n",
       "      <th>Credit Score</th>\n",
       "      <th>Credit Default</th>\n",
       "    </tr>\n",
       "  </thead>\n",
       "  <tbody>\n",
       "    <tr>\n",
       "      <th>count</th>\n",
       "      <td>5.943000e+03</td>\n",
       "      <td>7500.000000</td>\n",
       "      <td>7500.000000</td>\n",
       "      <td>7500.000000</td>\n",
       "      <td>7.500000e+03</td>\n",
       "      <td>7500.000000</td>\n",
       "      <td>7486.000000</td>\n",
       "      <td>7.500000e+03</td>\n",
       "      <td>7.500000e+03</td>\n",
       "      <td>7500.000000</td>\n",
       "      <td>5943.000000</td>\n",
       "      <td>7500.000000</td>\n",
       "    </tr>\n",
       "    <tr>\n",
       "      <th>mean</th>\n",
       "      <td>1.366392e+06</td>\n",
       "      <td>0.030133</td>\n",
       "      <td>11.130933</td>\n",
       "      <td>18.317467</td>\n",
       "      <td>9.451537e+05</td>\n",
       "      <td>0.170000</td>\n",
       "      <td>0.117152</td>\n",
       "      <td>1.187318e+07</td>\n",
       "      <td>2.898332e+05</td>\n",
       "      <td>18314.454133</td>\n",
       "      <td>1151.087498</td>\n",
       "      <td>0.281733</td>\n",
       "    </tr>\n",
       "    <tr>\n",
       "      <th>std</th>\n",
       "      <td>8.453392e+05</td>\n",
       "      <td>0.271604</td>\n",
       "      <td>4.908924</td>\n",
       "      <td>7.041946</td>\n",
       "      <td>1.602622e+07</td>\n",
       "      <td>0.498598</td>\n",
       "      <td>0.347192</td>\n",
       "      <td>3.192612e+07</td>\n",
       "      <td>3.178714e+05</td>\n",
       "      <td>11926.764673</td>\n",
       "      <td>1604.451418</td>\n",
       "      <td>0.449874</td>\n",
       "    </tr>\n",
       "    <tr>\n",
       "      <th>min</th>\n",
       "      <td>1.645970e+05</td>\n",
       "      <td>0.000000</td>\n",
       "      <td>2.000000</td>\n",
       "      <td>4.000000</td>\n",
       "      <td>0.000000e+00</td>\n",
       "      <td>0.000000</td>\n",
       "      <td>0.000000</td>\n",
       "      <td>1.124200e+04</td>\n",
       "      <td>0.000000e+00</td>\n",
       "      <td>0.000000</td>\n",
       "      <td>585.000000</td>\n",
       "      <td>0.000000</td>\n",
       "    </tr>\n",
       "    <tr>\n",
       "      <th>25%</th>\n",
       "      <td>8.443410e+05</td>\n",
       "      <td>0.000000</td>\n",
       "      <td>8.000000</td>\n",
       "      <td>13.500000</td>\n",
       "      <td>2.792295e+05</td>\n",
       "      <td>0.000000</td>\n",
       "      <td>0.000000</td>\n",
       "      <td>1.801690e+05</td>\n",
       "      <td>1.142565e+05</td>\n",
       "      <td>10067.500000</td>\n",
       "      <td>711.000000</td>\n",
       "      <td>0.000000</td>\n",
       "    </tr>\n",
       "    <tr>\n",
       "      <th>50%</th>\n",
       "      <td>1.168386e+06</td>\n",
       "      <td>0.000000</td>\n",
       "      <td>10.000000</td>\n",
       "      <td>17.000000</td>\n",
       "      <td>4.781590e+05</td>\n",
       "      <td>0.000000</td>\n",
       "      <td>0.000000</td>\n",
       "      <td>3.095730e+05</td>\n",
       "      <td>2.093230e+05</td>\n",
       "      <td>16076.500000</td>\n",
       "      <td>731.000000</td>\n",
       "      <td>0.000000</td>\n",
       "    </tr>\n",
       "    <tr>\n",
       "      <th>75%</th>\n",
       "      <td>1.640137e+06</td>\n",
       "      <td>0.000000</td>\n",
       "      <td>14.000000</td>\n",
       "      <td>21.800000</td>\n",
       "      <td>7.935015e+05</td>\n",
       "      <td>0.000000</td>\n",
       "      <td>0.000000</td>\n",
       "      <td>5.198820e+05</td>\n",
       "      <td>3.604062e+05</td>\n",
       "      <td>23818.000000</td>\n",
       "      <td>743.000000</td>\n",
       "      <td>1.000000</td>\n",
       "    </tr>\n",
       "    <tr>\n",
       "      <th>max</th>\n",
       "      <td>1.014934e+07</td>\n",
       "      <td>7.000000</td>\n",
       "      <td>43.000000</td>\n",
       "      <td>57.700000</td>\n",
       "      <td>1.304726e+09</td>\n",
       "      <td>7.000000</td>\n",
       "      <td>4.000000</td>\n",
       "      <td>1.000000e+08</td>\n",
       "      <td>6.506797e+06</td>\n",
       "      <td>136679.000000</td>\n",
       "      <td>7510.000000</td>\n",
       "      <td>1.000000</td>\n",
       "    </tr>\n",
       "  </tbody>\n",
       "</table>\n",
       "</div>"
      ],
      "text/plain": [
       "       Annual Income    Tax Liens  Number of Open Accounts  \\\n",
       "count   5.943000e+03  7500.000000              7500.000000   \n",
       "mean    1.366392e+06     0.030133                11.130933   \n",
       "std     8.453392e+05     0.271604                 4.908924   \n",
       "min     1.645970e+05     0.000000                 2.000000   \n",
       "25%     8.443410e+05     0.000000                 8.000000   \n",
       "50%     1.168386e+06     0.000000                10.000000   \n",
       "75%     1.640137e+06     0.000000                14.000000   \n",
       "max     1.014934e+07     7.000000                43.000000   \n",
       "\n",
       "       Years of Credit History  Maximum Open Credit  \\\n",
       "count              7500.000000         7.500000e+03   \n",
       "mean                 18.317467         9.451537e+05   \n",
       "std                   7.041946         1.602622e+07   \n",
       "min                   4.000000         0.000000e+00   \n",
       "25%                  13.500000         2.792295e+05   \n",
       "50%                  17.000000         4.781590e+05   \n",
       "75%                  21.800000         7.935015e+05   \n",
       "max                  57.700000         1.304726e+09   \n",
       "\n",
       "       Number of Credit Problems  Bankruptcies  Current Loan Amount  \\\n",
       "count                7500.000000   7486.000000         7.500000e+03   \n",
       "mean                    0.170000      0.117152         1.187318e+07   \n",
       "std                     0.498598      0.347192         3.192612e+07   \n",
       "min                     0.000000      0.000000         1.124200e+04   \n",
       "25%                     0.000000      0.000000         1.801690e+05   \n",
       "50%                     0.000000      0.000000         3.095730e+05   \n",
       "75%                     0.000000      0.000000         5.198820e+05   \n",
       "max                     7.000000      4.000000         1.000000e+08   \n",
       "\n",
       "       Current Credit Balance   Monthly Debt  Credit Score  Credit Default  \n",
       "count            7.500000e+03    7500.000000   5943.000000     7500.000000  \n",
       "mean             2.898332e+05   18314.454133   1151.087498        0.281733  \n",
       "std              3.178714e+05   11926.764673   1604.451418        0.449874  \n",
       "min              0.000000e+00       0.000000    585.000000        0.000000  \n",
       "25%              1.142565e+05   10067.500000    711.000000        0.000000  \n",
       "50%              2.093230e+05   16076.500000    731.000000        0.000000  \n",
       "75%              3.604062e+05   23818.000000    743.000000        1.000000  \n",
       "max              6.506797e+06  136679.000000   7510.000000        1.000000  "
      ]
     },
     "execution_count": 471,
     "metadata": {},
     "output_type": "execute_result"
    }
   ],
   "source": [
    "df.describe()"
   ]
  },
  {
   "cell_type": "code",
   "execution_count": 472,
   "metadata": {},
   "outputs": [],
   "source": [
    "to_stack = []\n",
    "for value in df['Credit Score']:\n",
    "    if value > 1000:\n",
    "        to_stack.append(value/10)\n",
    "    else:\n",
    "        to_stack.append(value)\n",
    "df['Credit Score'] = pd.Series(to_stack)"
   ]
  },
  {
   "cell_type": "code",
   "execution_count": 473,
   "metadata": {},
   "outputs": [],
   "source": [
    "fillna_dict = {'Annual Income': df['Annual Income'].mean(), 'Years in current job': '10+ years', \n",
    "               'Bankruptcies': 0, 'Credit Score': df['Credit Score'].mean()}"
   ]
  },
  {
   "cell_type": "code",
   "execution_count": 474,
   "metadata": {},
   "outputs": [],
   "source": [
    "df = df.fillna(value=fillna_dict)"
   ]
  },
  {
   "cell_type": "code",
   "execution_count": 475,
   "metadata": {},
   "outputs": [
    {
     "name": "stdout",
     "output_type": "stream",
     "text": [
      "<class 'pandas.core.frame.DataFrame'>\n",
      "RangeIndex: 7500 entries, 0 to 7499\n",
      "Data columns (total 16 columns):\n",
      "Home Ownership               7500 non-null object\n",
      "Annual Income                7500 non-null float64\n",
      "Years in current job         7500 non-null object\n",
      "Tax Liens                    7500 non-null float64\n",
      "Number of Open Accounts      7500 non-null float64\n",
      "Years of Credit History      7500 non-null float64\n",
      "Maximum Open Credit          7500 non-null float64\n",
      "Number of Credit Problems    7500 non-null float64\n",
      "Bankruptcies                 7500 non-null float64\n",
      "Purpose                      7500 non-null object\n",
      "Term                         7500 non-null object\n",
      "Current Loan Amount          7500 non-null float64\n",
      "Current Credit Balance       7500 non-null float64\n",
      "Monthly Debt                 7500 non-null float64\n",
      "Credit Score                 7500 non-null float64\n",
      "Credit Default               7500 non-null int64\n",
      "dtypes: float64(11), int64(1), object(4)\n",
      "memory usage: 937.6+ KB\n"
     ]
    }
   ],
   "source": [
    "df.info()"
   ]
  },
  {
   "cell_type": "code",
   "execution_count": 476,
   "metadata": {},
   "outputs": [
    {
     "data": {
      "text/plain": [
       "Home Mortgage    3637\n",
       "Rent             3204\n",
       "Own Home          647\n",
       "Have Mortgage      12\n",
       "Name: Home Ownership, dtype: int64"
      ]
     },
     "execution_count": 476,
     "metadata": {},
     "output_type": "execute_result"
    }
   ],
   "source": [
    "df['Home Ownership'].value_counts()"
   ]
  },
  {
   "cell_type": "code",
   "execution_count": 477,
   "metadata": {},
   "outputs": [],
   "source": [
    "data_test = pd.read_csv('Data/course_project_test.csv')"
   ]
  },
  {
   "cell_type": "code",
   "execution_count": 478,
   "metadata": {},
   "outputs": [
    {
     "name": "stdout",
     "output_type": "stream",
     "text": [
      "<class 'pandas.core.frame.DataFrame'>\n",
      "RangeIndex: 2500 entries, 0 to 2499\n",
      "Data columns (total 16 columns):\n",
      "Home Ownership                  2500 non-null object\n",
      "Annual Income                   1987 non-null float64\n",
      "Years in current job            2414 non-null object\n",
      "Tax Liens                       2500 non-null float64\n",
      "Number of Open Accounts         2500 non-null float64\n",
      "Years of Credit History         2500 non-null float64\n",
      "Maximum Open Credit             2500 non-null float64\n",
      "Number of Credit Problems       2500 non-null float64\n",
      "Months since last delinquent    1142 non-null float64\n",
      "Bankruptcies                    2497 non-null float64\n",
      "Purpose                         2500 non-null object\n",
      "Term                            2500 non-null object\n",
      "Current Loan Amount             2500 non-null float64\n",
      "Current Credit Balance          2500 non-null float64\n",
      "Monthly Debt                    2500 non-null float64\n",
      "Credit Score                    1987 non-null float64\n",
      "dtypes: float64(12), object(4)\n",
      "memory usage: 312.6+ KB\n"
     ]
    }
   ],
   "source": [
    "data_test.info()"
   ]
  },
  {
   "cell_type": "code",
   "execution_count": 479,
   "metadata": {},
   "outputs": [],
   "source": [
    "df_test = data_test.copy()"
   ]
  },
  {
   "cell_type": "code",
   "execution_count": 480,
   "metadata": {},
   "outputs": [],
   "source": [
    "to_stack = []\n",
    "for value in df_test['Credit Score']:\n",
    "    if value > 1000:\n",
    "        to_stack.append(value/10)\n",
    "    else:\n",
    "        to_stack.append(value)\n",
    "df_test['Credit Score'] = pd.Series(to_stack)"
   ]
  },
  {
   "cell_type": "code",
   "execution_count": 481,
   "metadata": {},
   "outputs": [],
   "source": [
    "fillna_dict_test = {'Annual Income': df_test['Annual Income'].mean(), 'Years in current job': '10+ years', \n",
    "               'Bankruptcies': 0, 'Credit Score': df_test['Credit Score'].mean()}"
   ]
  },
  {
   "cell_type": "code",
   "execution_count": 482,
   "metadata": {},
   "outputs": [],
   "source": [
    "df_test = df_test.fillna(fillna_dict_test)"
   ]
  },
  {
   "cell_type": "code",
   "execution_count": 483,
   "metadata": {},
   "outputs": [],
   "source": [
    "df_test = df_test.drop(labels='Months since last delinquent', axis=1)"
   ]
  },
  {
   "cell_type": "code",
   "execution_count": 484,
   "metadata": {},
   "outputs": [
    {
     "name": "stdout",
     "output_type": "stream",
     "text": [
      "<class 'pandas.core.frame.DataFrame'>\n",
      "RangeIndex: 2500 entries, 0 to 2499\n",
      "Data columns (total 15 columns):\n",
      "Home Ownership               2500 non-null object\n",
      "Annual Income                2500 non-null float64\n",
      "Years in current job         2500 non-null object\n",
      "Tax Liens                    2500 non-null float64\n",
      "Number of Open Accounts      2500 non-null float64\n",
      "Years of Credit History      2500 non-null float64\n",
      "Maximum Open Credit          2500 non-null float64\n",
      "Number of Credit Problems    2500 non-null float64\n",
      "Bankruptcies                 2500 non-null float64\n",
      "Purpose                      2500 non-null object\n",
      "Term                         2500 non-null object\n",
      "Current Loan Amount          2500 non-null float64\n",
      "Current Credit Balance       2500 non-null float64\n",
      "Monthly Debt                 2500 non-null float64\n",
      "Credit Score                 2500 non-null float64\n",
      "dtypes: float64(11), object(4)\n",
      "memory usage: 293.0+ KB\n"
     ]
    }
   ],
   "source": [
    "df_test.info()"
   ]
  },
  {
   "cell_type": "code",
   "execution_count": 485,
   "metadata": {},
   "outputs": [
    {
     "data": {
      "text/html": [
       "<div>\n",
       "<style scoped>\n",
       "    .dataframe tbody tr th:only-of-type {\n",
       "        vertical-align: middle;\n",
       "    }\n",
       "\n",
       "    .dataframe tbody tr th {\n",
       "        vertical-align: top;\n",
       "    }\n",
       "\n",
       "    .dataframe thead th {\n",
       "        text-align: right;\n",
       "    }\n",
       "</style>\n",
       "<table border=\"1\" class=\"dataframe\">\n",
       "  <thead>\n",
       "    <tr style=\"text-align: right;\">\n",
       "      <th>Credit Default</th>\n",
       "      <th>0</th>\n",
       "      <th>1</th>\n",
       "    </tr>\n",
       "    <tr>\n",
       "      <th>Home Ownership</th>\n",
       "      <th></th>\n",
       "      <th></th>\n",
       "    </tr>\n",
       "  </thead>\n",
       "  <tbody>\n",
       "    <tr>\n",
       "      <th>Have Mortgage</th>\n",
       "      <td>10</td>\n",
       "      <td>2</td>\n",
       "    </tr>\n",
       "    <tr>\n",
       "      <th>Home Mortgage</th>\n",
       "      <td>2721</td>\n",
       "      <td>916</td>\n",
       "    </tr>\n",
       "  </tbody>\n",
       "</table>\n",
       "</div>"
      ],
      "text/plain": [
       "Credit Default     0    1\n",
       "Home Ownership           \n",
       "Have Mortgage     10    2\n",
       "Home Mortgage   2721  916"
      ]
     },
     "execution_count": 485,
     "metadata": {},
     "output_type": "execute_result"
    }
   ],
   "source": [
    "table = pd.pivot_table(df.reset_index().loc[df['Home Ownership'].isin(['Home Mortgage', 'Have Mortgage'])], \n",
    "               values='index', index='Home Ownership', columns='Credit Default', aggfunc='count')\n",
    "table"
   ]
  },
  {
   "cell_type": "markdown",
   "metadata": {},
   "source": [
    "Скорее всего данные две категории представляют из себя одно и то же. Проверим это с помощью критерия $\\chi$-квадрат Пирсона <br>\n",
    "Нулевая гипотеза: ожидаемые и наблюдаемые частоты согласованы.<br>\n",
    "Альтернативная гипотеза: частоты не согласованы.<br>\n",
    "Уровень значимости $\\alpha=0.05$<br>"
   ]
  },
  {
   "cell_type": "code",
   "execution_count": 486,
   "metadata": {},
   "outputs": [],
   "source": [
    "from scipy.stats import chi2_contingency"
   ]
  },
  {
   "cell_type": "code",
   "execution_count": 487,
   "metadata": {},
   "outputs": [
    {
     "data": {
      "text/plain": [
       "0.4971556152230545"
      ]
     },
     "execution_count": 487,
     "metadata": {},
     "output_type": "execute_result"
    }
   ],
   "source": [
    "chi2, p, dof, expected = chi2_contingency(table, correction=False)\n",
    "p"
   ]
  },
  {
   "cell_type": "markdown",
   "metadata": {},
   "source": [
    "p-value больше чем уровень значимости $\\alpha=0.05$ Значит нулевую гипотезу можно не отбрасывать."
   ]
  },
  {
   "cell_type": "code",
   "execution_count": 488,
   "metadata": {},
   "outputs": [],
   "source": [
    "df = df.replace('Have Mortgage', 'Home Mortgage')"
   ]
  },
  {
   "cell_type": "code",
   "execution_count": 489,
   "metadata": {},
   "outputs": [],
   "source": [
    "df_test = df_test.replace('Have Mortgage', 'Home Mortgage')"
   ]
  },
  {
   "cell_type": "code",
   "execution_count": 490,
   "metadata": {},
   "outputs": [
    {
     "data": {
      "text/plain": [
       "debt consolidation      5944\n",
       "other                    665\n",
       "home improvements        412\n",
       "business loan            129\n",
       "buy a car                 96\n",
       "medical bills             71\n",
       "major purchase            40\n",
       "take a trip               37\n",
       "buy house                 34\n",
       "small business            26\n",
       "wedding                   15\n",
       "moving                    11\n",
       "educational expenses      10\n",
       "vacation                   8\n",
       "renewable energy           2\n",
       "Name: Purpose, dtype: int64"
      ]
     },
     "execution_count": 490,
     "metadata": {},
     "output_type": "execute_result"
    }
   ],
   "source": [
    "df['Purpose'].value_counts()"
   ]
  },
  {
   "cell_type": "code",
   "execution_count": 491,
   "metadata": {},
   "outputs": [
    {
     "data": {
      "text/plain": [
       "array(['10+ years', '8 years', '6 years', '7 years', '5 years', '1 year',\n",
       "       '< 1 year', '4 years', '3 years', '2 years', '9 years'],\n",
       "      dtype=object)"
      ]
     },
     "execution_count": 491,
     "metadata": {},
     "output_type": "execute_result"
    }
   ],
   "source": [
    "df['Years in current job'].unique()"
   ]
  },
  {
   "cell_type": "code",
   "execution_count": 492,
   "metadata": {},
   "outputs": [],
   "source": [
    "years_encoding_dict = {'< 1 year': 0, '1 year': 1, '2 years': 2, '3 years': 3, '4 years': 4, '5 years': 5, '6 years': 6, \n",
    "                      '7 years': 7, '8 years': 8, '9 years': 9, '10+ years': 10}"
   ]
  },
  {
   "cell_type": "code",
   "execution_count": 493,
   "metadata": {},
   "outputs": [],
   "source": [
    "df['Years in current job'] = df['Years in current job'].replace(years_encoding_dict)"
   ]
  },
  {
   "cell_type": "code",
   "execution_count": 494,
   "metadata": {},
   "outputs": [],
   "source": [
    "df_test['Years in current job'] = df_test['Years in current job'].replace(years_encoding_dict)"
   ]
  },
  {
   "cell_type": "code",
   "execution_count": 495,
   "metadata": {},
   "outputs": [
    {
     "data": {
      "text/plain": [
       "array(['Short Term', 'Long Term'], dtype=object)"
      ]
     },
     "execution_count": 495,
     "metadata": {},
     "output_type": "execute_result"
    }
   ],
   "source": [
    "df['Term'].unique()"
   ]
  },
  {
   "cell_type": "code",
   "execution_count": 496,
   "metadata": {},
   "outputs": [],
   "source": [
    "df['Term'] = df['Term'].replace({'Short Term': 0, 'Long Term': 1})"
   ]
  },
  {
   "cell_type": "code",
   "execution_count": 497,
   "metadata": {},
   "outputs": [],
   "source": [
    "df_test['Term'] = df_test['Term'].replace({'Short Term': 0, 'Long Term': 1})"
   ]
  },
  {
   "cell_type": "code",
   "execution_count": 498,
   "metadata": {},
   "outputs": [
    {
     "data": {
      "text/html": [
       "<div>\n",
       "<style scoped>\n",
       "    .dataframe tbody tr th:only-of-type {\n",
       "        vertical-align: middle;\n",
       "    }\n",
       "\n",
       "    .dataframe tbody tr th {\n",
       "        vertical-align: top;\n",
       "    }\n",
       "\n",
       "    .dataframe thead th {\n",
       "        text-align: right;\n",
       "    }\n",
       "</style>\n",
       "<table border=\"1\" class=\"dataframe\">\n",
       "  <thead>\n",
       "    <tr style=\"text-align: right;\">\n",
       "      <th>Credit Default</th>\n",
       "      <th>0</th>\n",
       "      <th>1</th>\n",
       "    </tr>\n",
       "    <tr>\n",
       "      <th>Purpose</th>\n",
       "      <th></th>\n",
       "      <th></th>\n",
       "    </tr>\n",
       "  </thead>\n",
       "  <tbody>\n",
       "    <tr>\n",
       "      <th>business loan</th>\n",
       "      <td>74.0</td>\n",
       "      <td>55.0</td>\n",
       "    </tr>\n",
       "    <tr>\n",
       "      <th>buy a car</th>\n",
       "      <td>72.0</td>\n",
       "      <td>24.0</td>\n",
       "    </tr>\n",
       "    <tr>\n",
       "      <th>buy house</th>\n",
       "      <td>25.0</td>\n",
       "      <td>9.0</td>\n",
       "    </tr>\n",
       "    <tr>\n",
       "      <th>debt consolidation</th>\n",
       "      <td>4290.0</td>\n",
       "      <td>1654.0</td>\n",
       "    </tr>\n",
       "    <tr>\n",
       "      <th>educational expenses</th>\n",
       "      <td>9.0</td>\n",
       "      <td>1.0</td>\n",
       "    </tr>\n",
       "    <tr>\n",
       "      <th>home improvements</th>\n",
       "      <td>304.0</td>\n",
       "      <td>108.0</td>\n",
       "    </tr>\n",
       "    <tr>\n",
       "      <th>major purchase</th>\n",
       "      <td>31.0</td>\n",
       "      <td>9.0</td>\n",
       "    </tr>\n",
       "    <tr>\n",
       "      <th>medical bills</th>\n",
       "      <td>49.0</td>\n",
       "      <td>22.0</td>\n",
       "    </tr>\n",
       "    <tr>\n",
       "      <th>moving</th>\n",
       "      <td>9.0</td>\n",
       "      <td>2.0</td>\n",
       "    </tr>\n",
       "    <tr>\n",
       "      <th>other</th>\n",
       "      <td>468.0</td>\n",
       "      <td>197.0</td>\n",
       "    </tr>\n",
       "    <tr>\n",
       "      <th>renewable energy</th>\n",
       "      <td>NaN</td>\n",
       "      <td>2.0</td>\n",
       "    </tr>\n",
       "    <tr>\n",
       "      <th>small business</th>\n",
       "      <td>12.0</td>\n",
       "      <td>14.0</td>\n",
       "    </tr>\n",
       "    <tr>\n",
       "      <th>take a trip</th>\n",
       "      <td>27.0</td>\n",
       "      <td>10.0</td>\n",
       "    </tr>\n",
       "    <tr>\n",
       "      <th>vacation</th>\n",
       "      <td>6.0</td>\n",
       "      <td>2.0</td>\n",
       "    </tr>\n",
       "    <tr>\n",
       "      <th>wedding</th>\n",
       "      <td>11.0</td>\n",
       "      <td>4.0</td>\n",
       "    </tr>\n",
       "  </tbody>\n",
       "</table>\n",
       "</div>"
      ],
      "text/plain": [
       "Credit Default             0       1\n",
       "Purpose                             \n",
       "business loan           74.0    55.0\n",
       "buy a car               72.0    24.0\n",
       "buy house               25.0     9.0\n",
       "debt consolidation    4290.0  1654.0\n",
       "educational expenses     9.0     1.0\n",
       "home improvements      304.0   108.0\n",
       "major purchase          31.0     9.0\n",
       "medical bills           49.0    22.0\n",
       "moving                   9.0     2.0\n",
       "other                  468.0   197.0\n",
       "renewable energy         NaN     2.0\n",
       "small business          12.0    14.0\n",
       "take a trip             27.0    10.0\n",
       "vacation                 6.0     2.0\n",
       "wedding                 11.0     4.0"
      ]
     },
     "execution_count": 498,
     "metadata": {},
     "output_type": "execute_result"
    }
   ],
   "source": [
    "pd.pivot_table(df.reset_index(), values='index', index='Purpose', columns='Credit Default', aggfunc='count')"
   ]
  },
  {
   "cell_type": "markdown",
   "metadata": {},
   "source": [
    "Попробуем объединить немногочисленные категории с категорией other. Воспользуемся критерием $\\chi$-квадрат Пирсона. Уровень значимости примем $\\alpha=0.05$"
   ]
  },
  {
   "cell_type": "code",
   "execution_count": 499,
   "metadata": {},
   "outputs": [
    {
     "name": "stdout",
     "output_type": "stream",
     "text": [
      "P-value of vacation: 0.7757314788266316\n",
      "P-value of educational expenses: 0.17609345787837388\n",
      "P-value of moving: 0.4088840731938278\n",
      "P-value of wedding: 0.8039564703375524\n",
      "P-value of small business: 0.008518639588496912\n"
     ]
    }
   ],
   "source": [
    "small_categries = ['vacation', 'educational expenses', 'moving', 'wedding', 'small business']\n",
    "for category in small_categries:\n",
    "    table = pd.pivot_table(df.reset_index().loc[df['Purpose'].isin(['other', category])], values='index', \n",
    "                          index='Purpose', columns='Credit Default', aggfunc='count')\n",
    "    chi2, p, dof, expected = chi2_contingency(table, correction=False)\n",
    "    print(f\"P-value of {category}: {p}\")"
   ]
  },
  {
   "cell_type": "code",
   "execution_count": 500,
   "metadata": {},
   "outputs": [],
   "source": [
    "small_categries.pop()\n",
    "small_categries.append('renewable energy')"
   ]
  },
  {
   "cell_type": "code",
   "execution_count": 501,
   "metadata": {},
   "outputs": [],
   "source": [
    "for category in small_categries:\n",
    "    df['Purpose'] = df['Purpose'].replace(category, 'other')\n",
    "    df_test['Purpose'] = df_test['Purpose'].replace(category, 'other')"
   ]
  },
  {
   "cell_type": "code",
   "execution_count": 502,
   "metadata": {},
   "outputs": [
    {
     "data": {
      "text/plain": [
       "debt consolidation    5944\n",
       "other                  711\n",
       "home improvements      412\n",
       "business loan          129\n",
       "buy a car               96\n",
       "medical bills           71\n",
       "major purchase          40\n",
       "take a trip             37\n",
       "buy house               34\n",
       "small business          26\n",
       "Name: Purpose, dtype: int64"
      ]
     },
     "execution_count": 502,
     "metadata": {},
     "output_type": "execute_result"
    }
   ],
   "source": [
    "df['Purpose'].value_counts()"
   ]
  },
  {
   "cell_type": "code",
   "execution_count": 503,
   "metadata": {},
   "outputs": [
    {
     "data": {
      "text/plain": [
       "debt consolidation    1973\n",
       "other                  249\n",
       "home improvements      140\n",
       "buy a car               34\n",
       "business loan           30\n",
       "medical bills           27\n",
       "buy house               19\n",
       "take a trip             14\n",
       "major purchase           9\n",
       "small business           5\n",
       "Name: Purpose, dtype: int64"
      ]
     },
     "execution_count": 503,
     "metadata": {},
     "output_type": "execute_result"
    }
   ],
   "source": [
    "df_test['Purpose'].value_counts()"
   ]
  },
  {
   "cell_type": "markdown",
   "metadata": {},
   "source": [
    "Теперь посмотрим на информативность признаков и примем решение о применении метода PCA. Для начала посмотрим на стандартные отклонения."
   ]
  },
  {
   "cell_type": "code",
   "execution_count": 504,
   "metadata": {},
   "outputs": [
    {
     "data": {
      "text/html": [
       "<div>\n",
       "<style scoped>\n",
       "    .dataframe tbody tr th:only-of-type {\n",
       "        vertical-align: middle;\n",
       "    }\n",
       "\n",
       "    .dataframe tbody tr th {\n",
       "        vertical-align: top;\n",
       "    }\n",
       "\n",
       "    .dataframe thead th {\n",
       "        text-align: right;\n",
       "    }\n",
       "</style>\n",
       "<table border=\"1\" class=\"dataframe\">\n",
       "  <thead>\n",
       "    <tr style=\"text-align: right;\">\n",
       "      <th></th>\n",
       "      <th>Annual Income</th>\n",
       "      <th>Years in current job</th>\n",
       "      <th>Tax Liens</th>\n",
       "      <th>Number of Open Accounts</th>\n",
       "      <th>Years of Credit History</th>\n",
       "      <th>Maximum Open Credit</th>\n",
       "      <th>Number of Credit Problems</th>\n",
       "      <th>Bankruptcies</th>\n",
       "      <th>Term</th>\n",
       "      <th>Current Loan Amount</th>\n",
       "      <th>Current Credit Balance</th>\n",
       "      <th>Monthly Debt</th>\n",
       "      <th>Credit Score</th>\n",
       "      <th>Credit Default</th>\n",
       "    </tr>\n",
       "  </thead>\n",
       "  <tbody>\n",
       "    <tr>\n",
       "      <th>count</th>\n",
       "      <td>7.500000e+03</td>\n",
       "      <td>7500.000000</td>\n",
       "      <td>7500.000000</td>\n",
       "      <td>7500.000000</td>\n",
       "      <td>7500.000000</td>\n",
       "      <td>7.500000e+03</td>\n",
       "      <td>7500.000000</td>\n",
       "      <td>7500.000000</td>\n",
       "      <td>7500.000000</td>\n",
       "      <td>7.500000e+03</td>\n",
       "      <td>7.500000e+03</td>\n",
       "      <td>7500.000000</td>\n",
       "      <td>7500.000000</td>\n",
       "      <td>7500.000000</td>\n",
       "    </tr>\n",
       "    <tr>\n",
       "      <th>mean</th>\n",
       "      <td>1.366392e+06</td>\n",
       "      <td>6.084133</td>\n",
       "      <td>0.030133</td>\n",
       "      <td>11.130933</td>\n",
       "      <td>18.317467</td>\n",
       "      <td>9.451537e+05</td>\n",
       "      <td>0.170000</td>\n",
       "      <td>0.116933</td>\n",
       "      <td>0.259200</td>\n",
       "      <td>1.187318e+07</td>\n",
       "      <td>2.898332e+05</td>\n",
       "      <td>18314.454133</td>\n",
       "      <td>720.086993</td>\n",
       "      <td>0.281733</td>\n",
       "    </tr>\n",
       "    <tr>\n",
       "      <th>std</th>\n",
       "      <td>7.524812e+05</td>\n",
       "      <td>3.640717</td>\n",
       "      <td>0.271604</td>\n",
       "      <td>4.908924</td>\n",
       "      <td>7.041946</td>\n",
       "      <td>1.602622e+07</td>\n",
       "      <td>0.498598</td>\n",
       "      <td>0.346904</td>\n",
       "      <td>0.438225</td>\n",
       "      <td>3.192612e+07</td>\n",
       "      <td>3.178714e+05</td>\n",
       "      <td>11926.764673</td>\n",
       "      <td>24.886214</td>\n",
       "      <td>0.449874</td>\n",
       "    </tr>\n",
       "    <tr>\n",
       "      <th>min</th>\n",
       "      <td>1.645970e+05</td>\n",
       "      <td>0.000000</td>\n",
       "      <td>0.000000</td>\n",
       "      <td>2.000000</td>\n",
       "      <td>4.000000</td>\n",
       "      <td>0.000000e+00</td>\n",
       "      <td>0.000000</td>\n",
       "      <td>0.000000</td>\n",
       "      <td>0.000000</td>\n",
       "      <td>1.124200e+04</td>\n",
       "      <td>0.000000e+00</td>\n",
       "      <td>0.000000</td>\n",
       "      <td>585.000000</td>\n",
       "      <td>0.000000</td>\n",
       "    </tr>\n",
       "    <tr>\n",
       "      <th>25%</th>\n",
       "      <td>9.311330e+05</td>\n",
       "      <td>3.000000</td>\n",
       "      <td>0.000000</td>\n",
       "      <td>8.000000</td>\n",
       "      <td>13.500000</td>\n",
       "      <td>2.792295e+05</td>\n",
       "      <td>0.000000</td>\n",
       "      <td>0.000000</td>\n",
       "      <td>0.000000</td>\n",
       "      <td>1.801690e+05</td>\n",
       "      <td>1.142565e+05</td>\n",
       "      <td>10067.500000</td>\n",
       "      <td>715.000000</td>\n",
       "      <td>0.000000</td>\n",
       "    </tr>\n",
       "    <tr>\n",
       "      <th>50%</th>\n",
       "      <td>1.366392e+06</td>\n",
       "      <td>6.000000</td>\n",
       "      <td>0.000000</td>\n",
       "      <td>10.000000</td>\n",
       "      <td>17.000000</td>\n",
       "      <td>4.781590e+05</td>\n",
       "      <td>0.000000</td>\n",
       "      <td>0.000000</td>\n",
       "      <td>0.000000</td>\n",
       "      <td>3.095730e+05</td>\n",
       "      <td>2.093230e+05</td>\n",
       "      <td>16076.500000</td>\n",
       "      <td>720.086993</td>\n",
       "      <td>0.000000</td>\n",
       "    </tr>\n",
       "    <tr>\n",
       "      <th>75%</th>\n",
       "      <td>1.499974e+06</td>\n",
       "      <td>10.000000</td>\n",
       "      <td>0.000000</td>\n",
       "      <td>14.000000</td>\n",
       "      <td>21.800000</td>\n",
       "      <td>7.935015e+05</td>\n",
       "      <td>0.000000</td>\n",
       "      <td>0.000000</td>\n",
       "      <td>1.000000</td>\n",
       "      <td>5.198820e+05</td>\n",
       "      <td>3.604062e+05</td>\n",
       "      <td>23818.000000</td>\n",
       "      <td>738.000000</td>\n",
       "      <td>1.000000</td>\n",
       "    </tr>\n",
       "    <tr>\n",
       "      <th>max</th>\n",
       "      <td>1.014934e+07</td>\n",
       "      <td>10.000000</td>\n",
       "      <td>7.000000</td>\n",
       "      <td>43.000000</td>\n",
       "      <td>57.700000</td>\n",
       "      <td>1.304726e+09</td>\n",
       "      <td>7.000000</td>\n",
       "      <td>4.000000</td>\n",
       "      <td>1.000000</td>\n",
       "      <td>1.000000e+08</td>\n",
       "      <td>6.506797e+06</td>\n",
       "      <td>136679.000000</td>\n",
       "      <td>751.000000</td>\n",
       "      <td>1.000000</td>\n",
       "    </tr>\n",
       "  </tbody>\n",
       "</table>\n",
       "</div>"
      ],
      "text/plain": [
       "       Annual Income  Years in current job    Tax Liens  \\\n",
       "count   7.500000e+03           7500.000000  7500.000000   \n",
       "mean    1.366392e+06              6.084133     0.030133   \n",
       "std     7.524812e+05              3.640717     0.271604   \n",
       "min     1.645970e+05              0.000000     0.000000   \n",
       "25%     9.311330e+05              3.000000     0.000000   \n",
       "50%     1.366392e+06              6.000000     0.000000   \n",
       "75%     1.499974e+06             10.000000     0.000000   \n",
       "max     1.014934e+07             10.000000     7.000000   \n",
       "\n",
       "       Number of Open Accounts  Years of Credit History  Maximum Open Credit  \\\n",
       "count              7500.000000              7500.000000         7.500000e+03   \n",
       "mean                 11.130933                18.317467         9.451537e+05   \n",
       "std                   4.908924                 7.041946         1.602622e+07   \n",
       "min                   2.000000                 4.000000         0.000000e+00   \n",
       "25%                   8.000000                13.500000         2.792295e+05   \n",
       "50%                  10.000000                17.000000         4.781590e+05   \n",
       "75%                  14.000000                21.800000         7.935015e+05   \n",
       "max                  43.000000                57.700000         1.304726e+09   \n",
       "\n",
       "       Number of Credit Problems  Bankruptcies         Term  \\\n",
       "count                7500.000000   7500.000000  7500.000000   \n",
       "mean                    0.170000      0.116933     0.259200   \n",
       "std                     0.498598      0.346904     0.438225   \n",
       "min                     0.000000      0.000000     0.000000   \n",
       "25%                     0.000000      0.000000     0.000000   \n",
       "50%                     0.000000      0.000000     0.000000   \n",
       "75%                     0.000000      0.000000     1.000000   \n",
       "max                     7.000000      4.000000     1.000000   \n",
       "\n",
       "       Current Loan Amount  Current Credit Balance   Monthly Debt  \\\n",
       "count         7.500000e+03            7.500000e+03    7500.000000   \n",
       "mean          1.187318e+07            2.898332e+05   18314.454133   \n",
       "std           3.192612e+07            3.178714e+05   11926.764673   \n",
       "min           1.124200e+04            0.000000e+00       0.000000   \n",
       "25%           1.801690e+05            1.142565e+05   10067.500000   \n",
       "50%           3.095730e+05            2.093230e+05   16076.500000   \n",
       "75%           5.198820e+05            3.604062e+05   23818.000000   \n",
       "max           1.000000e+08            6.506797e+06  136679.000000   \n",
       "\n",
       "       Credit Score  Credit Default  \n",
       "count   7500.000000     7500.000000  \n",
       "mean     720.086993        0.281733  \n",
       "std       24.886214        0.449874  \n",
       "min      585.000000        0.000000  \n",
       "25%      715.000000        0.000000  \n",
       "50%      720.086993        0.000000  \n",
       "75%      738.000000        1.000000  \n",
       "max      751.000000        1.000000  "
      ]
     },
     "execution_count": 504,
     "metadata": {},
     "output_type": "execute_result"
    }
   ],
   "source": [
    "df.describe()"
   ]
  },
  {
   "cell_type": "markdown",
   "metadata": {},
   "source": [
    "Как видно, некоторые стандартные отклонения достаточно маленькие. Поэтому посмотрим на информативность данных признаков в разрезе целевой переменной."
   ]
  },
  {
   "cell_type": "code",
   "execution_count": 505,
   "metadata": {},
   "outputs": [],
   "source": [
    "from scipy.stats import shapiro"
   ]
  },
  {
   "cell_type": "code",
   "execution_count": 506,
   "metadata": {},
   "outputs": [],
   "source": [
    "from scipy.stats import mannwhitneyu"
   ]
  },
  {
   "cell_type": "code",
   "execution_count": 507,
   "metadata": {},
   "outputs": [
    {
     "data": {
      "image/png": "[encoded data removed]",
      "text/plain": [
       "<Figure size 720x576 with 1 Axes>"
      ]
     },
     "metadata": {
      "needs_background": "light"
     },
     "output_type": "display_data"
    }
   ],
   "source": [
    "Bankruptcies_with_target = df[['Bankruptcies', 'Credit Default']]\n",
    "Bankruptcies = df['Bankruptcies']\n",
    "Bankruptcies_0 = Bankruptcies[Bankruptcies_with_target['Credit Default'] == 0]\n",
    "Bankruptcies_1 = Bankruptcies[Bankruptcies_with_target['Credit Default'] == 1]\n",
    "\n",
    "plt.figure(figsize=(10,8))\n",
    "sns.kdeplot(Bankruptcies_0, shade=True, color='g', label='0')\n",
    "sns.kdeplot(Bankruptcies_1, shade=True, color='r', label='1')\n",
    "plt.show()"
   ]
  },
  {
   "cell_type": "code",
   "execution_count": 508,
   "metadata": {},
   "outputs": [
    {
     "data": {
      "text/plain": [
       "(0.35982710123062134, 0.0)"
      ]
     },
     "execution_count": 508,
     "metadata": {},
     "output_type": "execute_result"
    }
   ],
   "source": [
    "shapiro(Bankruptcies.sample(2000))"
   ]
  },
  {
   "cell_type": "code",
   "execution_count": 509,
   "metadata": {},
   "outputs": [
    {
     "data": {
      "text/plain": [
       "MannwhitneyuResult(statistic=5686107.0, pvalue=0.454252811919966)"
      ]
     },
     "execution_count": 509,
     "metadata": {},
     "output_type": "execute_result"
    }
   ],
   "source": [
    "mannwhitneyu(Bankruptcies_0, Bankruptcies_1)"
   ]
  },
  {
   "cell_type": "markdown",
   "metadata": {},
   "source": [
    "Даный признак имеет не нормальное распределение и гипотеза о равенстве средних значений для уровня значимости 0.05 не отвергается. Значит этот признак не является информативным."
   ]
  },
  {
   "cell_type": "code",
   "execution_count": 510,
   "metadata": {},
   "outputs": [
    {
     "data": {
      "image/png": "[encoded data removed]",
      "text/plain": [
       "<Figure size 720x576 with 1 Axes>"
      ]
     },
     "metadata": {
      "needs_background": "light"
     },
     "output_type": "display_data"
    }
   ],
   "source": [
    "Tax_Liens_with_target = df[['Tax Liens', 'Credit Default']]\n",
    "Tax_Liens = df['Tax Liens']\n",
    "Tax_Liens_0 = Tax_Liens[Tax_Liens_with_target['Credit Default'] == 0]\n",
    "Tax_Liens_1 = Tax_Liens[Tax_Liens_with_target['Credit Default'] == 1]\n",
    "\n",
    "plt.figure(figsize=(10,8))\n",
    "sns.kdeplot(Tax_Liens_0, shade=True, color='g', label='0')\n",
    "sns.kdeplot(Tax_Liens_1, shade=True, color='r', label='1')\n",
    "plt.show()"
   ]
  },
  {
   "cell_type": "code",
   "execution_count": 511,
   "metadata": {},
   "outputs": [
    {
     "data": {
      "text/plain": [
       "(0.08282381296157837, 0.0)"
      ]
     },
     "execution_count": 511,
     "metadata": {},
     "output_type": "execute_result"
    }
   ],
   "source": [
    "shapiro(Tax_Liens.sample(2000))"
   ]
  },
  {
   "cell_type": "code",
   "execution_count": 512,
   "metadata": {},
   "outputs": [
    {
     "data": {
      "text/plain": [
       "MannwhitneyuResult(statistic=5652588.5, pvalue=0.02256138327362573)"
      ]
     },
     "execution_count": 512,
     "metadata": {},
     "output_type": "execute_result"
    }
   ],
   "source": [
    "mannwhitneyu(Tax_Liens_0, Tax_Liens_1)"
   ]
  },
  {
   "cell_type": "markdown",
   "metadata": {},
   "source": [
    "Данное распределение не является нормальным. Гипотеза о равенстве средних значений отвергается дял уровня значимости 0.05. Признак можно считать информативным."
   ]
  },
  {
   "cell_type": "code",
   "execution_count": 513,
   "metadata": {},
   "outputs": [
    {
     "data": {
      "image/png": "[encoded data removed]",
      "text/plain": [
       "<Figure size 720x576 with 1 Axes>"
      ]
     },
     "metadata": {
      "needs_background": "light"
     },
     "output_type": "display_data"
    }
   ],
   "source": [
    "Credit_Problems_with_target = df[['Number of Credit Problems', 'Credit Default']]\n",
    "Credit_Problems = df['Number of Credit Problems']\n",
    "Credit_Problems_0 = Credit_Problems[Credit_Problems_with_target['Credit Default'] == 0]\n",
    "Credit_Problems_1 = Credit_Problems[Credit_Problems_with_target['Credit Default'] == 1]\n",
    "\n",
    "plt.figure(figsize=(10,8))\n",
    "sns.kdeplot(Credit_Problems_0, shade=True, color='g', label='0')\n",
    "sns.kdeplot(Credit_Problems_1, shade=True, color='r', label='1')\n",
    "plt.show()"
   ]
  },
  {
   "cell_type": "code",
   "execution_count": 514,
   "metadata": {},
   "outputs": [
    {
     "data": {
      "text/plain": [
       "(0.34613531827926636, 0.0)"
      ]
     },
     "execution_count": 514,
     "metadata": {},
     "output_type": "execute_result"
    }
   ],
   "source": [
    "shapiro(Credit_Problems.sample(2000))"
   ]
  },
  {
   "cell_type": "code",
   "execution_count": 515,
   "metadata": {
    "scrolled": true
   },
   "outputs": [
    {
     "data": {
      "text/plain": [
       "MannwhitneyuResult(statistic=5655742.5, pvalue=0.23974551535317956)"
      ]
     },
     "execution_count": 515,
     "metadata": {},
     "output_type": "execute_result"
    }
   ],
   "source": [
    "mannwhitneyu(Credit_Problems_0, Credit_Problems_1)"
   ]
  },
  {
   "cell_type": "markdown",
   "metadata": {},
   "source": [
    "Даный признак имеет не нормальное распределение и гипотеза о равенстве средних значений для уровня значимости 0.05 не отвергается. Значит этот признак не является информативным."
   ]
  },
  {
   "cell_type": "code",
   "execution_count": 516,
   "metadata": {},
   "outputs": [],
   "source": [
    "TARGET = 'Credit Default'\n",
    "CATEGORICAL_FEATURES = ['Home Ownership', 'Years in current job', 'Purpose', 'Term']\n",
    "NUMERICAL_FEATURES = ['Annual Income', 'Tax Liens', 'Number of Open Accounts', 'Years of Credit History', 'Maximum Open Credit',\n",
    "                     'Number of Credit Problems', 'Bankruptcies', 'Current Loan Amount', 'Current Credit Balance', \n",
    "                     'Monthly Debt', 'Credit Score']"
   ]
  },
  {
   "cell_type": "markdown",
   "metadata": {},
   "source": [
    "Для получения более информативных признаков бинаризуем неинформативные признаки Number of Credit Problems и Bankruptcies"
   ]
  },
  {
   "cell_type": "code",
   "execution_count": 517,
   "metadata": {},
   "outputs": [],
   "source": [
    "from sklearn.preprocessing import Binarizer"
   ]
  },
  {
   "cell_type": "code",
   "execution_count": 518,
   "metadata": {},
   "outputs": [],
   "source": [
    "transformer = Binarizer(threshold=0)"
   ]
  },
  {
   "cell_type": "code",
   "execution_count": 519,
   "metadata": {},
   "outputs": [],
   "source": [
    "df['Number of Credit Problems'] = transformer.fit_transform(df['Number of Credit Problems'].values.reshape((-1,1)))"
   ]
  },
  {
   "cell_type": "code",
   "execution_count": 520,
   "metadata": {},
   "outputs": [],
   "source": [
    "df['Bankruptcies'] = transformer.transform(df['Bankruptcies'].values.reshape((-1,1)))"
   ]
  },
  {
   "cell_type": "code",
   "execution_count": 521,
   "metadata": {},
   "outputs": [],
   "source": [
    "df_test['Number of Credit Problems'] = transformer.fit_transform(df_test['Number of Credit Problems'].values.reshape((-1,1)))"
   ]
  },
  {
   "cell_type": "code",
   "execution_count": 522,
   "metadata": {},
   "outputs": [],
   "source": [
    "df_test['Bankruptcies'] = transformer.transform(df_test['Bankruptcies'].values.reshape((-1,1)))"
   ]
  },
  {
   "cell_type": "code",
   "execution_count": 523,
   "metadata": {},
   "outputs": [],
   "source": [
    "df_dummies = pd.get_dummies(df)\n",
    "df_test_dummies = pd.get_dummies(df_test)"
   ]
  },
  {
   "cell_type": "code",
   "execution_count": 524,
   "metadata": {},
   "outputs": [],
   "source": [
    "df_dummies.to_csv('Data/prepared_train_data_without_new_features.csv', index=False)"
   ]
  },
  {
   "cell_type": "code",
   "execution_count": 525,
   "metadata": {},
   "outputs": [],
   "source": [
    "df_test_dummies.to_csv('Data/prepared_test_data_without_new_features.csv', index=False)"
   ]
  },
  {
   "cell_type": "markdown",
   "metadata": {},
   "source": [
    "Проверим распределение переменной Credit Score на нормальность с уровнем значимости $\\alpha=0.05$"
   ]
  },
  {
   "cell_type": "code",
   "execution_count": 526,
   "metadata": {
    "scrolled": true
   },
   "outputs": [
    {
     "data": {
      "image/png": "[encoded data removed]",
      "text/plain": [
       "<Figure size 720x576 with 1 Axes>"
      ]
     },
     "metadata": {
      "needs_background": "light"
     },
     "output_type": "display_data"
    }
   ],
   "source": [
    "Credit_Score_with_target = df[['Credit Score', 'Credit Default']]\n",
    "Credit_Score = df['Credit Score']\n",
    "Credit_Score_0 = Credit_Score[Credit_Score_with_target['Credit Default'] == 0]\n",
    "Credit_Score_1 = Credit_Score[Credit_Score_with_target['Credit Default'] == 1]\n",
    "\n",
    "plt.figure(figsize=(10,8))\n",
    "sns.kdeplot(Credit_Score_0, shade=True, label='0', color='g')\n",
    "sns.kdeplot(Credit_Score_1, shade=True, label='1', color='r')\n",
    "plt.show()"
   ]
  },
  {
   "cell_type": "code",
   "execution_count": 527,
   "metadata": {},
   "outputs": [
    {
     "data": {
      "text/plain": [
       "(0.8329700231552124, 4.484487908697751e-31)"
      ]
     },
     "execution_count": 527,
     "metadata": {},
     "output_type": "execute_result"
    }
   ],
   "source": [
    "shapiro(Credit_Score.sample(1000))"
   ]
  },
  {
   "cell_type": "markdown",
   "metadata": {},
   "source": [
    "P-value оказалось меньше уровня значимости, значит распределение не нормальное. Воспользуемся критерием Манна-Уитни для проверки гипотезы об одинаковом среднем значении переменной Credit Score относительно целевой переменной с уровнем значимости 0.05."
   ]
  },
  {
   "cell_type": "code",
   "execution_count": 528,
   "metadata": {},
   "outputs": [
    {
     "data": {
      "text/plain": [
       "MannwhitneyuResult(statistic=4351637.0, pvalue=1.3032706268920752e-57)"
      ]
     },
     "execution_count": 528,
     "metadata": {},
     "output_type": "execute_result"
    }
   ],
   "source": [
    "mannwhitneyu(Credit_Score_0, Credit_Score_1)"
   ]
  },
  {
   "cell_type": "markdown",
   "metadata": {},
   "source": [
    "P-value оказалось меньше, значит мы отвергаем нулевую гипотезу. А значит данный признак можно назвать информативным."
   ]
  },
  {
   "cell_type": "code",
   "execution_count": null,
   "metadata": {},
   "outputs": [],
   "source": []
  }
 ],
 "metadata": {
  "kernelspec": {
   "display_name": "Python 3",
   "language": "python",
   "name": "python3"
  },
  "language_info": {
   "codemirror_mode": {
    "name": "ipython",
    "version": 3
   },
   "file_extension": ".py",
   "mimetype": "text/x-python",
   "name": "python",
   "nbconvert_exporter": "python",
   "pygments_lexer": "ipython3",
   "version": "3.7.3"
  }
 },
 "nbformat": 4,
 "nbformat_minor": 2
}
