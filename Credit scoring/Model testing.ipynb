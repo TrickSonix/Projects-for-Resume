{
 "cells": [
  {
   "cell_type": "code",
   "execution_count": 89,
   "metadata": {},
   "outputs": [],
   "source": [
    "import pandas as pd\n",
    "import numpy as np\n",
    "import xgboost as xgb, lightgbm as lgbm, catboost as catb\n",
    "import matplotlib.pyplot as plt\n",
    "\n",
    "from sklearn.model_selection import GridSearchCV\n",
    "from sklearn.model_selection import train_test_split\n",
    "from sklearn.metrics import classification_report, f1_score, precision_score, recall_score"
   ]
  },
  {
   "cell_type": "code",
   "execution_count": 90,
   "metadata": {},
   "outputs": [],
   "source": [
    "import warnings\n",
    "warnings.simplefilter('ignore')"
   ]
  },
  {
   "cell_type": "code",
   "execution_count": 91,
   "metadata": {},
   "outputs": [],
   "source": [
    "def balance_df_by_target(df, target_name):\n",
    "\n",
    "    target_counts = df[target_name].value_counts()\n",
    "\n",
    "    major_class_name = target_counts.argmax()\n",
    "    minor_class_name = target_counts.argmin()\n",
    "\n",
    "    disbalance_coeff = int(target_counts[major_class_name] / target_counts[minor_class_name]) - 1\n",
    "\n",
    "    for i in range(disbalance_coeff):\n",
    "        sample = df[df[target_name] == minor_class_name].sample(target_counts[minor_class_name])\n",
    "        df = df.append(sample, ignore_index=True)\n",
    "\n",
    "    return df.sample(frac=1)"
   ]
  },
  {
   "cell_type": "code",
   "execution_count": 185,
   "metadata": {},
   "outputs": [],
   "source": [
    "def show_proba_calibration_plots(y_predicted_probs, y_true_labels):\n",
    "    preds_with_true_labels = np.array(list(zip(y_predicted_probs, y_true_labels)))\n",
    "\n",
    "    thresholds = []\n",
    "    precisions = []\n",
    "    recalls = []\n",
    "    f1_scores = []\n",
    "\n",
    "    for threshold in np.linspace(0.1, 0.9, 18):\n",
    "        thresholds.append(threshold)\n",
    "        precisions.append(precision_score(y_true_labels, list(map(int, y_predicted_probs > threshold))))\n",
    "        recalls.append(recall_score(y_true_labels, list(map(int, y_predicted_probs > threshold))))\n",
    "        f1_scores.append(f1_score(y_true_labels, list(map(int, y_predicted_probs > threshold))))\n",
    "\n",
    "    scores_table = pd.DataFrame({'f1':f1_scores,\n",
    "                                 'precision':precisions,\n",
    "                                 'recall':recalls,\n",
    "                                 'probability':thresholds}).sort_values('f1', ascending=False).round(3)\n",
    "  \n",
    "    figure = plt.figure(figsize = (15, 5))\n",
    "\n",
    "    plt1 = figure.add_subplot(121)\n",
    "    plt1.plot(thresholds, precisions, label='Precision', linewidth=4)\n",
    "    plt1.plot(thresholds, recalls, label='Recall', linewidth=4)\n",
    "    plt1.plot(thresholds, f1_scores, label='F1', linewidth=4)\n",
    "    plt1.set_ylabel('Scores')\n",
    "    plt1.set_xlabel('Probability threshold')\n",
    "    plt1.set_title('Probabilities threshold calibration')\n",
    "    plt1.legend(bbox_to_anchor=(0.25, 0.25))   \n",
    "    plt1.table(cellText = scores_table.values,\n",
    "               colLabels = scores_table.columns, \n",
    "               colLoc = 'center', cellLoc = 'center', loc = 'bottom', bbox = [0, -1.3, 1, 1])\n",
    "\n",
    "    plt2 = figure.add_subplot(122)\n",
    "    plt2.hist(preds_with_true_labels[preds_with_true_labels[:, 1] == 0][:, 0], \n",
    "              label='Another class', color='royalblue', alpha=1)\n",
    "    plt2.hist(preds_with_true_labels[preds_with_true_labels[:, 1] == 1][:, 0], \n",
    "              label='Main class', color='darkcyan', alpha=0.8)\n",
    "    plt2.set_ylabel('Number of examples')\n",
    "    plt2.set_xlabel('Probabilities')\n",
    "    plt2.set_title('Probability histogram')\n",
    "    plt2.legend(bbox_to_anchor=(1, 1))\n",
    "\n",
    "    plt.show()"
   ]
  },
  {
   "cell_type": "code",
   "execution_count": 92,
   "metadata": {},
   "outputs": [],
   "source": [
    "df = pd.read_csv('Data/prepared_train_data_without_new_features.csv')"
   ]
  },
  {
   "cell_type": "code",
   "execution_count": 93,
   "metadata": {},
   "outputs": [
    {
     "name": "stdout",
     "output_type": "stream",
     "text": [
      "<class 'pandas.core.frame.DataFrame'>\n",
      "RangeIndex: 7500 entries, 0 to 7499\n",
      "Data columns (total 27 columns):\n",
      "Annual Income                   7500 non-null float64\n",
      "Years in current job            7500 non-null int64\n",
      "Tax Liens                       7500 non-null float64\n",
      "Number of Open Accounts         7500 non-null float64\n",
      "Years of Credit History         7500 non-null float64\n",
      "Maximum Open Credit             7500 non-null float64\n",
      "Number of Credit Problems       7500 non-null float64\n",
      "Bankruptcies                    7500 non-null float64\n",
      "Term                            7500 non-null int64\n",
      "Current Loan Amount             7500 non-null float64\n",
      "Current Credit Balance          7500 non-null float64\n",
      "Monthly Debt                    7500 non-null float64\n",
      "Credit Score                    7500 non-null float64\n",
      "Credit Default                  7500 non-null int64\n",
      "Home Ownership_Home Mortgage    7500 non-null int64\n",
      "Home Ownership_Own Home         7500 non-null int64\n",
      "Home Ownership_Rent             7500 non-null int64\n",
      "Purpose_business loan           7500 non-null int64\n",
      "Purpose_buy a car               7500 non-null int64\n",
      "Purpose_buy house               7500 non-null int64\n",
      "Purpose_debt consolidation      7500 non-null int64\n",
      "Purpose_home improvements       7500 non-null int64\n",
      "Purpose_major purchase          7500 non-null int64\n",
      "Purpose_medical bills           7500 non-null int64\n",
      "Purpose_other                   7500 non-null int64\n",
      "Purpose_small business          7500 non-null int64\n",
      "Purpose_take a trip             7500 non-null int64\n",
      "dtypes: float64(11), int64(16)\n",
      "memory usage: 1.5 MB\n"
     ]
    }
   ],
   "source": [
    "df.info()"
   ]
  },
  {
   "cell_type": "code",
   "execution_count": 94,
   "metadata": {},
   "outputs": [],
   "source": [
    "target = 'Credit Default'"
   ]
  },
  {
   "cell_type": "code",
   "execution_count": 95,
   "metadata": {},
   "outputs": [],
   "source": [
    "y = df[target]\n",
    "X = df.drop(target, axis=1)"
   ]
  },
  {
   "cell_type": "code",
   "execution_count": 96,
   "metadata": {},
   "outputs": [],
   "source": [
    "X_train, X_test, y_train, y_test = train_test_split(X, y, random_state=42)"
   ]
  },
  {
   "cell_type": "code",
   "execution_count": 97,
   "metadata": {},
   "outputs": [],
   "source": [
    "df_for_balancing = pd.concat([X_train, y_train], axis=1)\n",
    "df_balanced = balance_df_by_target(df_for_balancing, target)"
   ]
  },
  {
   "cell_type": "code",
   "execution_count": 98,
   "metadata": {},
   "outputs": [],
   "source": [
    "y_train = df_balanced[target]\n",
    "X_train = df_balanced.drop(target, axis=1)"
   ]
  },
  {
   "cell_type": "code",
   "execution_count": 99,
   "metadata": {},
   "outputs": [],
   "source": [
    "xgb_model = xgb.XGBClassifier(learning_rate=0.2, random_state=42)"
   ]
  },
  {
   "cell_type": "code",
   "execution_count": 100,
   "metadata": {},
   "outputs": [
    {
     "data": {
      "text/plain": [
       "XGBClassifier(base_score=0.5, booster='gbtree', colsample_bylevel=1,\n",
       "              colsample_bynode=1, colsample_bytree=1, gamma=0, gpu_id=-1,\n",
       "              importance_type='gain', interaction_constraints='',\n",
       "              learning_rate=0.2, max_delta_step=0, max_depth=6,\n",
       "              min_child_weight=1, missing=nan, monotone_constraints='()',\n",
       "              n_estimators=100, n_jobs=0, num_parallel_tree=1,\n",
       "              objective='binary:logistic', random_state=42, reg_alpha=0,\n",
       "              reg_lambda=1, scale_pos_weight=1, subsample=1,\n",
       "              tree_method='exact', validate_parameters=1, verbosity=None)"
      ]
     },
     "execution_count": 100,
     "metadata": {},
     "output_type": "execute_result"
    }
   ],
   "source": [
    "xgb_model.fit(X_train, y_train)"
   ]
  },
  {
   "cell_type": "code",
   "execution_count": 101,
   "metadata": {},
   "outputs": [],
   "source": [
    "y_train_pred = xgb_model.predict(X_train)"
   ]
  },
  {
   "cell_type": "code",
   "execution_count": 102,
   "metadata": {},
   "outputs": [],
   "source": [
    "y_test_pred = xgb_model.predict(X_test)"
   ]
  },
  {
   "cell_type": "code",
   "execution_count": 103,
   "metadata": {},
   "outputs": [],
   "source": [
    "def get_classification_report(y_train_true, y_train_pred, y_test_true, y_test_pred):\n",
    "    print('TRAIN\\n\\n' + classification_report(y_train_true, y_train_pred))\n",
    "    print('TEST\\n\\n' + classification_report(y_test_true, y_test_pred))\n",
    "    print('CONFUSION MATRIX\\n')\n",
    "    print(pd.crosstab(y_test_true, y_test_pred))"
   ]
  },
  {
   "cell_type": "code",
   "execution_count": 104,
   "metadata": {},
   "outputs": [
    {
     "name": "stdout",
     "output_type": "stream",
     "text": [
      "TRAIN\n",
      "\n",
      "              precision    recall  f1-score   support\n",
      "\n",
      "           0       0.94      0.94      0.94      4074\n",
      "           1       0.92      0.93      0.92      3102\n",
      "\n",
      "    accuracy                           0.93      7176\n",
      "   macro avg       0.93      0.93      0.93      7176\n",
      "weighted avg       0.93      0.93      0.93      7176\n",
      "\n",
      "TEST\n",
      "\n",
      "              precision    recall  f1-score   support\n",
      "\n",
      "           0       0.76      0.77      0.76      1313\n",
      "           1       0.44      0.42      0.43       562\n",
      "\n",
      "    accuracy                           0.66      1875\n",
      "   macro avg       0.60      0.59      0.59      1875\n",
      "weighted avg       0.66      0.66      0.66      1875\n",
      "\n",
      "CONFUSION MATRIX\n",
      "\n",
      "col_0              0    1\n",
      "Credit Default           \n",
      "0               1010  303\n",
      "1                327  235\n"
     ]
    }
   ],
   "source": [
    "get_classification_report(y_train, y_train_pred, y_test, y_test_pred)"
   ]
  },
  {
   "cell_type": "code",
   "execution_count": 105,
   "metadata": {},
   "outputs": [],
   "source": [
    "params = {'n_estimators': [100, 300, 500, 700, 1000], 'max_depth': [3, 6, 9, 12], 'learning_rate': [0.2, 0.5, 1]}"
   ]
  },
  {
   "cell_type": "code",
   "execution_count": 106,
   "metadata": {},
   "outputs": [],
   "source": [
    "xgb_model_s = xgb.XGBClassifier(random_state=42)"
   ]
  },
  {
   "cell_type": "code",
   "execution_count": 107,
   "metadata": {},
   "outputs": [],
   "source": [
    "gs = GridSearchCV(xgb_model_s, params, scoring='f1', cv=3, n_jobs=-1)"
   ]
  },
  {
   "cell_type": "code",
   "execution_count": 108,
   "metadata": {},
   "outputs": [
    {
     "name": "stdout",
     "output_type": "stream",
     "text": [
      "Wall time: 1min 48s\n"
     ]
    },
    {
     "data": {
      "text/plain": [
       "GridSearchCV(cv=3, error_score='raise-deprecating',\n",
       "             estimator=XGBClassifier(base_score=None, booster=None,\n",
       "                                     colsample_bylevel=None,\n",
       "                                     colsample_bynode=None,\n",
       "                                     colsample_bytree=None, gamma=None,\n",
       "                                     gpu_id=None, importance_type='gain',\n",
       "                                     interaction_constraints=None,\n",
       "                                     learning_rate=None, max_delta_step=None,\n",
       "                                     max_depth=None, min_child_weight=None,\n",
       "                                     missing=nan, monotone_constrai...\n",
       "                                     objective='binary:logistic',\n",
       "                                     random_state=42, reg_alpha=None,\n",
       "                                     reg_lambda=None, scale_pos_weight=None,\n",
       "                                     subsample=None, tree_method=None,\n",
       "                                     validate_parameters=None, verbosity=None),\n",
       "             iid='warn', n_jobs=-1,\n",
       "             param_grid={'learning_rate': [0.2, 0.5, 1],\n",
       "                         'max_depth': [3, 6, 9, 12],\n",
       "                         'n_estimators': [100, 300, 500, 700, 1000]},\n",
       "             pre_dispatch='2*n_jobs', refit=True, return_train_score=False,\n",
       "             scoring='f1', verbose=0)"
      ]
     },
     "execution_count": 108,
     "metadata": {},
     "output_type": "execute_result"
    }
   ],
   "source": [
    "%%time\n",
    "gs.fit(X_train, y_train)"
   ]
  },
  {
   "cell_type": "code",
   "execution_count": 109,
   "metadata": {},
   "outputs": [
    {
     "data": {
      "text/plain": [
       "{'learning_rate': 0.2, 'max_depth': 9, 'n_estimators': 1000}"
      ]
     },
     "execution_count": 109,
     "metadata": {},
     "output_type": "execute_result"
    }
   ],
   "source": [
    "gs.best_params_"
   ]
  },
  {
   "cell_type": "code",
   "execution_count": 110,
   "metadata": {},
   "outputs": [
    {
     "data": {
      "text/plain": [
       "0.7658274989804137"
      ]
     },
     "execution_count": 110,
     "metadata": {},
     "output_type": "execute_result"
    }
   ],
   "source": [
    "gs.best_score_"
   ]
  },
  {
   "cell_type": "code",
   "execution_count": 111,
   "metadata": {},
   "outputs": [],
   "source": [
    "lgbm_model = lgbm.LGBMClassifier(random_state=42)"
   ]
  },
  {
   "cell_type": "code",
   "execution_count": 112,
   "metadata": {},
   "outputs": [],
   "source": [
    "gs_3 = GridSearchCV(lgbm_model, params, scoring='f1', cv=3, n_jobs=-1)"
   ]
  },
  {
   "cell_type": "code",
   "execution_count": 113,
   "metadata": {},
   "outputs": [
    {
     "name": "stdout",
     "output_type": "stream",
     "text": [
      "Wall time: 14.3 s\n"
     ]
    },
    {
     "data": {
      "text/plain": [
       "GridSearchCV(cv=3, error_score='raise-deprecating',\n",
       "             estimator=LGBMClassifier(boosting_type='gbdt', class_weight=None,\n",
       "                                      colsample_bytree=1.0,\n",
       "                                      importance_type='split',\n",
       "                                      learning_rate=0.1, max_depth=-1,\n",
       "                                      min_child_samples=20,\n",
       "                                      min_child_weight=0.001,\n",
       "                                      min_split_gain=0.0, n_estimators=100,\n",
       "                                      n_jobs=-1, num_leaves=31, objective=None,\n",
       "                                      random_state=42, reg_alpha=0.0,\n",
       "                                      reg_lambda=0.0, silent=True,\n",
       "                                      subsample=1.0, subsample_for_bin=200000,\n",
       "                                      subsample_freq=0),\n",
       "             iid='warn', n_jobs=-1,\n",
       "             param_grid={'learning_rate': [0.2, 0.5, 1],\n",
       "                         'max_depth': [3, 6, 9, 12],\n",
       "                         'n_estimators': [100, 300, 500, 700, 1000]},\n",
       "             pre_dispatch='2*n_jobs', refit=True, return_train_score=False,\n",
       "             scoring='f1', verbose=0)"
      ]
     },
     "execution_count": 113,
     "metadata": {},
     "output_type": "execute_result"
    }
   ],
   "source": [
    "%%time\n",
    "gs_3.fit(X_train, y_train)"
   ]
  },
  {
   "cell_type": "code",
   "execution_count": 114,
   "metadata": {},
   "outputs": [
    {
     "data": {
      "text/plain": [
       "0.7688973990354508"
      ]
     },
     "execution_count": 114,
     "metadata": {},
     "output_type": "execute_result"
    }
   ],
   "source": [
    "gs_3.best_score_"
   ]
  },
  {
   "cell_type": "code",
   "execution_count": 126,
   "metadata": {},
   "outputs": [
    {
     "data": {
      "text/plain": [
       "{'learning_rate': 0.2, 'max_depth': 6, 'n_estimators': 500}"
      ]
     },
     "execution_count": 126,
     "metadata": {},
     "output_type": "execute_result"
    }
   ],
   "source": [
    "gs_3.best_params_"
   ]
  },
  {
   "cell_type": "code",
   "execution_count": 115,
   "metadata": {},
   "outputs": [],
   "source": [
    "catb_model = catb.CatBoostClassifier(random_state=42)"
   ]
  },
  {
   "cell_type": "code",
   "execution_count": 116,
   "metadata": {},
   "outputs": [],
   "source": [
    "params_cat = {'learning_rate': [0.2, 0.5, 1], 'depth': [None, 3, 6, 9, 12], 'iterations': [300, 500, 1000, 1500]}"
   ]
  },
  {
   "cell_type": "code",
   "execution_count": 117,
   "metadata": {},
   "outputs": [],
   "source": [
    "gs_4 = GridSearchCV(catb_model, params_cat, scoring='f1', cv=3, n_jobs=-1)"
   ]
  },
  {
   "cell_type": "code",
   "execution_count": 118,
   "metadata": {},
   "outputs": [
    {
     "name": "stdout",
     "output_type": "stream",
     "text": [
      "0:\tlearn: 0.6336065\ttotal: 119ms\tremaining: 59.6s\n",
      "1:\tlearn: 0.5994969\ttotal: 183ms\tremaining: 45.6s\n",
      "2:\tlearn: 0.5776392\ttotal: 246ms\tremaining: 40.8s\n",
      "3:\tlearn: 0.5570529\ttotal: 310ms\tremaining: 38.4s\n",
      "4:\tlearn: 0.5390349\ttotal: 375ms\tremaining: 37.1s\n",
      "5:\tlearn: 0.5244480\ttotal: 439ms\tremaining: 36.1s\n",
      "6:\tlearn: 0.5092700\ttotal: 503ms\tremaining: 35.4s\n",
      "7:\tlearn: 0.4956133\ttotal: 567ms\tremaining: 34.9s\n",
      "8:\tlearn: 0.4719642\ttotal: 631ms\tremaining: 34.4s\n",
      "9:\tlearn: 0.4580506\ttotal: 694ms\tremaining: 34s\n",
      "10:\tlearn: 0.4481736\ttotal: 759ms\tremaining: 33.7s\n",
      "11:\tlearn: 0.4338417\ttotal: 823ms\tremaining: 33.5s\n",
      "12:\tlearn: 0.4198326\ttotal: 889ms\tremaining: 33.3s\n",
      "13:\tlearn: 0.4078251\ttotal: 953ms\tremaining: 33.1s\n",
      "14:\tlearn: 0.3922432\ttotal: 1.02s\tremaining: 32.9s\n",
      "15:\tlearn: 0.3836175\ttotal: 1.08s\tremaining: 32.7s\n",
      "16:\tlearn: 0.3727677\ttotal: 1.15s\tremaining: 32.6s\n",
      "17:\tlearn: 0.3593321\ttotal: 1.21s\tremaining: 32.4s\n",
      "18:\tlearn: 0.3419775\ttotal: 1.27s\tremaining: 32.3s\n",
      "19:\tlearn: 0.3308654\ttotal: 1.34s\tremaining: 32.1s\n",
      "20:\tlearn: 0.3227829\ttotal: 1.4s\tremaining: 32s\n",
      "21:\tlearn: 0.3183167\ttotal: 1.47s\tremaining: 31.9s\n",
      "22:\tlearn: 0.3143796\ttotal: 1.53s\tremaining: 31.8s\n",
      "23:\tlearn: 0.3087474\ttotal: 1.6s\tremaining: 31.7s\n",
      "24:\tlearn: 0.2974949\ttotal: 1.66s\tremaining: 31.6s\n",
      "25:\tlearn: 0.2905093\ttotal: 1.73s\tremaining: 31.5s\n",
      "26:\tlearn: 0.2862648\ttotal: 1.79s\tremaining: 31.4s\n",
      "27:\tlearn: 0.2790586\ttotal: 1.86s\tremaining: 31.3s\n",
      "28:\tlearn: 0.2706787\ttotal: 1.92s\tremaining: 31.3s\n",
      "29:\tlearn: 0.2667586\ttotal: 1.99s\tremaining: 31.1s\n",
      "30:\tlearn: 0.2546555\ttotal: 2.05s\tremaining: 31s\n",
      "31:\tlearn: 0.2483722\ttotal: 2.11s\tremaining: 30.9s\n",
      "32:\tlearn: 0.2425755\ttotal: 2.18s\tremaining: 30.8s\n",
      "33:\tlearn: 0.2399099\ttotal: 2.24s\tremaining: 30.7s\n",
      "34:\tlearn: 0.2368912\ttotal: 2.3s\tremaining: 30.6s\n",
      "35:\tlearn: 0.2318454\ttotal: 2.37s\tremaining: 30.5s\n",
      "36:\tlearn: 0.2284728\ttotal: 2.43s\tremaining: 30.4s\n",
      "37:\tlearn: 0.2215114\ttotal: 2.5s\tremaining: 30.4s\n",
      "38:\tlearn: 0.2163823\ttotal: 2.56s\tremaining: 30.3s\n",
      "39:\tlearn: 0.2117950\ttotal: 2.63s\tremaining: 30.2s\n",
      "40:\tlearn: 0.2091856\ttotal: 2.69s\tremaining: 30.1s\n",
      "41:\tlearn: 0.2079606\ttotal: 2.75s\tremaining: 30s\n",
      "42:\tlearn: 0.2059206\ttotal: 2.82s\tremaining: 29.9s\n",
      "43:\tlearn: 0.1999208\ttotal: 2.88s\tremaining: 29.9s\n",
      "44:\tlearn: 0.1968117\ttotal: 2.95s\tremaining: 29.8s\n",
      "45:\tlearn: 0.1912741\ttotal: 3.01s\tremaining: 29.7s\n",
      "46:\tlearn: 0.1871271\ttotal: 3.08s\tremaining: 29.7s\n",
      "47:\tlearn: 0.1837438\ttotal: 3.14s\tremaining: 29.6s\n",
      "48:\tlearn: 0.1788436\ttotal: 3.2s\tremaining: 29.5s\n",
      "49:\tlearn: 0.1749538\ttotal: 3.27s\tremaining: 29.4s\n",
      "50:\tlearn: 0.1722571\ttotal: 3.34s\tremaining: 29.4s\n",
      "51:\tlearn: 0.1701219\ttotal: 3.42s\tremaining: 29.5s\n",
      "52:\tlearn: 0.1665098\ttotal: 3.49s\tremaining: 29.4s\n",
      "53:\tlearn: 0.1648642\ttotal: 3.57s\tremaining: 29.5s\n",
      "54:\tlearn: 0.1637178\ttotal: 3.65s\tremaining: 29.5s\n",
      "55:\tlearn: 0.1623029\ttotal: 3.72s\tremaining: 29.5s\n",
      "56:\tlearn: 0.1590232\ttotal: 3.79s\tremaining: 29.4s\n",
      "57:\tlearn: 0.1564821\ttotal: 3.86s\tremaining: 29.4s\n",
      "58:\tlearn: 0.1545909\ttotal: 3.94s\tremaining: 29.4s\n",
      "59:\tlearn: 0.1514660\ttotal: 4.03s\tremaining: 29.5s\n",
      "60:\tlearn: 0.1475129\ttotal: 4.11s\tremaining: 29.5s\n",
      "61:\tlearn: 0.1451741\ttotal: 4.17s\tremaining: 29.5s\n",
      "62:\tlearn: 0.1418402\ttotal: 4.24s\tremaining: 29.4s\n",
      "63:\tlearn: 0.1392614\ttotal: 4.3s\tremaining: 29.3s\n",
      "64:\tlearn: 0.1363266\ttotal: 4.37s\tremaining: 29.2s\n",
      "65:\tlearn: 0.1341825\ttotal: 4.43s\tremaining: 29.1s\n",
      "66:\tlearn: 0.1308928\ttotal: 4.5s\tremaining: 29.1s\n",
      "67:\tlearn: 0.1279430\ttotal: 4.57s\tremaining: 29s\n",
      "68:\tlearn: 0.1261517\ttotal: 4.63s\tremaining: 29s\n",
      "69:\tlearn: 0.1227544\ttotal: 4.7s\tremaining: 28.9s\n",
      "70:\tlearn: 0.1194060\ttotal: 4.78s\tremaining: 28.9s\n",
      "71:\tlearn: 0.1165570\ttotal: 4.84s\tremaining: 28.8s\n",
      "72:\tlearn: 0.1125355\ttotal: 4.91s\tremaining: 28.7s\n",
      "73:\tlearn: 0.1099731\ttotal: 4.97s\tremaining: 28.6s\n",
      "74:\tlearn: 0.1087917\ttotal: 5.04s\tremaining: 28.6s\n",
      "75:\tlearn: 0.1074083\ttotal: 5.1s\tremaining: 28.5s\n",
      "76:\tlearn: 0.1060101\ttotal: 5.17s\tremaining: 28.4s\n",
      "77:\tlearn: 0.1030230\ttotal: 5.24s\tremaining: 28.4s\n",
      "78:\tlearn: 0.1017760\ttotal: 5.31s\tremaining: 28.3s\n",
      "79:\tlearn: 0.0999417\ttotal: 5.37s\tremaining: 28.2s\n",
      "80:\tlearn: 0.0986130\ttotal: 5.43s\tremaining: 28.1s\n",
      "81:\tlearn: 0.0965429\ttotal: 5.5s\tremaining: 28s\n",
      "82:\tlearn: 0.0945614\ttotal: 5.56s\tremaining: 28s\n",
      "83:\tlearn: 0.0927358\ttotal: 5.63s\tremaining: 27.9s\n",
      "84:\tlearn: 0.0916305\ttotal: 5.69s\tremaining: 27.8s\n",
      "85:\tlearn: 0.0904954\ttotal: 5.76s\tremaining: 27.7s\n",
      "86:\tlearn: 0.0892204\ttotal: 5.82s\tremaining: 27.6s\n",
      "87:\tlearn: 0.0874840\ttotal: 5.89s\tremaining: 27.6s\n",
      "88:\tlearn: 0.0867235\ttotal: 5.95s\tremaining: 27.5s\n",
      "89:\tlearn: 0.0853870\ttotal: 6.02s\tremaining: 27.4s\n",
      "90:\tlearn: 0.0834814\ttotal: 6.08s\tremaining: 27.3s\n",
      "91:\tlearn: 0.0825193\ttotal: 6.15s\tremaining: 27.3s\n",
      "92:\tlearn: 0.0808167\ttotal: 6.21s\tremaining: 27.2s\n",
      "93:\tlearn: 0.0791965\ttotal: 6.27s\tremaining: 27.1s\n",
      "94:\tlearn: 0.0783055\ttotal: 6.34s\tremaining: 27s\n",
      "95:\tlearn: 0.0765640\ttotal: 6.4s\tremaining: 26.9s\n",
      "96:\tlearn: 0.0749532\ttotal: 6.46s\tremaining: 26.9s\n",
      "97:\tlearn: 0.0744236\ttotal: 6.53s\tremaining: 26.8s\n",
      "98:\tlearn: 0.0731835\ttotal: 6.59s\tremaining: 26.7s\n",
      "99:\tlearn: 0.0711213\ttotal: 6.66s\tremaining: 26.6s\n",
      "100:\tlearn: 0.0700725\ttotal: 6.72s\tremaining: 26.6s\n",
      "101:\tlearn: 0.0686965\ttotal: 6.79s\tremaining: 26.5s\n",
      "102:\tlearn: 0.0671773\ttotal: 6.85s\tremaining: 26.4s\n",
      "103:\tlearn: 0.0660598\ttotal: 6.92s\tremaining: 26.3s\n",
      "104:\tlearn: 0.0655707\ttotal: 6.98s\tremaining: 26.3s\n",
      "105:\tlearn: 0.0650150\ttotal: 7.05s\tremaining: 26.2s\n",
      "106:\tlearn: 0.0641837\ttotal: 7.11s\tremaining: 26.1s\n",
      "107:\tlearn: 0.0633383\ttotal: 7.17s\tremaining: 26s\n",
      "108:\tlearn: 0.0627078\ttotal: 7.24s\tremaining: 26s\n",
      "109:\tlearn: 0.0616009\ttotal: 7.32s\tremaining: 25.9s\n",
      "110:\tlearn: 0.0604019\ttotal: 7.38s\tremaining: 25.9s\n",
      "111:\tlearn: 0.0589190\ttotal: 7.45s\tremaining: 25.8s\n",
      "112:\tlearn: 0.0583669\ttotal: 7.51s\tremaining: 25.7s\n",
      "113:\tlearn: 0.0576201\ttotal: 7.58s\tremaining: 25.7s\n",
      "114:\tlearn: 0.0571632\ttotal: 7.65s\tremaining: 25.6s\n",
      "115:\tlearn: 0.0562447\ttotal: 7.72s\tremaining: 25.6s\n",
      "116:\tlearn: 0.0556928\ttotal: 7.79s\tremaining: 25.5s\n",
      "117:\tlearn: 0.0551807\ttotal: 7.87s\tremaining: 25.5s\n",
      "118:\tlearn: 0.0549160\ttotal: 7.93s\tremaining: 25.4s\n",
      "119:\tlearn: 0.0540740\ttotal: 8s\tremaining: 25.3s\n",
      "120:\tlearn: 0.0532436\ttotal: 8.06s\tremaining: 25.3s\n",
      "121:\tlearn: 0.0526418\ttotal: 8.13s\tremaining: 25.2s\n",
      "122:\tlearn: 0.0520132\ttotal: 8.21s\tremaining: 25.2s\n",
      "123:\tlearn: 0.0516020\ttotal: 8.29s\tremaining: 25.1s\n",
      "124:\tlearn: 0.0508475\ttotal: 8.37s\tremaining: 25.1s\n",
      "125:\tlearn: 0.0500985\ttotal: 8.43s\tremaining: 25s\n",
      "126:\tlearn: 0.0496749\ttotal: 8.5s\tremaining: 25s\n",
      "127:\tlearn: 0.0490571\ttotal: 8.57s\tremaining: 24.9s\n",
      "128:\tlearn: 0.0485891\ttotal: 8.64s\tremaining: 24.9s\n",
      "129:\tlearn: 0.0481700\ttotal: 8.71s\tremaining: 24.8s\n",
      "130:\tlearn: 0.0477950\ttotal: 8.77s\tremaining: 24.7s\n",
      "131:\tlearn: 0.0472346\ttotal: 8.84s\tremaining: 24.7s\n",
      "132:\tlearn: 0.0464456\ttotal: 8.91s\tremaining: 24.6s\n",
      "133:\tlearn: 0.0457640\ttotal: 8.98s\tremaining: 24.5s\n",
      "134:\tlearn: 0.0451079\ttotal: 9.04s\tremaining: 24.5s\n",
      "135:\tlearn: 0.0442506\ttotal: 9.11s\tremaining: 24.4s\n",
      "136:\tlearn: 0.0436774\ttotal: 9.2s\tremaining: 24.4s\n",
      "137:\tlearn: 0.0433960\ttotal: 9.26s\tremaining: 24.3s\n",
      "138:\tlearn: 0.0428309\ttotal: 9.33s\tremaining: 24.2s\n",
      "139:\tlearn: 0.0422226\ttotal: 9.39s\tremaining: 24.2s\n",
      "140:\tlearn: 0.0419383\ttotal: 9.46s\tremaining: 24.1s\n",
      "141:\tlearn: 0.0414159\ttotal: 9.53s\tremaining: 24s\n",
      "142:\tlearn: 0.0409427\ttotal: 9.59s\tremaining: 23.9s\n",
      "143:\tlearn: 0.0407748\ttotal: 9.66s\tremaining: 23.9s\n",
      "144:\tlearn: 0.0401536\ttotal: 9.72s\tremaining: 23.8s\n",
      "145:\tlearn: 0.0394129\ttotal: 9.79s\tremaining: 23.7s\n",
      "146:\tlearn: 0.0385776\ttotal: 9.85s\tremaining: 23.7s\n",
      "147:\tlearn: 0.0382265\ttotal: 9.92s\tremaining: 23.6s\n",
      "148:\tlearn: 0.0379581\ttotal: 9.98s\tremaining: 23.5s\n",
      "149:\tlearn: 0.0375836\ttotal: 10s\tremaining: 23.4s\n",
      "150:\tlearn: 0.0373745\ttotal: 10.1s\tremaining: 23.4s\n",
      "151:\tlearn: 0.0368433\ttotal: 10.2s\tremaining: 23.3s\n",
      "152:\tlearn: 0.0364219\ttotal: 10.2s\tremaining: 23.2s\n",
      "153:\tlearn: 0.0358196\ttotal: 10.3s\tremaining: 23.1s\n",
      "154:\tlearn: 0.0351811\ttotal: 10.4s\tremaining: 23.1s\n",
      "155:\tlearn: 0.0349188\ttotal: 10.4s\tremaining: 23s\n",
      "156:\tlearn: 0.0346093\ttotal: 10.5s\tremaining: 22.9s\n",
      "157:\tlearn: 0.0343987\ttotal: 10.6s\tremaining: 22.9s\n",
      "158:\tlearn: 0.0338199\ttotal: 10.6s\tremaining: 22.8s\n",
      "159:\tlearn: 0.0335314\ttotal: 10.7s\tremaining: 22.7s\n",
      "160:\tlearn: 0.0332011\ttotal: 10.8s\tremaining: 22.6s\n"
     ]
    },
    {
     "name": "stdout",
     "output_type": "stream",
     "text": [
      "161:\tlearn: 0.0329747\ttotal: 10.8s\tremaining: 22.6s\n",
      "162:\tlearn: 0.0324810\ttotal: 10.9s\tremaining: 22.5s\n",
      "163:\tlearn: 0.0322407\ttotal: 10.9s\tremaining: 22.4s\n",
      "164:\tlearn: 0.0319724\ttotal: 11s\tremaining: 22.4s\n",
      "165:\tlearn: 0.0314816\ttotal: 11.1s\tremaining: 22.3s\n",
      "166:\tlearn: 0.0311759\ttotal: 11.1s\tremaining: 22.2s\n",
      "167:\tlearn: 0.0309814\ttotal: 11.2s\tremaining: 22.1s\n",
      "168:\tlearn: 0.0306526\ttotal: 11.3s\tremaining: 22.1s\n",
      "169:\tlearn: 0.0304217\ttotal: 11.3s\tremaining: 22s\n",
      "170:\tlearn: 0.0300343\ttotal: 11.4s\tremaining: 21.9s\n",
      "171:\tlearn: 0.0298888\ttotal: 11.5s\tremaining: 21.9s\n",
      "172:\tlearn: 0.0296734\ttotal: 11.5s\tremaining: 21.8s\n",
      "173:\tlearn: 0.0295188\ttotal: 11.6s\tremaining: 21.7s\n",
      "174:\tlearn: 0.0293191\ttotal: 11.7s\tremaining: 21.6s\n",
      "175:\tlearn: 0.0289427\ttotal: 11.7s\tremaining: 21.6s\n",
      "176:\tlearn: 0.0286669\ttotal: 11.8s\tremaining: 21.5s\n",
      "177:\tlearn: 0.0283895\ttotal: 11.8s\tremaining: 21.4s\n",
      "178:\tlearn: 0.0280942\ttotal: 11.9s\tremaining: 21.4s\n",
      "179:\tlearn: 0.0279241\ttotal: 12s\tremaining: 21.3s\n",
      "180:\tlearn: 0.0277663\ttotal: 12s\tremaining: 21.2s\n",
      "181:\tlearn: 0.0275911\ttotal: 12.1s\tremaining: 21.2s\n",
      "182:\tlearn: 0.0273023\ttotal: 12.2s\tremaining: 21.1s\n",
      "183:\tlearn: 0.0271336\ttotal: 12.2s\tremaining: 21s\n",
      "184:\tlearn: 0.0269704\ttotal: 12.3s\tremaining: 20.9s\n",
      "185:\tlearn: 0.0268741\ttotal: 12.4s\tremaining: 20.9s\n",
      "186:\tlearn: 0.0267322\ttotal: 12.4s\tremaining: 20.8s\n",
      "187:\tlearn: 0.0264198\ttotal: 12.5s\tremaining: 20.7s\n",
      "188:\tlearn: 0.0260762\ttotal: 12.6s\tremaining: 20.7s\n",
      "189:\tlearn: 0.0258915\ttotal: 12.6s\tremaining: 20.6s\n",
      "190:\tlearn: 0.0257282\ttotal: 12.7s\tremaining: 20.5s\n",
      "191:\tlearn: 0.0254990\ttotal: 12.8s\tremaining: 20.5s\n",
      "192:\tlearn: 0.0253243\ttotal: 12.8s\tremaining: 20.4s\n",
      "193:\tlearn: 0.0250670\ttotal: 12.9s\tremaining: 20.3s\n",
      "194:\tlearn: 0.0249401\ttotal: 12.9s\tremaining: 20.2s\n",
      "195:\tlearn: 0.0247013\ttotal: 13s\tremaining: 20.2s\n",
      "196:\tlearn: 0.0244812\ttotal: 13.1s\tremaining: 20.1s\n",
      "197:\tlearn: 0.0243499\ttotal: 13.1s\tremaining: 20s\n",
      "198:\tlearn: 0.0241760\ttotal: 13.2s\tremaining: 20s\n",
      "199:\tlearn: 0.0240141\ttotal: 13.3s\tremaining: 19.9s\n",
      "200:\tlearn: 0.0237500\ttotal: 13.3s\tremaining: 19.9s\n",
      "201:\tlearn: 0.0236314\ttotal: 13.4s\tremaining: 19.8s\n",
      "202:\tlearn: 0.0235451\ttotal: 13.5s\tremaining: 19.7s\n",
      "203:\tlearn: 0.0233733\ttotal: 13.6s\tremaining: 19.7s\n",
      "204:\tlearn: 0.0231976\ttotal: 13.6s\tremaining: 19.6s\n",
      "205:\tlearn: 0.0230610\ttotal: 13.7s\tremaining: 19.6s\n",
      "206:\tlearn: 0.0229485\ttotal: 13.8s\tremaining: 19.5s\n",
      "207:\tlearn: 0.0227675\ttotal: 13.8s\tremaining: 19.4s\n",
      "208:\tlearn: 0.0226776\ttotal: 13.9s\tremaining: 19.4s\n",
      "209:\tlearn: 0.0224955\ttotal: 14s\tremaining: 19.3s\n",
      "210:\tlearn: 0.0223886\ttotal: 14s\tremaining: 19.2s\n",
      "211:\tlearn: 0.0222448\ttotal: 14.1s\tremaining: 19.2s\n",
      "212:\tlearn: 0.0220754\ttotal: 14.2s\tremaining: 19.1s\n",
      "213:\tlearn: 0.0219672\ttotal: 14.2s\tremaining: 19s\n",
      "214:\tlearn: 0.0218639\ttotal: 14.3s\tremaining: 19s\n",
      "215:\tlearn: 0.0217269\ttotal: 14.4s\tremaining: 18.9s\n",
      "216:\tlearn: 0.0216099\ttotal: 14.5s\tremaining: 18.9s\n",
      "217:\tlearn: 0.0213806\ttotal: 14.5s\tremaining: 18.8s\n",
      "218:\tlearn: 0.0212936\ttotal: 14.6s\tremaining: 18.8s\n",
      "219:\tlearn: 0.0211659\ttotal: 14.7s\tremaining: 18.7s\n",
      "220:\tlearn: 0.0209889\ttotal: 14.8s\tremaining: 18.6s\n",
      "221:\tlearn: 0.0208215\ttotal: 14.8s\tremaining: 18.6s\n",
      "222:\tlearn: 0.0206718\ttotal: 14.9s\tremaining: 18.5s\n",
      "223:\tlearn: 0.0205795\ttotal: 15s\tremaining: 18.5s\n",
      "224:\tlearn: 0.0204240\ttotal: 15s\tremaining: 18.4s\n",
      "225:\tlearn: 0.0202981\ttotal: 15.1s\tremaining: 18.3s\n",
      "226:\tlearn: 0.0201039\ttotal: 15.2s\tremaining: 18.3s\n",
      "227:\tlearn: 0.0199876\ttotal: 15.2s\tremaining: 18.2s\n",
      "228:\tlearn: 0.0199073\ttotal: 15.3s\tremaining: 18.1s\n",
      "229:\tlearn: 0.0198255\ttotal: 15.4s\tremaining: 18s\n",
      "230:\tlearn: 0.0197245\ttotal: 15.4s\tremaining: 18s\n",
      "231:\tlearn: 0.0195399\ttotal: 15.5s\tremaining: 17.9s\n",
      "232:\tlearn: 0.0194340\ttotal: 15.6s\tremaining: 17.8s\n",
      "233:\tlearn: 0.0193301\ttotal: 15.6s\tremaining: 17.8s\n",
      "234:\tlearn: 0.0192226\ttotal: 15.7s\tremaining: 17.7s\n",
      "235:\tlearn: 0.0190067\ttotal: 15.8s\tremaining: 17.6s\n",
      "236:\tlearn: 0.0188361\ttotal: 15.8s\tremaining: 17.6s\n",
      "237:\tlearn: 0.0187355\ttotal: 15.9s\tremaining: 17.5s\n",
      "238:\tlearn: 0.0185937\ttotal: 16s\tremaining: 17.4s\n",
      "239:\tlearn: 0.0184516\ttotal: 16s\tremaining: 17.4s\n",
      "240:\tlearn: 0.0182791\ttotal: 16.1s\tremaining: 17.3s\n",
      "241:\tlearn: 0.0181536\ttotal: 16.2s\tremaining: 17.2s\n",
      "242:\tlearn: 0.0180396\ttotal: 16.2s\tremaining: 17.2s\n",
      "243:\tlearn: 0.0179474\ttotal: 16.3s\tremaining: 17.1s\n",
      "244:\tlearn: 0.0178923\ttotal: 16.3s\tremaining: 17s\n",
      "245:\tlearn: 0.0178269\ttotal: 16.4s\tremaining: 16.9s\n",
      "246:\tlearn: 0.0177312\ttotal: 16.5s\tremaining: 16.9s\n",
      "247:\tlearn: 0.0176173\ttotal: 16.5s\tremaining: 16.8s\n",
      "248:\tlearn: 0.0175252\ttotal: 16.6s\tremaining: 16.7s\n",
      "249:\tlearn: 0.0173887\ttotal: 16.7s\tremaining: 16.7s\n",
      "250:\tlearn: 0.0172774\ttotal: 16.7s\tremaining: 16.6s\n",
      "251:\tlearn: 0.0171311\ttotal: 16.8s\tremaining: 16.5s\n",
      "252:\tlearn: 0.0170072\ttotal: 16.9s\tremaining: 16.5s\n",
      "253:\tlearn: 0.0169415\ttotal: 16.9s\tremaining: 16.4s\n",
      "254:\tlearn: 0.0168199\ttotal: 17s\tremaining: 16.3s\n",
      "255:\tlearn: 0.0167638\ttotal: 17.1s\tremaining: 16.3s\n",
      "256:\tlearn: 0.0166454\ttotal: 17.1s\tremaining: 16.2s\n",
      "257:\tlearn: 0.0165356\ttotal: 17.2s\tremaining: 16.1s\n",
      "258:\tlearn: 0.0164176\ttotal: 17.2s\tremaining: 16s\n",
      "259:\tlearn: 0.0163014\ttotal: 17.3s\tremaining: 16s\n",
      "260:\tlearn: 0.0161677\ttotal: 17.4s\tremaining: 15.9s\n",
      "261:\tlearn: 0.0160297\ttotal: 17.4s\tremaining: 15.8s\n",
      "262:\tlearn: 0.0159405\ttotal: 17.5s\tremaining: 15.8s\n",
      "263:\tlearn: 0.0158230\ttotal: 17.6s\tremaining: 15.7s\n",
      "264:\tlearn: 0.0157563\ttotal: 17.6s\tremaining: 15.6s\n",
      "265:\tlearn: 0.0156349\ttotal: 17.7s\tremaining: 15.6s\n",
      "266:\tlearn: 0.0155324\ttotal: 17.8s\tremaining: 15.5s\n",
      "267:\tlearn: 0.0153629\ttotal: 17.8s\tremaining: 15.4s\n",
      "268:\tlearn: 0.0152675\ttotal: 17.9s\tremaining: 15.4s\n",
      "269:\tlearn: 0.0151964\ttotal: 18s\tremaining: 15.3s\n",
      "270:\tlearn: 0.0150480\ttotal: 18s\tremaining: 15.2s\n",
      "271:\tlearn: 0.0149615\ttotal: 18.1s\tremaining: 15.2s\n",
      "272:\tlearn: 0.0148673\ttotal: 18.2s\tremaining: 15.1s\n",
      "273:\tlearn: 0.0147434\ttotal: 18.2s\tremaining: 15s\n",
      "274:\tlearn: 0.0146088\ttotal: 18.3s\tremaining: 15s\n",
      "275:\tlearn: 0.0145407\ttotal: 18.4s\tremaining: 14.9s\n",
      "276:\tlearn: 0.0144866\ttotal: 18.4s\tremaining: 14.8s\n",
      "277:\tlearn: 0.0144127\ttotal: 18.5s\tremaining: 14.8s\n",
      "278:\tlearn: 0.0143253\ttotal: 18.5s\tremaining: 14.7s\n",
      "279:\tlearn: 0.0142086\ttotal: 18.6s\tremaining: 14.6s\n",
      "280:\tlearn: 0.0141130\ttotal: 18.7s\tremaining: 14.6s\n",
      "281:\tlearn: 0.0140418\ttotal: 18.7s\tremaining: 14.5s\n",
      "282:\tlearn: 0.0139810\ttotal: 18.8s\tremaining: 14.4s\n",
      "283:\tlearn: 0.0138801\ttotal: 18.9s\tremaining: 14.4s\n",
      "284:\tlearn: 0.0138144\ttotal: 18.9s\tremaining: 14.3s\n",
      "285:\tlearn: 0.0137358\ttotal: 19s\tremaining: 14.2s\n",
      "286:\tlearn: 0.0136813\ttotal: 19.1s\tremaining: 14.1s\n",
      "287:\tlearn: 0.0136073\ttotal: 19.1s\tremaining: 14.1s\n",
      "288:\tlearn: 0.0135315\ttotal: 19.2s\tremaining: 14s\n",
      "289:\tlearn: 0.0134994\ttotal: 19.3s\tremaining: 13.9s\n",
      "290:\tlearn: 0.0134406\ttotal: 19.3s\tremaining: 13.9s\n",
      "291:\tlearn: 0.0134005\ttotal: 19.4s\tremaining: 13.8s\n",
      "292:\tlearn: 0.0133200\ttotal: 19.5s\tremaining: 13.7s\n",
      "293:\tlearn: 0.0132460\ttotal: 19.5s\tremaining: 13.7s\n",
      "294:\tlearn: 0.0131859\ttotal: 19.6s\tremaining: 13.6s\n",
      "295:\tlearn: 0.0131003\ttotal: 19.7s\tremaining: 13.6s\n",
      "296:\tlearn: 0.0130509\ttotal: 19.7s\tremaining: 13.5s\n",
      "297:\tlearn: 0.0129725\ttotal: 19.8s\tremaining: 13.4s\n",
      "298:\tlearn: 0.0129234\ttotal: 19.9s\tremaining: 13.4s\n",
      "299:\tlearn: 0.0128446\ttotal: 19.9s\tremaining: 13.3s\n",
      "300:\tlearn: 0.0127912\ttotal: 20s\tremaining: 13.2s\n",
      "301:\tlearn: 0.0126942\ttotal: 20.1s\tremaining: 13.2s\n",
      "302:\tlearn: 0.0126269\ttotal: 20.1s\tremaining: 13.1s\n",
      "303:\tlearn: 0.0125689\ttotal: 20.2s\tremaining: 13s\n",
      "304:\tlearn: 0.0125306\ttotal: 20.3s\tremaining: 13s\n",
      "305:\tlearn: 0.0124499\ttotal: 20.4s\tremaining: 12.9s\n",
      "306:\tlearn: 0.0123740\ttotal: 20.4s\tremaining: 12.8s\n",
      "307:\tlearn: 0.0123270\ttotal: 20.5s\tremaining: 12.8s\n",
      "308:\tlearn: 0.0122398\ttotal: 20.6s\tremaining: 12.7s\n",
      "309:\tlearn: 0.0121713\ttotal: 20.6s\tremaining: 12.6s\n",
      "310:\tlearn: 0.0121173\ttotal: 20.7s\tremaining: 12.6s\n",
      "311:\tlearn: 0.0120377\ttotal: 20.8s\tremaining: 12.5s\n",
      "312:\tlearn: 0.0119903\ttotal: 20.8s\tremaining: 12.5s\n",
      "313:\tlearn: 0.0119538\ttotal: 20.9s\tremaining: 12.4s\n",
      "314:\tlearn: 0.0119177\ttotal: 21s\tremaining: 12.3s\n",
      "315:\tlearn: 0.0118653\ttotal: 21.1s\tremaining: 12.3s\n",
      "316:\tlearn: 0.0118283\ttotal: 21.1s\tremaining: 12.2s\n",
      "317:\tlearn: 0.0117878\ttotal: 21.2s\tremaining: 12.1s\n",
      "318:\tlearn: 0.0117515\ttotal: 21.2s\tremaining: 12.1s\n",
      "319:\tlearn: 0.0116841\ttotal: 21.3s\tremaining: 12s\n",
      "320:\tlearn: 0.0116494\ttotal: 21.4s\tremaining: 11.9s\n",
      "321:\tlearn: 0.0116111\ttotal: 21.4s\tremaining: 11.9s\n",
      "322:\tlearn: 0.0115335\ttotal: 21.5s\tremaining: 11.8s\n"
     ]
    },
    {
     "name": "stdout",
     "output_type": "stream",
     "text": [
      "323:\tlearn: 0.0114783\ttotal: 21.6s\tremaining: 11.7s\n",
      "324:\tlearn: 0.0114006\ttotal: 21.6s\tremaining: 11.7s\n",
      "325:\tlearn: 0.0113673\ttotal: 21.7s\tremaining: 11.6s\n",
      "326:\tlearn: 0.0113329\ttotal: 21.8s\tremaining: 11.5s\n",
      "327:\tlearn: 0.0112839\ttotal: 21.8s\tremaining: 11.5s\n",
      "328:\tlearn: 0.0112233\ttotal: 21.9s\tremaining: 11.4s\n",
      "329:\tlearn: 0.0111960\ttotal: 22s\tremaining: 11.3s\n",
      "330:\tlearn: 0.0111560\ttotal: 22s\tremaining: 11.3s\n",
      "331:\tlearn: 0.0111186\ttotal: 22.1s\tremaining: 11.2s\n",
      "332:\tlearn: 0.0110613\ttotal: 22.2s\tremaining: 11.1s\n",
      "333:\tlearn: 0.0110238\ttotal: 22.2s\tremaining: 11.1s\n",
      "334:\tlearn: 0.0109671\ttotal: 22.3s\tremaining: 11s\n",
      "335:\tlearn: 0.0109064\ttotal: 22.4s\tremaining: 10.9s\n",
      "336:\tlearn: 0.0108720\ttotal: 22.5s\tremaining: 10.9s\n",
      "337:\tlearn: 0.0108426\ttotal: 22.5s\tremaining: 10.8s\n",
      "338:\tlearn: 0.0108093\ttotal: 22.6s\tremaining: 10.7s\n",
      "339:\tlearn: 0.0107740\ttotal: 22.7s\tremaining: 10.7s\n",
      "340:\tlearn: 0.0107106\ttotal: 22.8s\tremaining: 10.6s\n",
      "341:\tlearn: 0.0106593\ttotal: 22.8s\tremaining: 10.6s\n",
      "342:\tlearn: 0.0106013\ttotal: 22.9s\tremaining: 10.5s\n",
      "343:\tlearn: 0.0105656\ttotal: 23s\tremaining: 10.4s\n",
      "344:\tlearn: 0.0105171\ttotal: 23s\tremaining: 10.4s\n",
      "345:\tlearn: 0.0104943\ttotal: 23.1s\tremaining: 10.3s\n",
      "346:\tlearn: 0.0104364\ttotal: 23.2s\tremaining: 10.2s\n",
      "347:\tlearn: 0.0103926\ttotal: 23.3s\tremaining: 10.2s\n",
      "348:\tlearn: 0.0103685\ttotal: 23.3s\tremaining: 10.1s\n",
      "349:\tlearn: 0.0103157\ttotal: 23.4s\tremaining: 10s\n",
      "350:\tlearn: 0.0102664\ttotal: 23.4s\tremaining: 9.95s\n",
      "351:\tlearn: 0.0102388\ttotal: 23.5s\tremaining: 9.88s\n",
      "352:\tlearn: 0.0101907\ttotal: 23.6s\tremaining: 9.82s\n",
      "353:\tlearn: 0.0101400\ttotal: 23.6s\tremaining: 9.75s\n",
      "354:\tlearn: 0.0100873\ttotal: 23.7s\tremaining: 9.68s\n",
      "355:\tlearn: 0.0100493\ttotal: 23.8s\tremaining: 9.61s\n",
      "356:\tlearn: 0.0100269\ttotal: 23.8s\tremaining: 9.54s\n",
      "357:\tlearn: 0.0099907\ttotal: 23.9s\tremaining: 9.48s\n",
      "358:\tlearn: 0.0099443\ttotal: 24s\tremaining: 9.41s\n",
      "359:\tlearn: 0.0098825\ttotal: 24s\tremaining: 9.34s\n",
      "360:\tlearn: 0.0098324\ttotal: 24.1s\tremaining: 9.28s\n",
      "361:\tlearn: 0.0098071\ttotal: 24.2s\tremaining: 9.21s\n",
      "362:\tlearn: 0.0097464\ttotal: 24.2s\tremaining: 9.14s\n",
      "363:\tlearn: 0.0097111\ttotal: 24.3s\tremaining: 9.07s\n",
      "364:\tlearn: 0.0096718\ttotal: 24.3s\tremaining: 9s\n",
      "365:\tlearn: 0.0096122\ttotal: 24.4s\tremaining: 8.94s\n",
      "366:\tlearn: 0.0095822\ttotal: 24.5s\tremaining: 8.87s\n",
      "367:\tlearn: 0.0095617\ttotal: 24.5s\tremaining: 8.8s\n",
      "368:\tlearn: 0.0095194\ttotal: 24.6s\tremaining: 8.73s\n",
      "369:\tlearn: 0.0094928\ttotal: 24.7s\tremaining: 8.67s\n",
      "370:\tlearn: 0.0094620\ttotal: 24.7s\tremaining: 8.6s\n",
      "371:\tlearn: 0.0094456\ttotal: 24.8s\tremaining: 8.53s\n",
      "372:\tlearn: 0.0093972\ttotal: 24.9s\tremaining: 8.47s\n",
      "373:\tlearn: 0.0093728\ttotal: 24.9s\tremaining: 8.4s\n",
      "374:\tlearn: 0.0093466\ttotal: 25s\tremaining: 8.33s\n",
      "375:\tlearn: 0.0093257\ttotal: 25.1s\tremaining: 8.27s\n",
      "376:\tlearn: 0.0092705\ttotal: 25.1s\tremaining: 8.2s\n",
      "377:\tlearn: 0.0092500\ttotal: 25.2s\tremaining: 8.13s\n",
      "378:\tlearn: 0.0091989\ttotal: 25.3s\tremaining: 8.06s\n",
      "379:\tlearn: 0.0091617\ttotal: 25.3s\tremaining: 8s\n",
      "380:\tlearn: 0.0091325\ttotal: 25.4s\tremaining: 7.93s\n",
      "381:\tlearn: 0.0091043\ttotal: 25.5s\tremaining: 7.86s\n",
      "382:\tlearn: 0.0090780\ttotal: 25.5s\tremaining: 7.8s\n",
      "383:\tlearn: 0.0090362\ttotal: 25.6s\tremaining: 7.73s\n",
      "384:\tlearn: 0.0089989\ttotal: 25.7s\tremaining: 7.66s\n",
      "385:\tlearn: 0.0089586\ttotal: 25.7s\tremaining: 7.6s\n",
      "386:\tlearn: 0.0089184\ttotal: 25.8s\tremaining: 7.53s\n",
      "387:\tlearn: 0.0088915\ttotal: 25.9s\tremaining: 7.46s\n",
      "388:\tlearn: 0.0088659\ttotal: 25.9s\tremaining: 7.4s\n",
      "389:\tlearn: 0.0088484\ttotal: 26s\tremaining: 7.33s\n",
      "390:\tlearn: 0.0088190\ttotal: 26.1s\tremaining: 7.26s\n",
      "391:\tlearn: 0.0087711\ttotal: 26.1s\tremaining: 7.19s\n",
      "392:\tlearn: 0.0087362\ttotal: 26.2s\tremaining: 7.13s\n",
      "393:\tlearn: 0.0086989\ttotal: 26.2s\tremaining: 7.06s\n",
      "394:\tlearn: 0.0086607\ttotal: 26.3s\tremaining: 6.99s\n",
      "395:\tlearn: 0.0086348\ttotal: 26.4s\tremaining: 6.93s\n",
      "396:\tlearn: 0.0085985\ttotal: 26.4s\tremaining: 6.86s\n",
      "397:\tlearn: 0.0085761\ttotal: 26.5s\tremaining: 6.79s\n",
      "398:\tlearn: 0.0085417\ttotal: 26.6s\tremaining: 6.72s\n",
      "399:\tlearn: 0.0085212\ttotal: 26.6s\tremaining: 6.66s\n",
      "400:\tlearn: 0.0084756\ttotal: 26.7s\tremaining: 6.59s\n",
      "401:\tlearn: 0.0084324\ttotal: 26.8s\tremaining: 6.53s\n",
      "402:\tlearn: 0.0083968\ttotal: 26.8s\tremaining: 6.46s\n",
      "403:\tlearn: 0.0083765\ttotal: 26.9s\tremaining: 6.39s\n",
      "404:\tlearn: 0.0083226\ttotal: 27s\tremaining: 6.32s\n",
      "405:\tlearn: 0.0083108\ttotal: 27s\tremaining: 6.26s\n",
      "406:\tlearn: 0.0082632\ttotal: 27.1s\tremaining: 6.19s\n",
      "407:\tlearn: 0.0082271\ttotal: 27.2s\tremaining: 6.13s\n",
      "408:\tlearn: 0.0081975\ttotal: 27.2s\tremaining: 6.06s\n",
      "409:\tlearn: 0.0081663\ttotal: 27.3s\tremaining: 6s\n",
      "410:\tlearn: 0.0081534\ttotal: 27.4s\tremaining: 5.93s\n",
      "411:\tlearn: 0.0081121\ttotal: 27.4s\tremaining: 5.86s\n",
      "412:\tlearn: 0.0080861\ttotal: 27.5s\tremaining: 5.8s\n",
      "413:\tlearn: 0.0080585\ttotal: 27.6s\tremaining: 5.73s\n",
      "414:\tlearn: 0.0080387\ttotal: 27.7s\tremaining: 5.67s\n",
      "415:\tlearn: 0.0080212\ttotal: 27.7s\tremaining: 5.6s\n",
      "416:\tlearn: 0.0080075\ttotal: 27.8s\tremaining: 5.53s\n",
      "417:\tlearn: 0.0079784\ttotal: 27.9s\tremaining: 5.47s\n",
      "418:\tlearn: 0.0079518\ttotal: 27.9s\tremaining: 5.4s\n",
      "419:\tlearn: 0.0079156\ttotal: 28s\tremaining: 5.33s\n",
      "420:\tlearn: 0.0078841\ttotal: 28.1s\tremaining: 5.27s\n",
      "421:\tlearn: 0.0078576\ttotal: 28.2s\tremaining: 5.2s\n",
      "422:\tlearn: 0.0078221\ttotal: 28.2s\tremaining: 5.14s\n",
      "423:\tlearn: 0.0077906\ttotal: 28.3s\tremaining: 5.07s\n",
      "424:\tlearn: 0.0077579\ttotal: 28.4s\tremaining: 5s\n",
      "425:\tlearn: 0.0077376\ttotal: 28.4s\tremaining: 4.94s\n",
      "426:\tlearn: 0.0077032\ttotal: 28.5s\tremaining: 4.87s\n",
      "427:\tlearn: 0.0076741\ttotal: 28.6s\tremaining: 4.8s\n",
      "428:\tlearn: 0.0076547\ttotal: 28.6s\tremaining: 4.74s\n",
      "429:\tlearn: 0.0076146\ttotal: 28.7s\tremaining: 4.67s\n",
      "430:\tlearn: 0.0075973\ttotal: 28.8s\tremaining: 4.61s\n",
      "431:\tlearn: 0.0075626\ttotal: 28.8s\tremaining: 4.54s\n",
      "432:\tlearn: 0.0075488\ttotal: 28.9s\tremaining: 4.47s\n",
      "433:\tlearn: 0.0075295\ttotal: 29s\tremaining: 4.41s\n",
      "434:\tlearn: 0.0074977\ttotal: 29.1s\tremaining: 4.34s\n",
      "435:\tlearn: 0.0074977\ttotal: 29.1s\tremaining: 4.28s\n",
      "436:\tlearn: 0.0074625\ttotal: 29.2s\tremaining: 4.21s\n",
      "437:\tlearn: 0.0074625\ttotal: 29.3s\tremaining: 4.14s\n",
      "438:\tlearn: 0.0074331\ttotal: 29.3s\tremaining: 4.08s\n",
      "439:\tlearn: 0.0074047\ttotal: 29.4s\tremaining: 4.01s\n",
      "440:\tlearn: 0.0073993\ttotal: 29.5s\tremaining: 3.94s\n",
      "441:\tlearn: 0.0073821\ttotal: 29.5s\tremaining: 3.87s\n",
      "442:\tlearn: 0.0073817\ttotal: 29.6s\tremaining: 3.81s\n",
      "443:\tlearn: 0.0073612\ttotal: 29.6s\tremaining: 3.74s\n",
      "444:\tlearn: 0.0073335\ttotal: 29.7s\tremaining: 3.67s\n",
      "445:\tlearn: 0.0073120\ttotal: 29.8s\tremaining: 3.6s\n",
      "446:\tlearn: 0.0072975\ttotal: 29.8s\tremaining: 3.54s\n",
      "447:\tlearn: 0.0072758\ttotal: 29.9s\tremaining: 3.47s\n",
      "448:\tlearn: 0.0072527\ttotal: 30s\tremaining: 3.4s\n",
      "449:\tlearn: 0.0072327\ttotal: 30s\tremaining: 3.34s\n",
      "450:\tlearn: 0.0071999\ttotal: 30.1s\tremaining: 3.27s\n",
      "451:\tlearn: 0.0071642\ttotal: 30.2s\tremaining: 3.2s\n",
      "452:\tlearn: 0.0071519\ttotal: 30.2s\tremaining: 3.14s\n",
      "453:\tlearn: 0.0071301\ttotal: 30.3s\tremaining: 3.07s\n",
      "454:\tlearn: 0.0071170\ttotal: 30.4s\tremaining: 3s\n",
      "455:\tlearn: 0.0070960\ttotal: 30.4s\tremaining: 2.94s\n",
      "456:\tlearn: 0.0070737\ttotal: 30.5s\tremaining: 2.87s\n",
      "457:\tlearn: 0.0070737\ttotal: 30.6s\tremaining: 2.8s\n",
      "458:\tlearn: 0.0070519\ttotal: 30.6s\tremaining: 2.73s\n",
      "459:\tlearn: 0.0070307\ttotal: 30.7s\tremaining: 2.67s\n",
      "460:\tlearn: 0.0070020\ttotal: 30.8s\tremaining: 2.6s\n",
      "461:\tlearn: 0.0069744\ttotal: 30.8s\tremaining: 2.53s\n",
      "462:\tlearn: 0.0069523\ttotal: 30.9s\tremaining: 2.47s\n",
      "463:\tlearn: 0.0069292\ttotal: 30.9s\tremaining: 2.4s\n",
      "464:\tlearn: 0.0069043\ttotal: 31s\tremaining: 2.33s\n",
      "465:\tlearn: 0.0068813\ttotal: 31.1s\tremaining: 2.27s\n",
      "466:\tlearn: 0.0068629\ttotal: 31.1s\tremaining: 2.2s\n",
      "467:\tlearn: 0.0068533\ttotal: 31.2s\tremaining: 2.13s\n",
      "468:\tlearn: 0.0068296\ttotal: 31.3s\tremaining: 2.07s\n",
      "469:\tlearn: 0.0068196\ttotal: 31.3s\tremaining: 2s\n",
      "470:\tlearn: 0.0068045\ttotal: 31.4s\tremaining: 1.93s\n",
      "471:\tlearn: 0.0067891\ttotal: 31.5s\tremaining: 1.87s\n",
      "472:\tlearn: 0.0067650\ttotal: 31.5s\tremaining: 1.8s\n",
      "473:\tlearn: 0.0067448\ttotal: 31.6s\tremaining: 1.73s\n",
      "474:\tlearn: 0.0067448\ttotal: 31.7s\tremaining: 1.67s\n",
      "475:\tlearn: 0.0067204\ttotal: 31.7s\tremaining: 1.6s\n",
      "476:\tlearn: 0.0066983\ttotal: 31.8s\tremaining: 1.53s\n",
      "477:\tlearn: 0.0066740\ttotal: 31.9s\tremaining: 1.47s\n",
      "478:\tlearn: 0.0066550\ttotal: 31.9s\tremaining: 1.4s\n",
      "479:\tlearn: 0.0066549\ttotal: 32s\tremaining: 1.33s\n",
      "480:\tlearn: 0.0066411\ttotal: 32s\tremaining: 1.27s\n",
      "481:\tlearn: 0.0066228\ttotal: 32.1s\tremaining: 1.2s\n",
      "482:\tlearn: 0.0066042\ttotal: 32.2s\tremaining: 1.13s\n",
      "483:\tlearn: 0.0065858\ttotal: 32.2s\tremaining: 1.06s\n"
     ]
    },
    {
     "name": "stdout",
     "output_type": "stream",
     "text": [
      "484:\tlearn: 0.0065641\ttotal: 32.3s\tremaining: 999ms\n",
      "485:\tlearn: 0.0065393\ttotal: 32.4s\tremaining: 933ms\n",
      "486:\tlearn: 0.0065393\ttotal: 32.4s\tremaining: 866ms\n",
      "487:\tlearn: 0.0065217\ttotal: 32.5s\tremaining: 799ms\n",
      "488:\tlearn: 0.0065013\ttotal: 32.6s\tremaining: 733ms\n",
      "489:\tlearn: 0.0065010\ttotal: 32.6s\tremaining: 666ms\n",
      "490:\tlearn: 0.0065009\ttotal: 32.7s\tremaining: 599ms\n",
      "491:\tlearn: 0.0064824\ttotal: 32.8s\tremaining: 533ms\n",
      "492:\tlearn: 0.0064564\ttotal: 32.8s\tremaining: 466ms\n",
      "493:\tlearn: 0.0064369\ttotal: 32.9s\tremaining: 400ms\n",
      "494:\tlearn: 0.0064141\ttotal: 33s\tremaining: 333ms\n",
      "495:\tlearn: 0.0063963\ttotal: 33s\tremaining: 266ms\n",
      "496:\tlearn: 0.0063940\ttotal: 33.1s\tremaining: 200ms\n",
      "497:\tlearn: 0.0063733\ttotal: 33.2s\tremaining: 133ms\n",
      "498:\tlearn: 0.0063618\ttotal: 33.2s\tremaining: 66.6ms\n",
      "499:\tlearn: 0.0063440\ttotal: 33.3s\tremaining: 0us\n",
      "Wall time: 33min 35s\n"
     ]
    },
    {
     "data": {
      "text/plain": [
       "GridSearchCV(cv=3, error_score='raise-deprecating',\n",
       "             estimator=<catboost.core.CatBoostClassifier object at 0x00000231DF1BB518>,\n",
       "             iid='warn', n_jobs=-1,\n",
       "             param_grid={'depth': [None, 3, 6, 9, 12],\n",
       "                         'iterations': [300, 500, 1000, 1500],\n",
       "                         'learning_rate': [0.2, 0.5, 1]},\n",
       "             pre_dispatch='2*n_jobs', refit=True, return_train_score=False,\n",
       "             scoring='f1', verbose=0)"
      ]
     },
     "execution_count": 118,
     "metadata": {},
     "output_type": "execute_result"
    }
   ],
   "source": [
    "%%time\n",
    "gs_4.fit(X_train, y_train)"
   ]
  },
  {
   "cell_type": "code",
   "execution_count": 119,
   "metadata": {},
   "outputs": [
    {
     "data": {
      "text/plain": [
       "0.7713746348849992"
      ]
     },
     "execution_count": 119,
     "metadata": {},
     "output_type": "execute_result"
    }
   ],
   "source": [
    "gs_4.best_score_"
   ]
  },
  {
   "cell_type": "code",
   "execution_count": 120,
   "metadata": {},
   "outputs": [
    {
     "data": {
      "text/plain": [
       "{'depth': 12, 'iterations': 500, 'learning_rate': 0.2}"
      ]
     },
     "execution_count": 120,
     "metadata": {},
     "output_type": "execute_result"
    }
   ],
   "source": [
    "gs_4.best_params_"
   ]
  },
  {
   "cell_type": "code",
   "execution_count": 121,
   "metadata": {},
   "outputs": [],
   "source": [
    "model = catb.CatBoostClassifier(depth=12, iterations=500, learning_rate=0.2, random_state=42)"
   ]
  },
  {
   "cell_type": "code",
   "execution_count": 122,
   "metadata": {},
   "outputs": [
    {
     "name": "stdout",
     "output_type": "stream",
     "text": [
      "0:\tlearn: 0.6336065\ttotal: 65.8ms\tremaining: 32.8s\n",
      "1:\tlearn: 0.5994969\ttotal: 130ms\tremaining: 32.4s\n",
      "2:\tlearn: 0.5776392\ttotal: 196ms\tremaining: 32.4s\n",
      "3:\tlearn: 0.5570529\ttotal: 260ms\tremaining: 32.2s\n",
      "4:\tlearn: 0.5390349\ttotal: 324ms\tremaining: 32.1s\n",
      "5:\tlearn: 0.5244480\ttotal: 389ms\tremaining: 32.1s\n",
      "6:\tlearn: 0.5092700\ttotal: 455ms\tremaining: 32.1s\n",
      "7:\tlearn: 0.4956133\ttotal: 525ms\tremaining: 32.3s\n",
      "8:\tlearn: 0.4719642\ttotal: 589ms\tremaining: 32.2s\n",
      "9:\tlearn: 0.4580506\ttotal: 656ms\tremaining: 32.1s\n",
      "10:\tlearn: 0.4481736\ttotal: 720ms\tremaining: 32s\n",
      "11:\tlearn: 0.4338417\ttotal: 786ms\tremaining: 32s\n",
      "12:\tlearn: 0.4198326\ttotal: 852ms\tremaining: 31.9s\n",
      "13:\tlearn: 0.4078251\ttotal: 918ms\tremaining: 31.9s\n",
      "14:\tlearn: 0.3922432\ttotal: 982ms\tremaining: 31.8s\n",
      "15:\tlearn: 0.3836175\ttotal: 1.05s\tremaining: 31.7s\n",
      "16:\tlearn: 0.3727677\ttotal: 1.11s\tremaining: 31.6s\n",
      "17:\tlearn: 0.3593321\ttotal: 1.18s\tremaining: 31.5s\n",
      "18:\tlearn: 0.3419775\ttotal: 1.24s\tremaining: 31.5s\n",
      "19:\tlearn: 0.3308654\ttotal: 1.31s\tremaining: 31.4s\n",
      "20:\tlearn: 0.3227829\ttotal: 1.37s\tremaining: 31.3s\n",
      "21:\tlearn: 0.3183167\ttotal: 1.44s\tremaining: 31.2s\n",
      "22:\tlearn: 0.3143796\ttotal: 1.5s\tremaining: 31.1s\n",
      "23:\tlearn: 0.3087474\ttotal: 1.57s\tremaining: 31.1s\n",
      "24:\tlearn: 0.2974949\ttotal: 1.63s\tremaining: 31.1s\n",
      "25:\tlearn: 0.2905093\ttotal: 1.7s\tremaining: 31s\n",
      "26:\tlearn: 0.2862648\ttotal: 1.76s\tremaining: 30.9s\n",
      "27:\tlearn: 0.2790586\ttotal: 1.83s\tremaining: 30.8s\n",
      "28:\tlearn: 0.2706787\ttotal: 1.89s\tremaining: 30.8s\n",
      "29:\tlearn: 0.2667586\ttotal: 1.96s\tremaining: 30.7s\n",
      "30:\tlearn: 0.2546555\ttotal: 2.02s\tremaining: 30.6s\n",
      "31:\tlearn: 0.2483722\ttotal: 2.09s\tremaining: 30.6s\n",
      "32:\tlearn: 0.2425755\ttotal: 2.15s\tremaining: 30.5s\n",
      "33:\tlearn: 0.2399099\ttotal: 2.22s\tremaining: 30.4s\n",
      "34:\tlearn: 0.2368912\ttotal: 2.29s\tremaining: 30.4s\n",
      "35:\tlearn: 0.2318454\ttotal: 2.35s\tremaining: 30.3s\n",
      "36:\tlearn: 0.2284728\ttotal: 2.42s\tremaining: 30.2s\n",
      "37:\tlearn: 0.2215114\ttotal: 2.48s\tremaining: 30.2s\n",
      "38:\tlearn: 0.2163823\ttotal: 2.54s\tremaining: 30.1s\n",
      "39:\tlearn: 0.2117950\ttotal: 2.61s\tremaining: 30s\n",
      "40:\tlearn: 0.2091856\ttotal: 2.68s\tremaining: 30s\n",
      "41:\tlearn: 0.2079606\ttotal: 2.74s\tremaining: 29.9s\n",
      "42:\tlearn: 0.2059206\ttotal: 2.81s\tremaining: 29.8s\n",
      "43:\tlearn: 0.1999208\ttotal: 2.87s\tremaining: 29.8s\n",
      "44:\tlearn: 0.1968117\ttotal: 2.94s\tremaining: 29.7s\n",
      "45:\tlearn: 0.1912741\ttotal: 3s\tremaining: 29.6s\n",
      "46:\tlearn: 0.1871271\ttotal: 3.07s\tremaining: 29.6s\n",
      "47:\tlearn: 0.1837438\ttotal: 3.13s\tremaining: 29.5s\n",
      "48:\tlearn: 0.1788436\ttotal: 3.19s\tremaining: 29.4s\n",
      "49:\tlearn: 0.1749538\ttotal: 3.26s\tremaining: 29.3s\n",
      "50:\tlearn: 0.1722571\ttotal: 3.32s\tremaining: 29.3s\n",
      "51:\tlearn: 0.1701219\ttotal: 3.39s\tremaining: 29.2s\n",
      "52:\tlearn: 0.1665098\ttotal: 3.46s\tremaining: 29.1s\n",
      "53:\tlearn: 0.1648642\ttotal: 3.52s\tremaining: 29.1s\n",
      "54:\tlearn: 0.1637178\ttotal: 3.59s\tremaining: 29s\n",
      "55:\tlearn: 0.1623029\ttotal: 3.65s\tremaining: 29s\n",
      "56:\tlearn: 0.1590232\ttotal: 3.72s\tremaining: 28.9s\n",
      "57:\tlearn: 0.1564821\ttotal: 3.78s\tremaining: 28.8s\n",
      "58:\tlearn: 0.1545909\ttotal: 3.85s\tremaining: 28.8s\n",
      "59:\tlearn: 0.1514660\ttotal: 3.92s\tremaining: 28.7s\n",
      "60:\tlearn: 0.1475129\ttotal: 3.98s\tremaining: 28.6s\n",
      "61:\tlearn: 0.1451741\ttotal: 4.05s\tremaining: 28.6s\n",
      "62:\tlearn: 0.1418402\ttotal: 4.11s\tremaining: 28.5s\n",
      "63:\tlearn: 0.1392614\ttotal: 4.17s\tremaining: 28.4s\n",
      "64:\tlearn: 0.1363266\ttotal: 4.24s\tremaining: 28.4s\n",
      "65:\tlearn: 0.1341825\ttotal: 4.3s\tremaining: 28.3s\n",
      "66:\tlearn: 0.1308928\ttotal: 4.37s\tremaining: 28.2s\n",
      "67:\tlearn: 0.1279430\ttotal: 4.44s\tremaining: 28.2s\n",
      "68:\tlearn: 0.1261517\ttotal: 4.5s\tremaining: 28.1s\n",
      "69:\tlearn: 0.1227544\ttotal: 4.57s\tremaining: 28.1s\n",
      "70:\tlearn: 0.1194060\ttotal: 4.63s\tremaining: 28s\n",
      "71:\tlearn: 0.1165570\ttotal: 4.71s\tremaining: 28s\n",
      "72:\tlearn: 0.1125355\ttotal: 4.78s\tremaining: 28s\n",
      "73:\tlearn: 0.1099731\ttotal: 4.86s\tremaining: 27.9s\n",
      "74:\tlearn: 0.1087917\ttotal: 4.93s\tremaining: 27.9s\n",
      "75:\tlearn: 0.1074083\ttotal: 5s\tremaining: 27.9s\n",
      "76:\tlearn: 0.1060101\ttotal: 5.07s\tremaining: 27.8s\n",
      "77:\tlearn: 0.1030230\ttotal: 5.13s\tremaining: 27.8s\n",
      "78:\tlearn: 0.1017760\ttotal: 5.2s\tremaining: 27.7s\n",
      "79:\tlearn: 0.0999417\ttotal: 5.27s\tremaining: 27.7s\n",
      "80:\tlearn: 0.0986130\ttotal: 5.35s\tremaining: 27.7s\n",
      "81:\tlearn: 0.0965429\ttotal: 5.42s\tremaining: 27.7s\n",
      "82:\tlearn: 0.0945614\ttotal: 5.5s\tremaining: 27.6s\n",
      "83:\tlearn: 0.0927358\ttotal: 5.57s\tremaining: 27.6s\n",
      "84:\tlearn: 0.0916305\ttotal: 5.67s\tremaining: 27.7s\n",
      "85:\tlearn: 0.0904954\ttotal: 5.74s\tremaining: 27.6s\n",
      "86:\tlearn: 0.0892204\ttotal: 5.81s\tremaining: 27.6s\n",
      "87:\tlearn: 0.0874840\ttotal: 5.88s\tremaining: 27.5s\n",
      "88:\tlearn: 0.0867235\ttotal: 5.95s\tremaining: 27.5s\n",
      "89:\tlearn: 0.0853870\ttotal: 6.03s\tremaining: 27.5s\n",
      "90:\tlearn: 0.0834814\ttotal: 6.11s\tremaining: 27.5s\n",
      "91:\tlearn: 0.0825193\ttotal: 6.18s\tremaining: 27.4s\n",
      "92:\tlearn: 0.0808167\ttotal: 6.25s\tremaining: 27.3s\n",
      "93:\tlearn: 0.0791965\ttotal: 6.32s\tremaining: 27.3s\n",
      "94:\tlearn: 0.0783055\ttotal: 6.39s\tremaining: 27.2s\n",
      "95:\tlearn: 0.0765640\ttotal: 6.46s\tremaining: 27.2s\n",
      "96:\tlearn: 0.0749532\ttotal: 6.54s\tremaining: 27.2s\n",
      "97:\tlearn: 0.0744236\ttotal: 6.61s\tremaining: 27.1s\n",
      "98:\tlearn: 0.0731835\ttotal: 6.67s\tremaining: 27s\n",
      "99:\tlearn: 0.0711213\ttotal: 6.74s\tremaining: 27s\n",
      "100:\tlearn: 0.0700725\ttotal: 6.8s\tremaining: 26.9s\n",
      "101:\tlearn: 0.0686965\ttotal: 6.87s\tremaining: 26.8s\n",
      "102:\tlearn: 0.0671773\ttotal: 6.94s\tremaining: 26.8s\n",
      "103:\tlearn: 0.0660598\ttotal: 7.01s\tremaining: 26.7s\n",
      "104:\tlearn: 0.0655707\ttotal: 7.07s\tremaining: 26.6s\n",
      "105:\tlearn: 0.0650150\ttotal: 7.13s\tremaining: 26.5s\n",
      "106:\tlearn: 0.0641837\ttotal: 7.2s\tremaining: 26.5s\n",
      "107:\tlearn: 0.0633383\ttotal: 7.27s\tremaining: 26.4s\n",
      "108:\tlearn: 0.0627078\ttotal: 7.33s\tremaining: 26.3s\n",
      "109:\tlearn: 0.0616009\ttotal: 7.4s\tremaining: 26.2s\n",
      "110:\tlearn: 0.0604019\ttotal: 7.46s\tremaining: 26.2s\n",
      "111:\tlearn: 0.0589190\ttotal: 7.53s\tremaining: 26.1s\n",
      "112:\tlearn: 0.0583669\ttotal: 7.6s\tremaining: 26s\n",
      "113:\tlearn: 0.0576201\ttotal: 7.66s\tremaining: 25.9s\n",
      "114:\tlearn: 0.0571632\ttotal: 7.73s\tremaining: 25.9s\n",
      "115:\tlearn: 0.0562447\ttotal: 7.79s\tremaining: 25.8s\n",
      "116:\tlearn: 0.0556928\ttotal: 7.86s\tremaining: 25.7s\n",
      "117:\tlearn: 0.0551807\ttotal: 7.92s\tremaining: 25.6s\n",
      "118:\tlearn: 0.0549160\ttotal: 7.99s\tremaining: 25.6s\n",
      "119:\tlearn: 0.0540740\ttotal: 8.05s\tremaining: 25.5s\n",
      "120:\tlearn: 0.0532436\ttotal: 8.12s\tremaining: 25.4s\n",
      "121:\tlearn: 0.0526418\ttotal: 8.19s\tremaining: 25.4s\n",
      "122:\tlearn: 0.0520132\ttotal: 8.25s\tremaining: 25.3s\n",
      "123:\tlearn: 0.0516020\ttotal: 8.31s\tremaining: 25.2s\n",
      "124:\tlearn: 0.0508475\ttotal: 8.38s\tremaining: 25.1s\n",
      "125:\tlearn: 0.0500985\ttotal: 8.45s\tremaining: 25.1s\n",
      "126:\tlearn: 0.0496749\ttotal: 8.51s\tremaining: 25s\n",
      "127:\tlearn: 0.0490571\ttotal: 8.58s\tremaining: 24.9s\n",
      "128:\tlearn: 0.0485891\ttotal: 8.64s\tremaining: 24.9s\n",
      "129:\tlearn: 0.0481700\ttotal: 8.71s\tremaining: 24.8s\n",
      "130:\tlearn: 0.0477950\ttotal: 8.78s\tremaining: 24.7s\n",
      "131:\tlearn: 0.0472346\ttotal: 8.84s\tremaining: 24.7s\n",
      "132:\tlearn: 0.0464456\ttotal: 8.91s\tremaining: 24.6s\n",
      "133:\tlearn: 0.0457640\ttotal: 8.97s\tremaining: 24.5s\n",
      "134:\tlearn: 0.0451079\ttotal: 9.04s\tremaining: 24.4s\n",
      "135:\tlearn: 0.0442506\ttotal: 9.11s\tremaining: 24.4s\n",
      "136:\tlearn: 0.0436774\ttotal: 9.17s\tremaining: 24.3s\n",
      "137:\tlearn: 0.0433960\ttotal: 9.24s\tremaining: 24.2s\n",
      "138:\tlearn: 0.0428309\ttotal: 9.3s\tremaining: 24.2s\n",
      "139:\tlearn: 0.0422226\ttotal: 9.37s\tremaining: 24.1s\n",
      "140:\tlearn: 0.0419383\ttotal: 9.44s\tremaining: 24s\n",
      "141:\tlearn: 0.0414159\ttotal: 9.51s\tremaining: 24s\n",
      "142:\tlearn: 0.0409427\ttotal: 9.57s\tremaining: 23.9s\n",
      "143:\tlearn: 0.0407748\ttotal: 9.64s\tremaining: 23.8s\n",
      "144:\tlearn: 0.0401536\ttotal: 9.71s\tremaining: 23.8s\n",
      "145:\tlearn: 0.0394129\ttotal: 9.77s\tremaining: 23.7s\n",
      "146:\tlearn: 0.0385776\ttotal: 9.84s\tremaining: 23.6s\n",
      "147:\tlearn: 0.0382265\ttotal: 9.9s\tremaining: 23.6s\n",
      "148:\tlearn: 0.0379581\ttotal: 9.97s\tremaining: 23.5s\n",
      "149:\tlearn: 0.0375836\ttotal: 10s\tremaining: 23.4s\n",
      "150:\tlearn: 0.0373745\ttotal: 10.1s\tremaining: 23.4s\n",
      "151:\tlearn: 0.0368433\ttotal: 10.2s\tremaining: 23.3s\n",
      "152:\tlearn: 0.0364219\ttotal: 10.2s\tremaining: 23.2s\n",
      "153:\tlearn: 0.0358196\ttotal: 10.3s\tremaining: 23.1s\n",
      "154:\tlearn: 0.0351811\ttotal: 10.4s\tremaining: 23.1s\n",
      "155:\tlearn: 0.0349188\ttotal: 10.4s\tremaining: 23s\n",
      "156:\tlearn: 0.0346093\ttotal: 10.5s\tremaining: 22.9s\n",
      "157:\tlearn: 0.0343987\ttotal: 10.6s\tremaining: 22.9s\n",
      "158:\tlearn: 0.0338199\ttotal: 10.6s\tremaining: 22.8s\n",
      "159:\tlearn: 0.0335314\ttotal: 10.7s\tremaining: 22.7s\n",
      "160:\tlearn: 0.0332011\ttotal: 10.8s\tremaining: 22.7s\n",
      "161:\tlearn: 0.0329747\ttotal: 10.8s\tremaining: 22.6s\n"
     ]
    },
    {
     "name": "stdout",
     "output_type": "stream",
     "text": [
      "162:\tlearn: 0.0324810\ttotal: 10.9s\tremaining: 22.6s\n",
      "163:\tlearn: 0.0322407\ttotal: 11s\tremaining: 22.5s\n",
      "164:\tlearn: 0.0319724\ttotal: 11s\tremaining: 22.4s\n",
      "165:\tlearn: 0.0314816\ttotal: 11.1s\tremaining: 22.4s\n",
      "166:\tlearn: 0.0311759\ttotal: 11.2s\tremaining: 22.3s\n",
      "167:\tlearn: 0.0309814\ttotal: 11.3s\tremaining: 22.2s\n",
      "168:\tlearn: 0.0306526\ttotal: 11.3s\tremaining: 22.2s\n",
      "169:\tlearn: 0.0304217\ttotal: 11.4s\tremaining: 22.1s\n",
      "170:\tlearn: 0.0300343\ttotal: 11.5s\tremaining: 22.1s\n",
      "171:\tlearn: 0.0298888\ttotal: 11.6s\tremaining: 22.1s\n",
      "172:\tlearn: 0.0296734\ttotal: 11.6s\tremaining: 22s\n",
      "173:\tlearn: 0.0295188\ttotal: 11.7s\tremaining: 21.9s\n",
      "174:\tlearn: 0.0293191\ttotal: 11.8s\tremaining: 21.9s\n",
      "175:\tlearn: 0.0289427\ttotal: 11.9s\tremaining: 21.8s\n",
      "176:\tlearn: 0.0286669\ttotal: 11.9s\tremaining: 21.8s\n",
      "177:\tlearn: 0.0283895\ttotal: 12s\tremaining: 21.7s\n",
      "178:\tlearn: 0.0280942\ttotal: 12.1s\tremaining: 21.6s\n",
      "179:\tlearn: 0.0279241\ttotal: 12.1s\tremaining: 21.6s\n",
      "180:\tlearn: 0.0277663\ttotal: 12.2s\tremaining: 21.5s\n",
      "181:\tlearn: 0.0275911\ttotal: 12.3s\tremaining: 21.4s\n",
      "182:\tlearn: 0.0273023\ttotal: 12.3s\tremaining: 21.4s\n",
      "183:\tlearn: 0.0271336\ttotal: 12.4s\tremaining: 21.3s\n",
      "184:\tlearn: 0.0269704\ttotal: 12.5s\tremaining: 21.2s\n",
      "185:\tlearn: 0.0268741\ttotal: 12.5s\tremaining: 21.2s\n",
      "186:\tlearn: 0.0267322\ttotal: 12.6s\tremaining: 21.1s\n",
      "187:\tlearn: 0.0264198\ttotal: 12.7s\tremaining: 21s\n",
      "188:\tlearn: 0.0260762\ttotal: 12.7s\tremaining: 21s\n",
      "189:\tlearn: 0.0258915\ttotal: 12.8s\tremaining: 20.9s\n",
      "190:\tlearn: 0.0257282\ttotal: 12.9s\tremaining: 20.8s\n",
      "191:\tlearn: 0.0254990\ttotal: 12.9s\tremaining: 20.7s\n",
      "192:\tlearn: 0.0253243\ttotal: 13s\tremaining: 20.7s\n",
      "193:\tlearn: 0.0250670\ttotal: 13.1s\tremaining: 20.6s\n",
      "194:\tlearn: 0.0249401\ttotal: 13.1s\tremaining: 20.5s\n",
      "195:\tlearn: 0.0247013\ttotal: 13.2s\tremaining: 20.5s\n",
      "196:\tlearn: 0.0244812\ttotal: 13.3s\tremaining: 20.4s\n",
      "197:\tlearn: 0.0243499\ttotal: 13.3s\tremaining: 20.3s\n",
      "198:\tlearn: 0.0241760\ttotal: 13.4s\tremaining: 20.3s\n",
      "199:\tlearn: 0.0240141\ttotal: 13.5s\tremaining: 20.2s\n",
      "200:\tlearn: 0.0237500\ttotal: 13.5s\tremaining: 20.1s\n",
      "201:\tlearn: 0.0236314\ttotal: 13.6s\tremaining: 20.1s\n",
      "202:\tlearn: 0.0235451\ttotal: 13.7s\tremaining: 20s\n",
      "203:\tlearn: 0.0233733\ttotal: 13.7s\tremaining: 19.9s\n",
      "204:\tlearn: 0.0231976\ttotal: 13.8s\tremaining: 19.8s\n",
      "205:\tlearn: 0.0230610\ttotal: 13.9s\tremaining: 19.8s\n",
      "206:\tlearn: 0.0229485\ttotal: 13.9s\tremaining: 19.7s\n",
      "207:\tlearn: 0.0227675\ttotal: 14s\tremaining: 19.6s\n",
      "208:\tlearn: 0.0226776\ttotal: 14.1s\tremaining: 19.6s\n",
      "209:\tlearn: 0.0224955\ttotal: 14.1s\tremaining: 19.5s\n",
      "210:\tlearn: 0.0223886\ttotal: 14.2s\tremaining: 19.4s\n",
      "211:\tlearn: 0.0222448\ttotal: 14.3s\tremaining: 19.4s\n",
      "212:\tlearn: 0.0220754\ttotal: 14.3s\tremaining: 19.3s\n",
      "213:\tlearn: 0.0219672\ttotal: 14.4s\tremaining: 19.2s\n",
      "214:\tlearn: 0.0218639\ttotal: 14.4s\tremaining: 19.2s\n",
      "215:\tlearn: 0.0217269\ttotal: 14.5s\tremaining: 19.1s\n",
      "216:\tlearn: 0.0216099\ttotal: 14.6s\tremaining: 19s\n",
      "217:\tlearn: 0.0213806\ttotal: 14.6s\tremaining: 18.9s\n",
      "218:\tlearn: 0.0212936\ttotal: 14.7s\tremaining: 18.9s\n",
      "219:\tlearn: 0.0211659\ttotal: 14.8s\tremaining: 18.9s\n",
      "220:\tlearn: 0.0209889\ttotal: 14.9s\tremaining: 18.8s\n",
      "221:\tlearn: 0.0208215\ttotal: 15s\tremaining: 18.7s\n",
      "222:\tlearn: 0.0206718\ttotal: 15s\tremaining: 18.7s\n",
      "223:\tlearn: 0.0205795\ttotal: 15.1s\tremaining: 18.6s\n",
      "224:\tlearn: 0.0204240\ttotal: 15.2s\tremaining: 18.6s\n",
      "225:\tlearn: 0.0202981\ttotal: 15.2s\tremaining: 18.5s\n",
      "226:\tlearn: 0.0201039\ttotal: 15.3s\tremaining: 18.4s\n",
      "227:\tlearn: 0.0199876\ttotal: 15.4s\tremaining: 18.4s\n",
      "228:\tlearn: 0.0199073\ttotal: 15.5s\tremaining: 18.3s\n",
      "229:\tlearn: 0.0198255\ttotal: 15.5s\tremaining: 18.2s\n",
      "230:\tlearn: 0.0197245\ttotal: 15.6s\tremaining: 18.2s\n",
      "231:\tlearn: 0.0195399\ttotal: 15.7s\tremaining: 18.1s\n",
      "232:\tlearn: 0.0194340\ttotal: 15.7s\tremaining: 18s\n",
      "233:\tlearn: 0.0193301\ttotal: 15.8s\tremaining: 18s\n",
      "234:\tlearn: 0.0192226\ttotal: 15.9s\tremaining: 17.9s\n",
      "235:\tlearn: 0.0190067\ttotal: 16s\tremaining: 17.9s\n",
      "236:\tlearn: 0.0188361\ttotal: 16s\tremaining: 17.8s\n",
      "237:\tlearn: 0.0187355\ttotal: 16.1s\tremaining: 17.7s\n",
      "238:\tlearn: 0.0185937\ttotal: 16.2s\tremaining: 17.7s\n",
      "239:\tlearn: 0.0184516\ttotal: 16.2s\tremaining: 17.6s\n",
      "240:\tlearn: 0.0182791\ttotal: 16.3s\tremaining: 17.5s\n",
      "241:\tlearn: 0.0181536\ttotal: 16.4s\tremaining: 17.5s\n",
      "242:\tlearn: 0.0180396\ttotal: 16.4s\tremaining: 17.4s\n",
      "243:\tlearn: 0.0179474\ttotal: 16.5s\tremaining: 17.3s\n",
      "244:\tlearn: 0.0178923\ttotal: 16.6s\tremaining: 17.3s\n",
      "245:\tlearn: 0.0178269\ttotal: 16.6s\tremaining: 17.2s\n",
      "246:\tlearn: 0.0177312\ttotal: 16.7s\tremaining: 17.1s\n",
      "247:\tlearn: 0.0176173\ttotal: 16.8s\tremaining: 17s\n",
      "248:\tlearn: 0.0175252\ttotal: 16.8s\tremaining: 17s\n",
      "249:\tlearn: 0.0173887\ttotal: 16.9s\tremaining: 16.9s\n",
      "250:\tlearn: 0.0172774\ttotal: 17s\tremaining: 16.8s\n",
      "251:\tlearn: 0.0171311\ttotal: 17s\tremaining: 16.8s\n",
      "252:\tlearn: 0.0170072\ttotal: 17.1s\tremaining: 16.7s\n",
      "253:\tlearn: 0.0169415\ttotal: 17.2s\tremaining: 16.6s\n",
      "254:\tlearn: 0.0168199\ttotal: 17.2s\tremaining: 16.6s\n",
      "255:\tlearn: 0.0167638\ttotal: 17.3s\tremaining: 16.5s\n",
      "256:\tlearn: 0.0166454\ttotal: 17.4s\tremaining: 16.4s\n",
      "257:\tlearn: 0.0165356\ttotal: 17.4s\tremaining: 16.4s\n",
      "258:\tlearn: 0.0164176\ttotal: 17.5s\tremaining: 16.3s\n",
      "259:\tlearn: 0.0163014\ttotal: 17.6s\tremaining: 16.2s\n",
      "260:\tlearn: 0.0161677\ttotal: 17.6s\tremaining: 16.2s\n",
      "261:\tlearn: 0.0160297\ttotal: 17.7s\tremaining: 16.1s\n",
      "262:\tlearn: 0.0159405\ttotal: 17.8s\tremaining: 16s\n",
      "263:\tlearn: 0.0158230\ttotal: 17.8s\tremaining: 15.9s\n",
      "264:\tlearn: 0.0157563\ttotal: 17.9s\tremaining: 15.9s\n",
      "265:\tlearn: 0.0156349\ttotal: 18s\tremaining: 15.8s\n",
      "266:\tlearn: 0.0155324\ttotal: 18s\tremaining: 15.7s\n",
      "267:\tlearn: 0.0153629\ttotal: 18.1s\tremaining: 15.7s\n",
      "268:\tlearn: 0.0152675\ttotal: 18.2s\tremaining: 15.6s\n",
      "269:\tlearn: 0.0151964\ttotal: 18.2s\tremaining: 15.5s\n",
      "270:\tlearn: 0.0150480\ttotal: 18.3s\tremaining: 15.5s\n",
      "271:\tlearn: 0.0149615\ttotal: 18.4s\tremaining: 15.4s\n",
      "272:\tlearn: 0.0148673\ttotal: 18.4s\tremaining: 15.3s\n",
      "273:\tlearn: 0.0147434\ttotal: 18.5s\tremaining: 15.3s\n",
      "274:\tlearn: 0.0146088\ttotal: 18.6s\tremaining: 15.2s\n",
      "275:\tlearn: 0.0145407\ttotal: 18.6s\tremaining: 15.1s\n",
      "276:\tlearn: 0.0144866\ttotal: 18.7s\tremaining: 15.1s\n",
      "277:\tlearn: 0.0144127\ttotal: 18.8s\tremaining: 15s\n",
      "278:\tlearn: 0.0143253\ttotal: 18.8s\tremaining: 14.9s\n",
      "279:\tlearn: 0.0142086\ttotal: 18.9s\tremaining: 14.9s\n",
      "280:\tlearn: 0.0141130\ttotal: 19s\tremaining: 14.8s\n",
      "281:\tlearn: 0.0140418\ttotal: 19s\tremaining: 14.7s\n",
      "282:\tlearn: 0.0139810\ttotal: 19.1s\tremaining: 14.7s\n",
      "283:\tlearn: 0.0138801\ttotal: 19.2s\tremaining: 14.6s\n",
      "284:\tlearn: 0.0138144\ttotal: 19.2s\tremaining: 14.5s\n",
      "285:\tlearn: 0.0137358\ttotal: 19.3s\tremaining: 14.4s\n",
      "286:\tlearn: 0.0136813\ttotal: 19.4s\tremaining: 14.4s\n",
      "287:\tlearn: 0.0136073\ttotal: 19.4s\tremaining: 14.3s\n",
      "288:\tlearn: 0.0135315\ttotal: 19.5s\tremaining: 14.2s\n",
      "289:\tlearn: 0.0134994\ttotal: 19.6s\tremaining: 14.2s\n",
      "290:\tlearn: 0.0134406\ttotal: 19.6s\tremaining: 14.1s\n",
      "291:\tlearn: 0.0134005\ttotal: 19.7s\tremaining: 14s\n",
      "292:\tlearn: 0.0133200\ttotal: 19.8s\tremaining: 14s\n",
      "293:\tlearn: 0.0132460\ttotal: 19.8s\tremaining: 13.9s\n",
      "294:\tlearn: 0.0131859\ttotal: 19.9s\tremaining: 13.8s\n",
      "295:\tlearn: 0.0131003\ttotal: 20s\tremaining: 13.8s\n",
      "296:\tlearn: 0.0130509\ttotal: 20s\tremaining: 13.7s\n",
      "297:\tlearn: 0.0129725\ttotal: 20.1s\tremaining: 13.6s\n",
      "298:\tlearn: 0.0129234\ttotal: 20.2s\tremaining: 13.6s\n",
      "299:\tlearn: 0.0128446\ttotal: 20.2s\tremaining: 13.5s\n",
      "300:\tlearn: 0.0127912\ttotal: 20.3s\tremaining: 13.4s\n",
      "301:\tlearn: 0.0126942\ttotal: 20.4s\tremaining: 13.4s\n",
      "302:\tlearn: 0.0126269\ttotal: 20.4s\tremaining: 13.3s\n",
      "303:\tlearn: 0.0125689\ttotal: 20.5s\tremaining: 13.2s\n",
      "304:\tlearn: 0.0125306\ttotal: 20.6s\tremaining: 13.2s\n",
      "305:\tlearn: 0.0124499\ttotal: 20.6s\tremaining: 13.1s\n",
      "306:\tlearn: 0.0123740\ttotal: 20.7s\tremaining: 13s\n",
      "307:\tlearn: 0.0123270\ttotal: 20.8s\tremaining: 13s\n",
      "308:\tlearn: 0.0122398\ttotal: 20.9s\tremaining: 12.9s\n",
      "309:\tlearn: 0.0121713\ttotal: 20.9s\tremaining: 12.8s\n",
      "310:\tlearn: 0.0121173\ttotal: 21s\tremaining: 12.8s\n",
      "311:\tlearn: 0.0120377\ttotal: 21.1s\tremaining: 12.7s\n",
      "312:\tlearn: 0.0119903\ttotal: 21.2s\tremaining: 12.7s\n",
      "313:\tlearn: 0.0119538\ttotal: 21.2s\tremaining: 12.6s\n",
      "314:\tlearn: 0.0119177\ttotal: 21.3s\tremaining: 12.5s\n",
      "315:\tlearn: 0.0118653\ttotal: 21.4s\tremaining: 12.5s\n",
      "316:\tlearn: 0.0118283\ttotal: 21.5s\tremaining: 12.4s\n",
      "317:\tlearn: 0.0117878\ttotal: 21.5s\tremaining: 12.3s\n",
      "318:\tlearn: 0.0117515\ttotal: 21.6s\tremaining: 12.3s\n",
      "319:\tlearn: 0.0116841\ttotal: 21.7s\tremaining: 12.2s\n",
      "320:\tlearn: 0.0116494\ttotal: 21.7s\tremaining: 12.1s\n"
     ]
    },
    {
     "name": "stdout",
     "output_type": "stream",
     "text": [
      "321:\tlearn: 0.0116111\ttotal: 21.8s\tremaining: 12.1s\n",
      "322:\tlearn: 0.0115335\ttotal: 21.9s\tremaining: 12s\n",
      "323:\tlearn: 0.0114783\ttotal: 22s\tremaining: 11.9s\n",
      "324:\tlearn: 0.0114006\ttotal: 22s\tremaining: 11.9s\n",
      "325:\tlearn: 0.0113673\ttotal: 22.1s\tremaining: 11.8s\n",
      "326:\tlearn: 0.0113329\ttotal: 22.2s\tremaining: 11.7s\n",
      "327:\tlearn: 0.0112839\ttotal: 22.3s\tremaining: 11.7s\n",
      "328:\tlearn: 0.0112233\ttotal: 22.3s\tremaining: 11.6s\n",
      "329:\tlearn: 0.0111960\ttotal: 22.4s\tremaining: 11.5s\n",
      "330:\tlearn: 0.0111560\ttotal: 22.5s\tremaining: 11.5s\n",
      "331:\tlearn: 0.0111186\ttotal: 22.6s\tremaining: 11.4s\n",
      "332:\tlearn: 0.0110613\ttotal: 22.6s\tremaining: 11.3s\n",
      "333:\tlearn: 0.0110238\ttotal: 22.7s\tremaining: 11.3s\n",
      "334:\tlearn: 0.0109671\ttotal: 22.8s\tremaining: 11.2s\n",
      "335:\tlearn: 0.0109064\ttotal: 22.8s\tremaining: 11.1s\n",
      "336:\tlearn: 0.0108720\ttotal: 22.9s\tremaining: 11.1s\n",
      "337:\tlearn: 0.0108426\ttotal: 23s\tremaining: 11s\n",
      "338:\tlearn: 0.0108093\ttotal: 23s\tremaining: 10.9s\n",
      "339:\tlearn: 0.0107740\ttotal: 23.1s\tremaining: 10.9s\n",
      "340:\tlearn: 0.0107106\ttotal: 23.2s\tremaining: 10.8s\n",
      "341:\tlearn: 0.0106593\ttotal: 23.2s\tremaining: 10.7s\n",
      "342:\tlearn: 0.0106013\ttotal: 23.3s\tremaining: 10.7s\n",
      "343:\tlearn: 0.0105656\ttotal: 23.4s\tremaining: 10.6s\n",
      "344:\tlearn: 0.0105171\ttotal: 23.4s\tremaining: 10.5s\n",
      "345:\tlearn: 0.0104943\ttotal: 23.5s\tremaining: 10.5s\n",
      "346:\tlearn: 0.0104364\ttotal: 23.6s\tremaining: 10.4s\n",
      "347:\tlearn: 0.0103926\ttotal: 23.6s\tremaining: 10.3s\n",
      "348:\tlearn: 0.0103685\ttotal: 23.7s\tremaining: 10.2s\n",
      "349:\tlearn: 0.0103157\ttotal: 23.7s\tremaining: 10.2s\n",
      "350:\tlearn: 0.0102664\ttotal: 23.8s\tremaining: 10.1s\n",
      "351:\tlearn: 0.0102388\ttotal: 23.9s\tremaining: 10s\n",
      "352:\tlearn: 0.0101907\ttotal: 23.9s\tremaining: 9.97s\n",
      "353:\tlearn: 0.0101400\ttotal: 24s\tremaining: 9.9s\n",
      "354:\tlearn: 0.0100873\ttotal: 24.1s\tremaining: 9.84s\n",
      "355:\tlearn: 0.0100493\ttotal: 24.1s\tremaining: 9.77s\n",
      "356:\tlearn: 0.0100269\ttotal: 24.2s\tremaining: 9.7s\n",
      "357:\tlearn: 0.0099907\ttotal: 24.3s\tremaining: 9.63s\n",
      "358:\tlearn: 0.0099443\ttotal: 24.4s\tremaining: 9.56s\n",
      "359:\tlearn: 0.0098825\ttotal: 24.4s\tremaining: 9.49s\n",
      "360:\tlearn: 0.0098324\ttotal: 24.5s\tremaining: 9.43s\n",
      "361:\tlearn: 0.0098071\ttotal: 24.6s\tremaining: 9.36s\n",
      "362:\tlearn: 0.0097464\ttotal: 24.6s\tremaining: 9.29s\n",
      "363:\tlearn: 0.0097111\ttotal: 24.7s\tremaining: 9.22s\n",
      "364:\tlearn: 0.0096718\ttotal: 24.8s\tremaining: 9.15s\n",
      "365:\tlearn: 0.0096122\ttotal: 24.8s\tremaining: 9.09s\n",
      "366:\tlearn: 0.0095822\ttotal: 24.9s\tremaining: 9.02s\n",
      "367:\tlearn: 0.0095617\ttotal: 25s\tremaining: 8.95s\n",
      "368:\tlearn: 0.0095194\ttotal: 25s\tremaining: 8.88s\n",
      "369:\tlearn: 0.0094928\ttotal: 25.1s\tremaining: 8.81s\n",
      "370:\tlearn: 0.0094620\ttotal: 25.2s\tremaining: 8.74s\n",
      "371:\tlearn: 0.0094456\ttotal: 25.2s\tremaining: 8.68s\n",
      "372:\tlearn: 0.0093972\ttotal: 25.3s\tremaining: 8.61s\n",
      "373:\tlearn: 0.0093728\ttotal: 25.4s\tremaining: 8.54s\n",
      "374:\tlearn: 0.0093466\ttotal: 25.4s\tremaining: 8.47s\n",
      "375:\tlearn: 0.0093257\ttotal: 25.5s\tremaining: 8.4s\n",
      "376:\tlearn: 0.0092705\ttotal: 25.5s\tremaining: 8.34s\n",
      "377:\tlearn: 0.0092500\ttotal: 25.6s\tremaining: 8.27s\n",
      "378:\tlearn: 0.0091989\ttotal: 25.7s\tremaining: 8.2s\n",
      "379:\tlearn: 0.0091617\ttotal: 25.7s\tremaining: 8.13s\n",
      "380:\tlearn: 0.0091325\ttotal: 25.8s\tremaining: 8.06s\n",
      "381:\tlearn: 0.0091043\ttotal: 25.9s\tremaining: 8s\n",
      "382:\tlearn: 0.0090780\ttotal: 26s\tremaining: 7.93s\n",
      "383:\tlearn: 0.0090362\ttotal: 26s\tremaining: 7.86s\n",
      "384:\tlearn: 0.0089989\ttotal: 26.1s\tremaining: 7.79s\n",
      "385:\tlearn: 0.0089586\ttotal: 26.1s\tremaining: 7.72s\n",
      "386:\tlearn: 0.0089184\ttotal: 26.2s\tremaining: 7.66s\n",
      "387:\tlearn: 0.0088915\ttotal: 26.3s\tremaining: 7.59s\n",
      "388:\tlearn: 0.0088659\ttotal: 26.4s\tremaining: 7.52s\n",
      "389:\tlearn: 0.0088484\ttotal: 26.4s\tremaining: 7.45s\n",
      "390:\tlearn: 0.0088190\ttotal: 26.5s\tremaining: 7.38s\n",
      "391:\tlearn: 0.0087711\ttotal: 26.6s\tremaining: 7.32s\n",
      "392:\tlearn: 0.0087362\ttotal: 26.6s\tremaining: 7.25s\n",
      "393:\tlearn: 0.0086989\ttotal: 26.7s\tremaining: 7.18s\n",
      "394:\tlearn: 0.0086607\ttotal: 26.8s\tremaining: 7.11s\n",
      "395:\tlearn: 0.0086348\ttotal: 26.8s\tremaining: 7.05s\n",
      "396:\tlearn: 0.0085985\ttotal: 26.9s\tremaining: 6.98s\n",
      "397:\tlearn: 0.0085761\ttotal: 27s\tremaining: 6.91s\n",
      "398:\tlearn: 0.0085417\ttotal: 27s\tremaining: 6.85s\n",
      "399:\tlearn: 0.0085212\ttotal: 27.1s\tremaining: 6.78s\n",
      "400:\tlearn: 0.0084756\ttotal: 27.2s\tremaining: 6.71s\n",
      "401:\tlearn: 0.0084324\ttotal: 27.3s\tremaining: 6.65s\n",
      "402:\tlearn: 0.0083968\ttotal: 27.3s\tremaining: 6.58s\n",
      "403:\tlearn: 0.0083765\ttotal: 27.4s\tremaining: 6.51s\n",
      "404:\tlearn: 0.0083226\ttotal: 27.5s\tremaining: 6.45s\n",
      "405:\tlearn: 0.0083108\ttotal: 27.5s\tremaining: 6.38s\n",
      "406:\tlearn: 0.0082632\ttotal: 27.6s\tremaining: 6.31s\n",
      "407:\tlearn: 0.0082271\ttotal: 27.7s\tremaining: 6.24s\n",
      "408:\tlearn: 0.0081975\ttotal: 27.8s\tremaining: 6.18s\n",
      "409:\tlearn: 0.0081663\ttotal: 27.9s\tremaining: 6.11s\n",
      "410:\tlearn: 0.0081534\ttotal: 27.9s\tremaining: 6.05s\n",
      "411:\tlearn: 0.0081121\ttotal: 28s\tremaining: 5.98s\n",
      "412:\tlearn: 0.0080861\ttotal: 28.1s\tremaining: 5.91s\n",
      "413:\tlearn: 0.0080585\ttotal: 28.1s\tremaining: 5.85s\n",
      "414:\tlearn: 0.0080387\ttotal: 28.2s\tremaining: 5.78s\n",
      "415:\tlearn: 0.0080212\ttotal: 28.3s\tremaining: 5.71s\n",
      "416:\tlearn: 0.0080075\ttotal: 28.4s\tremaining: 5.64s\n",
      "417:\tlearn: 0.0079784\ttotal: 28.4s\tremaining: 5.58s\n",
      "418:\tlearn: 0.0079518\ttotal: 28.5s\tremaining: 5.51s\n",
      "419:\tlearn: 0.0079156\ttotal: 28.6s\tremaining: 5.44s\n",
      "420:\tlearn: 0.0078841\ttotal: 28.6s\tremaining: 5.37s\n",
      "421:\tlearn: 0.0078576\ttotal: 28.7s\tremaining: 5.31s\n",
      "422:\tlearn: 0.0078221\ttotal: 28.8s\tremaining: 5.24s\n",
      "423:\tlearn: 0.0077906\ttotal: 28.9s\tremaining: 5.17s\n",
      "424:\tlearn: 0.0077579\ttotal: 28.9s\tremaining: 5.11s\n",
      "425:\tlearn: 0.0077376\ttotal: 29s\tremaining: 5.04s\n",
      "426:\tlearn: 0.0077032\ttotal: 29.1s\tremaining: 4.97s\n",
      "427:\tlearn: 0.0076741\ttotal: 29.2s\tremaining: 4.9s\n",
      "428:\tlearn: 0.0076547\ttotal: 29.2s\tremaining: 4.84s\n",
      "429:\tlearn: 0.0076146\ttotal: 29.3s\tremaining: 4.77s\n",
      "430:\tlearn: 0.0075973\ttotal: 29.4s\tremaining: 4.7s\n",
      "431:\tlearn: 0.0075626\ttotal: 29.4s\tremaining: 4.63s\n",
      "432:\tlearn: 0.0075488\ttotal: 29.5s\tremaining: 4.57s\n",
      "433:\tlearn: 0.0075295\ttotal: 29.6s\tremaining: 4.5s\n",
      "434:\tlearn: 0.0074977\ttotal: 29.7s\tremaining: 4.43s\n",
      "435:\tlearn: 0.0074977\ttotal: 29.7s\tremaining: 4.37s\n",
      "436:\tlearn: 0.0074625\ttotal: 29.8s\tremaining: 4.3s\n",
      "437:\tlearn: 0.0074625\ttotal: 29.9s\tremaining: 4.23s\n",
      "438:\tlearn: 0.0074331\ttotal: 30s\tremaining: 4.16s\n",
      "439:\tlearn: 0.0074047\ttotal: 30s\tremaining: 4.1s\n",
      "440:\tlearn: 0.0073993\ttotal: 30.1s\tremaining: 4.03s\n",
      "441:\tlearn: 0.0073821\ttotal: 30.2s\tremaining: 3.96s\n",
      "442:\tlearn: 0.0073817\ttotal: 30.3s\tremaining: 3.9s\n",
      "443:\tlearn: 0.0073612\ttotal: 30.3s\tremaining: 3.83s\n",
      "444:\tlearn: 0.0073335\ttotal: 30.4s\tremaining: 3.76s\n",
      "445:\tlearn: 0.0073120\ttotal: 30.5s\tremaining: 3.69s\n",
      "446:\tlearn: 0.0072975\ttotal: 30.6s\tremaining: 3.62s\n",
      "447:\tlearn: 0.0072758\ttotal: 30.6s\tremaining: 3.55s\n",
      "448:\tlearn: 0.0072527\ttotal: 30.7s\tremaining: 3.48s\n",
      "449:\tlearn: 0.0072327\ttotal: 30.8s\tremaining: 3.42s\n",
      "450:\tlearn: 0.0071999\ttotal: 30.8s\tremaining: 3.35s\n",
      "451:\tlearn: 0.0071642\ttotal: 30.9s\tremaining: 3.28s\n",
      "452:\tlearn: 0.0071519\ttotal: 31s\tremaining: 3.21s\n",
      "453:\tlearn: 0.0071301\ttotal: 31s\tremaining: 3.14s\n",
      "454:\tlearn: 0.0071170\ttotal: 31.1s\tremaining: 3.07s\n",
      "455:\tlearn: 0.0070960\ttotal: 31.2s\tremaining: 3s\n",
      "456:\tlearn: 0.0070737\ttotal: 31.2s\tremaining: 2.94s\n",
      "457:\tlearn: 0.0070737\ttotal: 31.3s\tremaining: 2.87s\n",
      "458:\tlearn: 0.0070519\ttotal: 31.4s\tremaining: 2.8s\n",
      "459:\tlearn: 0.0070307\ttotal: 31.4s\tremaining: 2.73s\n",
      "460:\tlearn: 0.0070020\ttotal: 31.5s\tremaining: 2.66s\n",
      "461:\tlearn: 0.0069744\ttotal: 31.5s\tremaining: 2.59s\n",
      "462:\tlearn: 0.0069523\ttotal: 31.6s\tremaining: 2.53s\n",
      "463:\tlearn: 0.0069292\ttotal: 31.7s\tremaining: 2.46s\n",
      "464:\tlearn: 0.0069043\ttotal: 31.7s\tremaining: 2.39s\n",
      "465:\tlearn: 0.0068813\ttotal: 31.8s\tremaining: 2.32s\n",
      "466:\tlearn: 0.0068629\ttotal: 31.9s\tremaining: 2.25s\n",
      "467:\tlearn: 0.0068533\ttotal: 31.9s\tremaining: 2.18s\n",
      "468:\tlearn: 0.0068296\ttotal: 32s\tremaining: 2.12s\n",
      "469:\tlearn: 0.0068196\ttotal: 32.1s\tremaining: 2.05s\n",
      "470:\tlearn: 0.0068045\ttotal: 32.1s\tremaining: 1.98s\n",
      "471:\tlearn: 0.0067891\ttotal: 32.2s\tremaining: 1.91s\n",
      "472:\tlearn: 0.0067650\ttotal: 32.3s\tremaining: 1.84s\n",
      "473:\tlearn: 0.0067448\ttotal: 32.3s\tremaining: 1.77s\n",
      "474:\tlearn: 0.0067448\ttotal: 32.4s\tremaining: 1.71s\n",
      "475:\tlearn: 0.0067204\ttotal: 32.5s\tremaining: 1.64s\n",
      "476:\tlearn: 0.0066983\ttotal: 32.5s\tremaining: 1.57s\n",
      "477:\tlearn: 0.0066740\ttotal: 32.6s\tremaining: 1.5s\n",
      "478:\tlearn: 0.0066550\ttotal: 32.7s\tremaining: 1.43s\n",
      "479:\tlearn: 0.0066549\ttotal: 32.7s\tremaining: 1.36s\n"
     ]
    },
    {
     "name": "stdout",
     "output_type": "stream",
     "text": [
      "480:\tlearn: 0.0066411\ttotal: 32.8s\tremaining: 1.29s\n",
      "481:\tlearn: 0.0066228\ttotal: 32.9s\tremaining: 1.23s\n",
      "482:\tlearn: 0.0066042\ttotal: 32.9s\tremaining: 1.16s\n",
      "483:\tlearn: 0.0065858\ttotal: 33s\tremaining: 1.09s\n",
      "484:\tlearn: 0.0065641\ttotal: 33.1s\tremaining: 1.02s\n",
      "485:\tlearn: 0.0065393\ttotal: 33.1s\tremaining: 955ms\n",
      "486:\tlearn: 0.0065393\ttotal: 33.2s\tremaining: 886ms\n",
      "487:\tlearn: 0.0065217\ttotal: 33.3s\tremaining: 818ms\n",
      "488:\tlearn: 0.0065013\ttotal: 33.3s\tremaining: 750ms\n",
      "489:\tlearn: 0.0065010\ttotal: 33.4s\tremaining: 682ms\n",
      "490:\tlearn: 0.0065009\ttotal: 33.5s\tremaining: 614ms\n",
      "491:\tlearn: 0.0064824\ttotal: 33.5s\tremaining: 545ms\n",
      "492:\tlearn: 0.0064564\ttotal: 33.6s\tremaining: 477ms\n",
      "493:\tlearn: 0.0064369\ttotal: 33.7s\tremaining: 409ms\n",
      "494:\tlearn: 0.0064141\ttotal: 33.7s\tremaining: 341ms\n",
      "495:\tlearn: 0.0063963\ttotal: 33.8s\tremaining: 273ms\n",
      "496:\tlearn: 0.0063940\ttotal: 33.9s\tremaining: 204ms\n",
      "497:\tlearn: 0.0063733\ttotal: 33.9s\tremaining: 136ms\n",
      "498:\tlearn: 0.0063618\ttotal: 34s\tremaining: 68.1ms\n",
      "499:\tlearn: 0.0063440\ttotal: 34.1s\tremaining: 0us\n"
     ]
    },
    {
     "data": {
      "text/plain": [
       "<catboost.core.CatBoostClassifier at 0x231df42cba8>"
      ]
     },
     "execution_count": 122,
     "metadata": {},
     "output_type": "execute_result"
    }
   ],
   "source": [
    "model.fit(X_train, y_train)"
   ]
  },
  {
   "cell_type": "code",
   "execution_count": 169,
   "metadata": {},
   "outputs": [],
   "source": [
    "y_train_pred = model.predict(X_train)\n",
    "y_test_pred = model.predict(X_test)"
   ]
  },
  {
   "cell_type": "code",
   "execution_count": 170,
   "metadata": {},
   "outputs": [
    {
     "name": "stdout",
     "output_type": "stream",
     "text": [
      "TRAIN\n",
      "\n",
      "              precision    recall  f1-score   support\n",
      "\n",
      "           0       1.00      1.00      1.00      4074\n",
      "           1       1.00      1.00      1.00      3102\n",
      "\n",
      "    accuracy                           1.00      7176\n",
      "   macro avg       1.00      1.00      1.00      7176\n",
      "weighted avg       1.00      1.00      1.00      7176\n",
      "\n",
      "TEST\n",
      "\n",
      "              precision    recall  f1-score   support\n",
      "\n",
      "           0       0.74      0.85      0.79      1313\n",
      "           1       0.46      0.30      0.36       562\n",
      "\n",
      "    accuracy                           0.69      1875\n",
      "   macro avg       0.60      0.57      0.58      1875\n",
      "weighted avg       0.66      0.69      0.66      1875\n",
      "\n",
      "CONFUSION MATRIX\n",
      "\n",
      "col_0              0    1\n",
      "Credit Default           \n",
      "0               1119  194\n",
      "1                395  167\n"
     ]
    }
   ],
   "source": [
    "get_classification_report(y_train, y_train_pred, y_test, y_test_pred)"
   ]
  },
  {
   "cell_type": "code",
   "execution_count": 171,
   "metadata": {},
   "outputs": [],
   "source": [
    "y_test_proba = model.predict_proba(X_test)"
   ]
  },
  {
   "cell_type": "code",
   "execution_count": 172,
   "metadata": {},
   "outputs": [
    {
     "data": {
      "image/png": "[encoded data removed]",
      "text/plain": [
       "<Figure size 1080x360 with 2 Axes>"
      ]
     },
     "metadata": {
      "needs_background": "light"
     },
     "output_type": "display_data"
    }
   ],
   "source": [
    "show_proba_calibration_plots(y_test_proba[:, 1], y_test)"
   ]
  },
  {
   "cell_type": "code",
   "execution_count": 127,
   "metadata": {},
   "outputs": [],
   "source": [
    "model_2 = lgbm.LGBMClassifier(learning_rate=0.2, n_estimators=500, max_depth=6, random_state=42)"
   ]
  },
  {
   "cell_type": "code",
   "execution_count": 128,
   "metadata": {},
   "outputs": [
    {
     "data": {
      "text/plain": [
       "LGBMClassifier(boosting_type='gbdt', class_weight=None, colsample_bytree=1.0,\n",
       "               importance_type='split', learning_rate=0.2, max_depth=6,\n",
       "               min_child_samples=20, min_child_weight=0.001, min_split_gain=0.0,\n",
       "               n_estimators=500, n_jobs=-1, num_leaves=31, objective=None,\n",
       "               random_state=42, reg_alpha=0.0, reg_lambda=0.0, silent=True,\n",
       "               subsample=1.0, subsample_for_bin=200000, subsample_freq=0)"
      ]
     },
     "execution_count": 128,
     "metadata": {},
     "output_type": "execute_result"
    }
   ],
   "source": [
    "model_2.fit(X_train, y_train)"
   ]
  },
  {
   "cell_type": "code",
   "execution_count": 165,
   "metadata": {},
   "outputs": [],
   "source": [
    "y_train_pred = model_2.predict(X_train)\n",
    "y_test_pred = model_2.predict(X_test)"
   ]
  },
  {
   "cell_type": "code",
   "execution_count": 166,
   "metadata": {},
   "outputs": [
    {
     "name": "stdout",
     "output_type": "stream",
     "text": [
      "TRAIN\n",
      "\n",
      "              precision    recall  f1-score   support\n",
      "\n",
      "           0       1.00      1.00      1.00      4074\n",
      "           1       1.00      1.00      1.00      3102\n",
      "\n",
      "    accuracy                           1.00      7176\n",
      "   macro avg       1.00      1.00      1.00      7176\n",
      "weighted avg       1.00      1.00      1.00      7176\n",
      "\n",
      "TEST\n",
      "\n",
      "              precision    recall  f1-score   support\n",
      "\n",
      "           0       0.74      0.82      0.78      1313\n",
      "           1       0.45      0.34      0.39       562\n",
      "\n",
      "    accuracy                           0.68      1875\n",
      "   macro avg       0.60      0.58      0.58      1875\n",
      "weighted avg       0.66      0.68      0.66      1875\n",
      "\n",
      "CONFUSION MATRIX\n",
      "\n",
      "col_0              0    1\n",
      "Credit Default           \n",
      "0               1074  239\n",
      "1                369  193\n"
     ]
    }
   ],
   "source": [
    "get_classification_report(y_train, y_train_pred, y_test, y_test_pred)"
   ]
  },
  {
   "cell_type": "code",
   "execution_count": 167,
   "metadata": {},
   "outputs": [],
   "source": [
    "y_test_proba = model_2.predict_proba(X_test)"
   ]
  },
  {
   "cell_type": "code",
   "execution_count": 168,
   "metadata": {},
   "outputs": [
    {
     "data": {
      "image/png": "[encoded data removed]",
      "text/plain": [
       "<Figure size 1080x360 with 2 Axes>"
      ]
     },
     "metadata": {
      "needs_background": "light"
     },
     "output_type": "display_data"
    }
   ],
   "source": [
    "show_proba_calibration_plots(y_test_proba[:, 1], y_test)"
   ]
  },
  {
   "cell_type": "code",
   "execution_count": 131,
   "metadata": {},
   "outputs": [],
   "source": [
    "model_3 = xgb.XGBClassifier(learning_rate=0.2, max_depth=9, n_estimators=1000, random_state=42)"
   ]
  },
  {
   "cell_type": "code",
   "execution_count": 132,
   "metadata": {},
   "outputs": [
    {
     "data": {
      "text/plain": [
       "XGBClassifier(base_score=0.5, booster='gbtree', colsample_bylevel=1,\n",
       "              colsample_bynode=1, colsample_bytree=1, gamma=0, gpu_id=-1,\n",
       "              importance_type='gain', interaction_constraints='',\n",
       "              learning_rate=0.2, max_delta_step=0, max_depth=9,\n",
       "              min_child_weight=1, missing=nan, monotone_constraints='()',\n",
       "              n_estimators=1000, n_jobs=0, num_parallel_tree=1,\n",
       "              objective='binary:logistic', random_state=42, reg_alpha=0,\n",
       "              reg_lambda=1, scale_pos_weight=1, subsample=1,\n",
       "              tree_method='exact', validate_parameters=1, verbosity=None)"
      ]
     },
     "execution_count": 132,
     "metadata": {},
     "output_type": "execute_result"
    }
   ],
   "source": [
    "model_3.fit(X_train, y_train)"
   ]
  },
  {
   "cell_type": "code",
   "execution_count": 161,
   "metadata": {},
   "outputs": [],
   "source": [
    "y_train_pred = model_3.predict(X_train)\n",
    "y_test_pred = model_3.predict(X_test)"
   ]
  },
  {
   "cell_type": "code",
   "execution_count": 162,
   "metadata": {
    "scrolled": true
   },
   "outputs": [
    {
     "name": "stdout",
     "output_type": "stream",
     "text": [
      "TRAIN\n",
      "\n",
      "              precision    recall  f1-score   support\n",
      "\n",
      "           0       1.00      1.00      1.00      4074\n",
      "           1       1.00      1.00      1.00      3102\n",
      "\n",
      "    accuracy                           1.00      7176\n",
      "   macro avg       1.00      1.00      1.00      7176\n",
      "weighted avg       1.00      1.00      1.00      7176\n",
      "\n",
      "TEST\n",
      "\n",
      "              precision    recall  f1-score   support\n",
      "\n",
      "           0       0.74      0.85      0.79      1313\n",
      "           1       0.47      0.31      0.37       562\n",
      "\n",
      "    accuracy                           0.69      1875\n",
      "   macro avg       0.60      0.58      0.58      1875\n",
      "weighted avg       0.66      0.69      0.67      1875\n",
      "\n",
      "CONFUSION MATRIX\n",
      "\n",
      "col_0              0    1\n",
      "Credit Default           \n",
      "0               1113  200\n",
      "1                388  174\n"
     ]
    }
   ],
   "source": [
    "get_classification_report(y_train, y_train_pred, y_test, y_test_pred)"
   ]
  },
  {
   "cell_type": "code",
   "execution_count": 163,
   "metadata": {},
   "outputs": [],
   "source": [
    "y_test_proba = model_3.predict_proba(X_test)"
   ]
  },
  {
   "cell_type": "code",
   "execution_count": 164,
   "metadata": {},
   "outputs": [
    {
     "data": {
      "image/png": "[encoded data removed]",
      "text/plain": [
       "<Figure size 1080x360 with 2 Axes>"
      ]
     },
     "metadata": {
      "needs_background": "light"
     },
     "output_type": "display_data"
    }
   ],
   "source": [
    "show_proba_calibration_plots(y_test_proba[:, 1], y_test)"
   ]
  },
  {
   "cell_type": "code",
   "execution_count": 135,
   "metadata": {},
   "outputs": [],
   "source": [
    "params = {'n_estimators': [100, 300, 500, 700, 1000], 'max_depth': [3, 6, 9, 12],\n",
    "          'learning_rate': [0.2, 0.5, 1], 'reg_lambda': [0.1, 1, 10, 50]}"
   ]
  },
  {
   "cell_type": "code",
   "execution_count": 136,
   "metadata": {},
   "outputs": [],
   "source": [
    "gs_5 = GridSearchCV(lgbm_model, params, scoring='f1', cv=3, n_jobs=-1)"
   ]
  },
  {
   "cell_type": "code",
   "execution_count": 137,
   "metadata": {},
   "outputs": [
    {
     "data": {
      "text/plain": [
       "GridSearchCV(cv=3, error_score='raise-deprecating',\n",
       "             estimator=LGBMClassifier(boosting_type='gbdt', class_weight=None,\n",
       "                                      colsample_bytree=1.0,\n",
       "                                      importance_type='split',\n",
       "                                      learning_rate=0.1, max_depth=-1,\n",
       "                                      min_child_samples=20,\n",
       "                                      min_child_weight=0.001,\n",
       "                                      min_split_gain=0.0, n_estimators=100,\n",
       "                                      n_jobs=-1, num_leaves=31, objective=None,\n",
       "                                      random_state=42, reg_alpha=0.0,\n",
       "                                      reg_lambda=0.0, silent=True,\n",
       "                                      subsample=1.0, subsample_for_bin=200000,\n",
       "                                      subsample_freq=0),\n",
       "             iid='warn', n_jobs=-1,\n",
       "             param_grid={'learning_rate': [0.2, 0.5, 1],\n",
       "                         'max_depth': [3, 6, 9, 12],\n",
       "                         'n_estimators': [100, 300, 500, 700, 1000],\n",
       "                         'reg_lambda': [0.1, 1, 10, 50]},\n",
       "             pre_dispatch='2*n_jobs', refit=True, return_train_score=False,\n",
       "             scoring='f1', verbose=0)"
      ]
     },
     "execution_count": 137,
     "metadata": {},
     "output_type": "execute_result"
    }
   ],
   "source": [
    "gs_5.fit(X_train, y_train)"
   ]
  },
  {
   "cell_type": "code",
   "execution_count": 138,
   "metadata": {},
   "outputs": [
    {
     "data": {
      "text/plain": [
       "0.7648853983523894"
      ]
     },
     "execution_count": 138,
     "metadata": {},
     "output_type": "execute_result"
    }
   ],
   "source": [
    "gs_5.best_score_"
   ]
  },
  {
   "cell_type": "code",
   "execution_count": 139,
   "metadata": {},
   "outputs": [
    {
     "data": {
      "text/plain": [
       "{'learning_rate': 0.5, 'max_depth': 12, 'n_estimators': 1000, 'reg_lambda': 1}"
      ]
     },
     "execution_count": 139,
     "metadata": {},
     "output_type": "execute_result"
    }
   ],
   "source": [
    "gs_5.best_params_"
   ]
  },
  {
   "cell_type": "code",
   "execution_count": 148,
   "metadata": {},
   "outputs": [],
   "source": [
    "model_4 = lgbm.LGBMClassifier(learning_rate=0.5, n_estimators=1000, max_depth=12, reg_lambda=1, random_state=42)"
   ]
  },
  {
   "cell_type": "code",
   "execution_count": 149,
   "metadata": {},
   "outputs": [
    {
     "data": {
      "text/plain": [
       "LGBMClassifier(boosting_type='gbdt', class_weight=None, colsample_bytree=1.0,\n",
       "               importance_type='split', learning_rate=0.5, max_depth=12,\n",
       "               min_child_samples=20, min_child_weight=0.001, min_split_gain=0.0,\n",
       "               n_estimators=1000, n_jobs=-1, num_leaves=31, objective=None,\n",
       "               random_state=42, reg_alpha=0.0, reg_lambda=1, silent=True,\n",
       "               subsample=1.0, subsample_for_bin=200000, subsample_freq=0)"
      ]
     },
     "execution_count": 149,
     "metadata": {},
     "output_type": "execute_result"
    }
   ],
   "source": [
    "model_4.fit(X_train, y_train)"
   ]
  },
  {
   "cell_type": "code",
   "execution_count": 150,
   "metadata": {},
   "outputs": [],
   "source": [
    "y_train_pred = model_4.predict(X_train)\n",
    "y_test_pred = model_4.predict(X_test)"
   ]
  },
  {
   "cell_type": "code",
   "execution_count": 151,
   "metadata": {},
   "outputs": [
    {
     "name": "stdout",
     "output_type": "stream",
     "text": [
      "TRAIN\n",
      "\n",
      "              precision    recall  f1-score   support\n",
      "\n",
      "           0       1.00      1.00      1.00      4074\n",
      "           1       1.00      1.00      1.00      3102\n",
      "\n",
      "    accuracy                           1.00      7176\n",
      "   macro avg       1.00      1.00      1.00      7176\n",
      "weighted avg       1.00      1.00      1.00      7176\n",
      "\n",
      "TEST\n",
      "\n",
      "              precision    recall  f1-score   support\n",
      "\n",
      "           0       0.74      0.81      0.77      1313\n",
      "           1       0.42      0.32      0.36       562\n",
      "\n",
      "    accuracy                           0.66      1875\n",
      "   macro avg       0.58      0.57      0.57      1875\n",
      "weighted avg       0.64      0.66      0.65      1875\n",
      "\n",
      "CONFUSION MATRIX\n",
      "\n",
      "col_0              0    1\n",
      "Credit Default           \n",
      "0               1063  250\n",
      "1                381  181\n"
     ]
    }
   ],
   "source": [
    "get_classification_report(y_train, y_train_pred, y_test, y_test_pred)"
   ]
  },
  {
   "cell_type": "code",
   "execution_count": 153,
   "metadata": {},
   "outputs": [],
   "source": [
    "y_test_proba = model_4.predict_proba(X_test)"
   ]
  },
  {
   "cell_type": "code",
   "execution_count": 155,
   "metadata": {},
   "outputs": [
    {
     "data": {
      "text/plain": [
       "array([[9.99586709e-01, 4.13290631e-04],\n",
       "       [9.44124503e-01, 5.58754968e-02],\n",
       "       [9.77245109e-01, 2.27548912e-02],\n",
       "       ...,\n",
       "       [3.45771528e-01, 6.54228472e-01],\n",
       "       [8.64773243e-01, 1.35226757e-01],\n",
       "       [9.91414218e-01, 8.58578226e-03]])"
      ]
     },
     "execution_count": 155,
     "metadata": {},
     "output_type": "execute_result"
    }
   ],
   "source": [
    "y_test_proba"
   ]
  },
  {
   "cell_type": "code",
   "execution_count": 159,
   "metadata": {},
   "outputs": [
    {
     "data": {
      "image/png": "[encoded data removed]",
      "text/plain": [
       "<Figure size 1080x360 with 2 Axes>"
      ]
     },
     "metadata": {
      "needs_background": "light"
     },
     "output_type": "display_data"
    }
   ],
   "source": [
    "show_proba_calibration_plots(y_test_proba[:, 1], y_test)"
   ]
  },
  {
   "cell_type": "code",
   "execution_count": 173,
   "metadata": {},
   "outputs": [],
   "source": [
    "params = {'n_estimators': [100, 300, 500, 700, 1000], 'max_depth': [3, 6, 9, 12],\n",
    "          'learning_rate': [0.2, 0.5, 1], 'reg_lambda': [0.1, 1, 10, 50], 'num_leaves': [10, 20, 30, 40, 50]}"
   ]
  },
  {
   "cell_type": "code",
   "execution_count": 174,
   "metadata": {},
   "outputs": [],
   "source": [
    "gs_6 = GridSearchCV(lgbm_model, params, scoring='f1', cv=3, n_jobs=-1)"
   ]
  },
  {
   "cell_type": "code",
   "execution_count": 176,
   "metadata": {},
   "outputs": [
    {
     "name": "stdout",
     "output_type": "stream",
     "text": [
      "Wall time: 5min 11s\n"
     ]
    },
    {
     "data": {
      "text/plain": [
       "GridSearchCV(cv=3, error_score='raise-deprecating',\n",
       "             estimator=LGBMClassifier(boosting_type='gbdt', class_weight=None,\n",
       "                                      colsample_bytree=1.0,\n",
       "                                      importance_type='split',\n",
       "                                      learning_rate=0.1, max_depth=-1,\n",
       "                                      min_child_samples=20,\n",
       "                                      min_child_weight=0.001,\n",
       "                                      min_split_gain=0.0, n_estimators=100,\n",
       "                                      n_jobs=-1, num_leaves=31, objective=None,\n",
       "                                      random_state=42, reg_alpha=0.0,\n",
       "                                      reg_lambda=0.0, silent=True,\n",
       "                                      subsample=1.0, subsample_for_bin=200000,\n",
       "                                      subsample_freq=0),\n",
       "             iid='warn', n_jobs=-1,\n",
       "             param_grid={'learning_rate': [0.2, 0.5, 1],\n",
       "                         'max_depth': [3, 6, 9, 12],\n",
       "                         'n_estimators': [100, 300, 500, 700, 1000],\n",
       "                         'num_leaves': [10, 20, 30, 40, 50],\n",
       "                         'reg_lambda': [0.1, 1, 10, 50]},\n",
       "             pre_dispatch='2*n_jobs', refit=True, return_train_score=False,\n",
       "             scoring='f1', verbose=0)"
      ]
     },
     "execution_count": 176,
     "metadata": {},
     "output_type": "execute_result"
    }
   ],
   "source": [
    "%%time\n",
    "gs_6.fit(X_train, y_train)"
   ]
  },
  {
   "cell_type": "code",
   "execution_count": 177,
   "metadata": {},
   "outputs": [
    {
     "data": {
      "text/plain": [
       "{'learning_rate': 0.2,\n",
       " 'max_depth': 12,\n",
       " 'n_estimators': 300,\n",
       " 'num_leaves': 50,\n",
       " 'reg_lambda': 1}"
      ]
     },
     "execution_count": 177,
     "metadata": {},
     "output_type": "execute_result"
    }
   ],
   "source": [
    "gs_6.best_params_"
   ]
  },
  {
   "cell_type": "code",
   "execution_count": 178,
   "metadata": {},
   "outputs": [
    {
     "data": {
      "text/plain": [
       "0.7687371690620529"
      ]
     },
     "execution_count": 178,
     "metadata": {},
     "output_type": "execute_result"
    }
   ],
   "source": [
    "gs_6.best_score_"
   ]
  },
  {
   "cell_type": "code",
   "execution_count": 179,
   "metadata": {},
   "outputs": [],
   "source": [
    "model_5 = lgbm.LGBMClassifier(learning_rate=0.2, n_estimators=300, max_depth=12, reg_lambda=1, num_leaves=50, random_state=42)"
   ]
  },
  {
   "cell_type": "code",
   "execution_count": 180,
   "metadata": {},
   "outputs": [
    {
     "data": {
      "text/plain": [
       "LGBMClassifier(boosting_type='gbdt', class_weight=None, colsample_bytree=1.0,\n",
       "               importance_type='split', learning_rate=0.2, max_depth=12,\n",
       "               min_child_samples=20, min_child_weight=0.001, min_split_gain=0.0,\n",
       "               n_estimators=300, n_jobs=-1, num_leaves=50, objective=None,\n",
       "               random_state=42, reg_alpha=0.0, reg_lambda=1, silent=True,\n",
       "               subsample=1.0, subsample_for_bin=200000, subsample_freq=0)"
      ]
     },
     "execution_count": 180,
     "metadata": {},
     "output_type": "execute_result"
    }
   ],
   "source": [
    "model_5.fit(X_train, y_train)"
   ]
  },
  {
   "cell_type": "code",
   "execution_count": 181,
   "metadata": {},
   "outputs": [],
   "source": [
    "y_train_pred = model_5.predict(X_train)\n",
    "y_test_pred = model_5.predict(X_test)"
   ]
  },
  {
   "cell_type": "code",
   "execution_count": 182,
   "metadata": {},
   "outputs": [
    {
     "name": "stdout",
     "output_type": "stream",
     "text": [
      "TRAIN\n",
      "\n",
      "              precision    recall  f1-score   support\n",
      "\n",
      "           0       1.00      1.00      1.00      4074\n",
      "           1       1.00      1.00      1.00      3102\n",
      "\n",
      "    accuracy                           1.00      7176\n",
      "   macro avg       1.00      1.00      1.00      7176\n",
      "weighted avg       1.00      1.00      1.00      7176\n",
      "\n",
      "TEST\n",
      "\n",
      "              precision    recall  f1-score   support\n",
      "\n",
      "           0       0.74      0.83      0.78      1313\n",
      "           1       0.44      0.32      0.37       562\n",
      "\n",
      "    accuracy                           0.68      1875\n",
      "   macro avg       0.59      0.58      0.58      1875\n",
      "weighted avg       0.65      0.68      0.66      1875\n",
      "\n",
      "CONFUSION MATRIX\n",
      "\n",
      "col_0              0    1\n",
      "Credit Default           \n",
      "0               1085  228\n",
      "1                380  182\n"
     ]
    }
   ],
   "source": [
    "get_classification_report(y_train, y_train_pred, y_test, y_test_pred)"
   ]
  },
  {
   "cell_type": "code",
   "execution_count": 183,
   "metadata": {},
   "outputs": [],
   "source": [
    "y_test_proba = model_5.predict_proba(X_test)"
   ]
  },
  {
   "cell_type": "code",
   "execution_count": 186,
   "metadata": {},
   "outputs": [
    {
     "data": {
      "image/png": "[encoded data removed]",
      "text/plain": [
       "<Figure size 1080x360 with 2 Axes>"
      ]
     },
     "metadata": {
      "needs_background": "light"
     },
     "output_type": "display_data"
    }
   ],
   "source": [
    "show_proba_calibration_plots(y_test_proba[:, 1], y_test)"
   ]
  },
  {
   "cell_type": "code",
   "execution_count": null,
   "metadata": {},
   "outputs": [],
   "source": []
  }
 ],
 "metadata": {
  "kernelspec": {
   "display_name": "Python 3",
   "language": "python",
   "name": "python3"
  },
  "language_info": {
   "codemirror_mode": {
    "name": "ipython",
    "version": 3
   },
   "file_extension": ".py",
   "mimetype": "text/x-python",
   "name": "python",
   "nbconvert_exporter": "python",
   "pygments_lexer": "ipython3",
   "version": "3.7.3"
  }
 },
 "nbformat": 4,
 "nbformat_minor": 2
}
